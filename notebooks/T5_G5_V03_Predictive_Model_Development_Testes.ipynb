{
  "cells": [
    {
      "cell_type": "code",
      "execution_count": 1,
      "metadata": {
        "colab": {
          "base_uri": "https://localhost:8080/"
        },
        "id": "qxmTwWzKvbjD",
        "outputId": "4528555b-da20-4422-e2d2-b14150f20718"
      },
      "outputs": [
        {
          "output_type": "stream",
          "name": "stdout",
          "text": [
            "Mounted at /content/drive\n"
          ]
        }
      ],
      "source": [
        "from google.colab import drive\n",
        "drive.mount('/content/drive') "
      ]
    },
    {
      "cell_type": "code",
      "execution_count": 2,
      "metadata": {
        "id": "_Y_fXauvvI4S"
      },
      "outputs": [],
      "source": [
        "import pandas as pd #para ler, visualizar e printar infos do df\n",
        "import matplotlib.pyplot as plt #para construir e customizar gráficos\n",
        "import seaborn as sns #para visualizar uns gráficos\n",
        "import numpy as np #numpy porque é sempre bom importar numpy né \n",
        "import math\n",
        "import datetime\n",
        "import plotly.express as px"
      ]
    },
    {
      "cell_type": "markdown",
      "metadata": {
        "id": "RGB9JBGYxWUs"
      },
      "source": [
        "# Carregando conjunto de dados e tratamentos iniciais"
      ]
    },
    {
      "cell_type": "code",
      "execution_count": 3,
      "metadata": {
        "colab": {
          "base_uri": "https://localhost:8080/",
          "height": 299
        },
        "id": "gNOm23QMLMeo",
        "outputId": "f0102caa-e819-4f2a-d8c7-58a7e49e5a61"
      },
      "outputs": [
        {
          "output_type": "execute_result",
          "data": {
            "text/plain": [
              "   record_id  idade_no_primeiro_diagnostico  sexo  ultima_informacao  \\\n",
              "0        302                           51.0     0                0.0   \n",
              "1        710                           58.0     0                1.0   \n",
              "2        752                           56.0     0                1.0   \n",
              "3       1367                           63.0     0                0.0   \n",
              "4       1589                           42.0     0                1.0   \n",
              "\n",
              "   ja_ficou_gravida  ja_usou_drogas  realiza_atividades_fisicas  \\\n",
              "0                 2               2                           4   \n",
              "1                 2               2                           4   \n",
              "2                 2               2                           4   \n",
              "3                 2               2                           4   \n",
              "4                 2               2                           4   \n",
              "\n",
              "   consumo_de_tabaco  consumo_de_alcool  possui_historico_familiar_de_cancer  \\\n",
              "0                  3                  3                                    2   \n",
              "1                  3                  3                                    2   \n",
              "2                  3                  3                                    2   \n",
              "3                  3                  3                                    2   \n",
              "4                  3                  3                                    2   \n",
              "\n",
              "   ...  grupo_estadio_clinico  classificacao_tnm_clinico_t  \\\n",
              "0  ...                    2.0                            2   \n",
              "1  ...                    3.0                            3   \n",
              "2  ...                    2.0                            2   \n",
              "3  ...                    2.0                            1   \n",
              "4  ...                    2.0                            2   \n",
              "\n",
              "   classificacao_tnm_clinico_n  classificacao_tnm_clinico_m  \\\n",
              "0                            0                            0   \n",
              "1                            1                            0   \n",
              "2                            0                            0   \n",
              "3                            1                            0   \n",
              "4                            1                            0   \n",
              "\n",
              "   combinacao_dos_tratamentos_realizados_no_hospital  \\\n",
              "0               Cirurgia + Radio + Quimio + Hormonio   \n",
              "1                           Cirurgia + Quimioterapia   \n",
              "2                                 Outras combinações   \n",
              "3                                 Outras combinações   \n",
              "4                          Cirurgia + Radio + Quimio   \n",
              "\n",
              "    classificacao_tnm_patologico_n  classificacao_tnm_patologico_t  \\\n",
              "0                    Nao informado                   Nao informado   \n",
              "1                    Nao informado                   Nao informado   \n",
              "2  X - nao foi possivel determinar                               2   \n",
              "3                                1                              1A   \n",
              "4                    Nao informado                   Nao informado   \n",
              "\n",
              "   com_recidiva_a_distancia  com_recidiva_regional  com_recidiva_local  \n",
              "0                         0                      0                   0  \n",
              "1                         0                      1                   1  \n",
              "2                         0                      0                   0  \n",
              "3                         0                      1                   0  \n",
              "4                         0                      0                   0  \n",
              "\n",
              "[5 rows x 47 columns]"
            ],
            "text/html": [
              "\n",
              "  <div id=\"df-dd51c041-de73-49d6-aaa3-3eb0bdbe812e\">\n",
              "    <div class=\"colab-df-container\">\n",
              "      <div>\n",
              "<style scoped>\n",
              "    .dataframe tbody tr th:only-of-type {\n",
              "        vertical-align: middle;\n",
              "    }\n",
              "\n",
              "    .dataframe tbody tr th {\n",
              "        vertical-align: top;\n",
              "    }\n",
              "\n",
              "    .dataframe thead th {\n",
              "        text-align: right;\n",
              "    }\n",
              "</style>\n",
              "<table border=\"1\" class=\"dataframe\">\n",
              "  <thead>\n",
              "    <tr style=\"text-align: right;\">\n",
              "      <th></th>\n",
              "      <th>record_id</th>\n",
              "      <th>idade_no_primeiro_diagnostico</th>\n",
              "      <th>sexo</th>\n",
              "      <th>ultima_informacao</th>\n",
              "      <th>ja_ficou_gravida</th>\n",
              "      <th>ja_usou_drogas</th>\n",
              "      <th>realiza_atividades_fisicas</th>\n",
              "      <th>consumo_de_tabaco</th>\n",
              "      <th>consumo_de_alcool</th>\n",
              "      <th>possui_historico_familiar_de_cancer</th>\n",
              "      <th>...</th>\n",
              "      <th>grupo_estadio_clinico</th>\n",
              "      <th>classificacao_tnm_clinico_t</th>\n",
              "      <th>classificacao_tnm_clinico_n</th>\n",
              "      <th>classificacao_tnm_clinico_m</th>\n",
              "      <th>combinacao_dos_tratamentos_realizados_no_hospital</th>\n",
              "      <th>classificacao_tnm_patologico_n</th>\n",
              "      <th>classificacao_tnm_patologico_t</th>\n",
              "      <th>com_recidiva_a_distancia</th>\n",
              "      <th>com_recidiva_regional</th>\n",
              "      <th>com_recidiva_local</th>\n",
              "    </tr>\n",
              "  </thead>\n",
              "  <tbody>\n",
              "    <tr>\n",
              "      <th>0</th>\n",
              "      <td>302</td>\n",
              "      <td>51.0</td>\n",
              "      <td>0</td>\n",
              "      <td>0.0</td>\n",
              "      <td>2</td>\n",
              "      <td>2</td>\n",
              "      <td>4</td>\n",
              "      <td>3</td>\n",
              "      <td>3</td>\n",
              "      <td>2</td>\n",
              "      <td>...</td>\n",
              "      <td>2.0</td>\n",
              "      <td>2</td>\n",
              "      <td>0</td>\n",
              "      <td>0</td>\n",
              "      <td>Cirurgia + Radio + Quimio + Hormonio</td>\n",
              "      <td>Nao informado</td>\n",
              "      <td>Nao informado</td>\n",
              "      <td>0</td>\n",
              "      <td>0</td>\n",
              "      <td>0</td>\n",
              "    </tr>\n",
              "    <tr>\n",
              "      <th>1</th>\n",
              "      <td>710</td>\n",
              "      <td>58.0</td>\n",
              "      <td>0</td>\n",
              "      <td>1.0</td>\n",
              "      <td>2</td>\n",
              "      <td>2</td>\n",
              "      <td>4</td>\n",
              "      <td>3</td>\n",
              "      <td>3</td>\n",
              "      <td>2</td>\n",
              "      <td>...</td>\n",
              "      <td>3.0</td>\n",
              "      <td>3</td>\n",
              "      <td>1</td>\n",
              "      <td>0</td>\n",
              "      <td>Cirurgia + Quimioterapia</td>\n",
              "      <td>Nao informado</td>\n",
              "      <td>Nao informado</td>\n",
              "      <td>0</td>\n",
              "      <td>1</td>\n",
              "      <td>1</td>\n",
              "    </tr>\n",
              "    <tr>\n",
              "      <th>2</th>\n",
              "      <td>752</td>\n",
              "      <td>56.0</td>\n",
              "      <td>0</td>\n",
              "      <td>1.0</td>\n",
              "      <td>2</td>\n",
              "      <td>2</td>\n",
              "      <td>4</td>\n",
              "      <td>3</td>\n",
              "      <td>3</td>\n",
              "      <td>2</td>\n",
              "      <td>...</td>\n",
              "      <td>2.0</td>\n",
              "      <td>2</td>\n",
              "      <td>0</td>\n",
              "      <td>0</td>\n",
              "      <td>Outras combinações</td>\n",
              "      <td>X - nao foi possivel determinar</td>\n",
              "      <td>2</td>\n",
              "      <td>0</td>\n",
              "      <td>0</td>\n",
              "      <td>0</td>\n",
              "    </tr>\n",
              "    <tr>\n",
              "      <th>3</th>\n",
              "      <td>1367</td>\n",
              "      <td>63.0</td>\n",
              "      <td>0</td>\n",
              "      <td>0.0</td>\n",
              "      <td>2</td>\n",
              "      <td>2</td>\n",
              "      <td>4</td>\n",
              "      <td>3</td>\n",
              "      <td>3</td>\n",
              "      <td>2</td>\n",
              "      <td>...</td>\n",
              "      <td>2.0</td>\n",
              "      <td>1</td>\n",
              "      <td>1</td>\n",
              "      <td>0</td>\n",
              "      <td>Outras combinações</td>\n",
              "      <td>1</td>\n",
              "      <td>1A</td>\n",
              "      <td>0</td>\n",
              "      <td>1</td>\n",
              "      <td>0</td>\n",
              "    </tr>\n",
              "    <tr>\n",
              "      <th>4</th>\n",
              "      <td>1589</td>\n",
              "      <td>42.0</td>\n",
              "      <td>0</td>\n",
              "      <td>1.0</td>\n",
              "      <td>2</td>\n",
              "      <td>2</td>\n",
              "      <td>4</td>\n",
              "      <td>3</td>\n",
              "      <td>3</td>\n",
              "      <td>2</td>\n",
              "      <td>...</td>\n",
              "      <td>2.0</td>\n",
              "      <td>2</td>\n",
              "      <td>1</td>\n",
              "      <td>0</td>\n",
              "      <td>Cirurgia + Radio + Quimio</td>\n",
              "      <td>Nao informado</td>\n",
              "      <td>Nao informado</td>\n",
              "      <td>0</td>\n",
              "      <td>0</td>\n",
              "      <td>0</td>\n",
              "    </tr>\n",
              "  </tbody>\n",
              "</table>\n",
              "<p>5 rows × 47 columns</p>\n",
              "</div>\n",
              "      <button class=\"colab-df-convert\" onclick=\"convertToInteractive('df-dd51c041-de73-49d6-aaa3-3eb0bdbe812e')\"\n",
              "              title=\"Convert this dataframe to an interactive table.\"\n",
              "              style=\"display:none;\">\n",
              "        \n",
              "  <svg xmlns=\"http://www.w3.org/2000/svg\" height=\"24px\"viewBox=\"0 0 24 24\"\n",
              "       width=\"24px\">\n",
              "    <path d=\"M0 0h24v24H0V0z\" fill=\"none\"/>\n",
              "    <path d=\"M18.56 5.44l.94 2.06.94-2.06 2.06-.94-2.06-.94-.94-2.06-.94 2.06-2.06.94zm-11 1L8.5 8.5l.94-2.06 2.06-.94-2.06-.94L8.5 2.5l-.94 2.06-2.06.94zm10 10l.94 2.06.94-2.06 2.06-.94-2.06-.94-.94-2.06-.94 2.06-2.06.94z\"/><path d=\"M17.41 7.96l-1.37-1.37c-.4-.4-.92-.59-1.43-.59-.52 0-1.04.2-1.43.59L10.3 9.45l-7.72 7.72c-.78.78-.78 2.05 0 2.83L4 21.41c.39.39.9.59 1.41.59.51 0 1.02-.2 1.41-.59l7.78-7.78 2.81-2.81c.8-.78.8-2.07 0-2.86zM5.41 20L4 18.59l7.72-7.72 1.47 1.35L5.41 20z\"/>\n",
              "  </svg>\n",
              "      </button>\n",
              "      \n",
              "  <style>\n",
              "    .colab-df-container {\n",
              "      display:flex;\n",
              "      flex-wrap:wrap;\n",
              "      gap: 12px;\n",
              "    }\n",
              "\n",
              "    .colab-df-convert {\n",
              "      background-color: #E8F0FE;\n",
              "      border: none;\n",
              "      border-radius: 50%;\n",
              "      cursor: pointer;\n",
              "      display: none;\n",
              "      fill: #1967D2;\n",
              "      height: 32px;\n",
              "      padding: 0 0 0 0;\n",
              "      width: 32px;\n",
              "    }\n",
              "\n",
              "    .colab-df-convert:hover {\n",
              "      background-color: #E2EBFA;\n",
              "      box-shadow: 0px 1px 2px rgba(60, 64, 67, 0.3), 0px 1px 3px 1px rgba(60, 64, 67, 0.15);\n",
              "      fill: #174EA6;\n",
              "    }\n",
              "\n",
              "    [theme=dark] .colab-df-convert {\n",
              "      background-color: #3B4455;\n",
              "      fill: #D2E3FC;\n",
              "    }\n",
              "\n",
              "    [theme=dark] .colab-df-convert:hover {\n",
              "      background-color: #434B5C;\n",
              "      box-shadow: 0px 1px 3px 1px rgba(0, 0, 0, 0.15);\n",
              "      filter: drop-shadow(0px 1px 2px rgba(0, 0, 0, 0.3));\n",
              "      fill: #FFFFFF;\n",
              "    }\n",
              "  </style>\n",
              "\n",
              "      <script>\n",
              "        const buttonEl =\n",
              "          document.querySelector('#df-dd51c041-de73-49d6-aaa3-3eb0bdbe812e button.colab-df-convert');\n",
              "        buttonEl.style.display =\n",
              "          google.colab.kernel.accessAllowed ? 'block' : 'none';\n",
              "\n",
              "        async function convertToInteractive(key) {\n",
              "          const element = document.querySelector('#df-dd51c041-de73-49d6-aaa3-3eb0bdbe812e');\n",
              "          const dataTable =\n",
              "            await google.colab.kernel.invokeFunction('convertToInteractive',\n",
              "                                                     [key], {});\n",
              "          if (!dataTable) return;\n",
              "\n",
              "          const docLinkHtml = 'Like what you see? Visit the ' +\n",
              "            '<a target=\"_blank\" href=https://colab.research.google.com/notebooks/data_table.ipynb>data table notebook</a>'\n",
              "            + ' to learn more about interactive tables.';\n",
              "          element.innerHTML = '';\n",
              "          dataTable['output_type'] = 'display_data';\n",
              "          await google.colab.output.renderOutput(dataTable, element);\n",
              "          const docLink = document.createElement('div');\n",
              "          docLink.innerHTML = docLinkHtml;\n",
              "          element.appendChild(docLink);\n",
              "        }\n",
              "      </script>\n",
              "    </div>\n",
              "  </div>\n",
              "  "
            ]
          },
          "metadata": {},
          "execution_count": 3
        }
      ],
      "source": [
        "df = pd.read_csv('/content/drive/Shareddrives/OncoAI/Grupo 5 - OncoAI/Projeto/Base_de_dados/Merge_Trat.csv')\n",
        "df.head()"
      ]
    },
    {
      "cell_type": "code",
      "execution_count": 4,
      "metadata": {
        "colab": {
          "base_uri": "https://localhost:8080/"
        },
        "id": "yLkLmj_gIzfW",
        "outputId": "bf3ff73a-7a44-48f8-b9b1-92b14c57d7ab"
      },
      "outputs": [
        {
          "output_type": "execute_result",
          "data": {
            "text/plain": [
              "(3791, 47)"
            ]
          },
          "metadata": {},
          "execution_count": 4
        }
      ],
      "source": [
        "df.shape"
      ]
    },
    {
      "cell_type": "code",
      "execution_count": 5,
      "metadata": {
        "colab": {
          "base_uri": "https://localhost:8080/"
        },
        "id": "1Yg8WmzRd2m_",
        "outputId": "97183d36-4db2-4abd-97c2-30141d947953"
      },
      "outputs": [
        {
          "output_type": "execute_result",
          "data": {
            "text/plain": [
              "record_id                                                                 0.000000\n",
              "idade_no_primeiro_diagnostico                                             0.000000\n",
              "sexo                                                                      0.000000\n",
              "ultima_informacao                                                         0.000528\n",
              "ja_ficou_gravida                                                          0.000000\n",
              "ja_usou_drogas                                                            0.000000\n",
              "realiza_atividades_fisicas                                                0.000000\n",
              "consumo_de_tabaco                                                         0.000000\n",
              "consumo_de_alcool                                                         0.000000\n",
              "possui_historico_familiar_de_cancer                                       0.000000\n",
              "grau_de_parentesco(choice=primeiro(pais,_irmaos,_filhos))                 0.000000\n",
              "grau_de_parentesco(choice=segundo(avós,_tios_e_netos))                    0.000000\n",
              "grau_de_parentesco(choice=terceiro(bisavós,tio_avós,primos,sobrinhos))    0.000000\n",
              "regime_tratamento                                                         0.322342\n",
              "tipo_de_terapia_anti-her2_neoadjuvante                                    0.734898\n",
              "data_entrada                                                              0.000000\n",
              "peso_inicial                                                              0.000000\n",
              "altura_cm                                                                 0.000000\n",
              "IMC                                                                       0.000000\n",
              "peso_max                                                                  0.000000\n",
              "peso_min                                                                  0.000000\n",
              "diagnostico_primario_tipo_histologico                                     0.383012\n",
              "grau_histologico                                                          0.000000\n",
              "subtipo_tumoral                                                           0.000000\n",
              "receptor_de_estrogenio                                                    0.000000\n",
              "receptor_de_progesterona                                                  0.000000\n",
              "ki67_maior_14_percentage                                                  0.000000\n",
              "receptor_de_progesterona_quantificacao_percentage                         0.000000\n",
              "receptor_de_estrogenio_quantificacao_percentage                           0.000000\n",
              "indice_h_receptor_de_progesterona                                         0.000000\n",
              "her2_por_ihc                                                              0.000000\n",
              "her2_por_fish                                                             0.000000\n",
              "ki67_percentage                                                           0.000000\n",
              "data_primeira_consulta_institucional                                      0.000000\n",
              "codigo_topografia_cid_0                                                   0.000000\n",
              "codigo_morfologia_de_acordo_com_o_cid_o                                   0.000000\n",
              "estadio_clinico                                                           0.000000\n",
              "grupo_estadio_clinico                                                     0.049855\n",
              "classificacao_tnm_clinico_t                                               0.000000\n",
              "classificacao_tnm_clinico_n                                               0.000000\n",
              "classificacao_tnm_clinico_m                                               0.000000\n",
              "combinacao_dos_tratamentos_realizados_no_hospital                         0.000000\n",
              "classificacao_tnm_patologico_n                                            0.000000\n",
              "classificacao_tnm_patologico_t                                            0.000000\n",
              "com_recidiva_a_distancia                                                  0.000000\n",
              "com_recidiva_regional                                                     0.000000\n",
              "com_recidiva_local                                                        0.000000\n",
              "dtype: float64"
            ]
          },
          "metadata": {},
          "execution_count": 5
        }
      ],
      "source": [
        "#porcentagem de nulos\n",
        "null_demografico = df.isna()\n",
        "pct_null_demografico = null_demografico.sum() / len(df)\n",
        "pct_null_demografico"
      ]
    },
    {
      "cell_type": "code",
      "execution_count": 6,
      "metadata": {
        "colab": {
          "base_uri": "https://localhost:8080/"
        },
        "id": "BUsTK4AuRS2G",
        "outputId": "5da6177a-8d04-4b82-b99b-95a848c9411e"
      },
      "outputs": [
        {
          "output_type": "execute_result",
          "data": {
            "text/plain": [
              "Index(['record_id', 'idade_no_primeiro_diagnostico', 'sexo',\n",
              "       'ultima_informacao', 'ja_ficou_gravida', 'ja_usou_drogas',\n",
              "       'realiza_atividades_fisicas', 'consumo_de_tabaco', 'consumo_de_alcool',\n",
              "       'possui_historico_familiar_de_cancer',\n",
              "       'grau_de_parentesco(choice=primeiro(pais,_irmaos,_filhos))',\n",
              "       'grau_de_parentesco(choice=segundo(avós,_tios_e_netos))',\n",
              "       'grau_de_parentesco(choice=terceiro(bisavós,tio_avós,primos,sobrinhos))',\n",
              "       'regime_tratamento', 'tipo_de_terapia_anti-her2_neoadjuvante',\n",
              "       'data_entrada', 'peso_inicial', 'altura_cm', 'IMC', 'peso_max',\n",
              "       'peso_min', 'diagnostico_primario_tipo_histologico', 'grau_histologico',\n",
              "       'subtipo_tumoral', 'receptor_de_estrogenio', 'receptor_de_progesterona',\n",
              "       'ki67_maior_14_percentage',\n",
              "       'receptor_de_progesterona_quantificacao_percentage',\n",
              "       'receptor_de_estrogenio_quantificacao_percentage',\n",
              "       'indice_h_receptor_de_progesterona', 'her2_por_ihc', 'her2_por_fish',\n",
              "       'ki67_percentage', 'data_primeira_consulta_institucional',\n",
              "       'codigo_topografia_cid_0', 'codigo_morfologia_de_acordo_com_o_cid_o',\n",
              "       'estadio_clinico', 'grupo_estadio_clinico',\n",
              "       'classificacao_tnm_clinico_t', 'classificacao_tnm_clinico_n',\n",
              "       'classificacao_tnm_clinico_m',\n",
              "       'combinacao_dos_tratamentos_realizados_no_hospital',\n",
              "       'classificacao_tnm_patologico_n', 'classificacao_tnm_patologico_t',\n",
              "       'com_recidiva_a_distancia', 'com_recidiva_regional',\n",
              "       'com_recidiva_local'],\n",
              "      dtype='object')"
            ]
          },
          "metadata": {},
          "execution_count": 6
        }
      ],
      "source": [
        "df.columns"
      ]
    },
    {
      "cell_type": "markdown",
      "metadata": {
        "id": "MBNj6YKGdE5J"
      },
      "source": [
        "# Criando um dataframe com as colunas que serãoo utilizadas nos testes"
      ]
    },
    {
      "cell_type": "code",
      "execution_count": 7,
      "metadata": {
        "id": "H4s__3FbG-0I"
      },
      "outputs": [],
      "source": [
        "test = df[['grau_histologico','ki67_maior_14_percentage','subtipo_tumoral','receptor_de_progesterona','receptor_de_estrogenio','her2_por_ihc','her2_por_fish','grupo_estadio_clinico','classificacao_tnm_clinico_t','com_recidiva_regional','com_recidiva_a_distancia','com_recidiva_local','ultima_informacao','regime_tratamento','IMC']]"
      ]
    },
    {
      "cell_type": "markdown",
      "metadata": {
        "id": "C9pPQFnXLXbr"
      },
      "source": [
        "## Ajustando pesos pelas recidivas"
      ]
    },
    {
      "cell_type": "code",
      "execution_count": 8,
      "metadata": {
        "colab": {
          "base_uri": "https://localhost:8080/",
          "height": 0
        },
        "id": "RhCrdUd_ED77",
        "outputId": "e26e6d02-f6ca-4f05-d061-bd14dd1225c2"
      },
      "outputs": [
        {
          "output_type": "stream",
          "name": "stderr",
          "text": [
            "<ipython-input-8-461893c184ee>:7: SettingWithCopyWarning: \n",
            "A value is trying to be set on a copy of a slice from a DataFrame.\n",
            "Try using .loc[row_indexer,col_indexer] = value instead\n",
            "\n",
            "See the caveats in the documentation: https://pandas.pydata.org/pandas-docs/stable/user_guide/indexing.html#returning-a-view-versus-a-copy\n",
            "  test[\"peso_do_id\"] = pesos\n"
          ]
        },
        {
          "output_type": "execute_result",
          "data": {
            "text/plain": [
              "   grau_histologico  ki67_maior_14_percentage  subtipo_tumoral  \\\n",
              "0               2.0                         3              5.0   \n",
              "1               2.0                         1              2.0   \n",
              "2               2.0                         3              3.0   \n",
              "3               2.0                         1              2.0   \n",
              "4               2.0                         3              5.0   \n",
              "\n",
              "   receptor_de_progesterona  receptor_de_estrogenio  her2_por_ihc  \\\n",
              "0                         1                       1             3   \n",
              "1                         0                       1             0   \n",
              "2                         3                       2             3   \n",
              "3                         1                       1             0   \n",
              "4                         1                       1             3   \n",
              "\n",
              "   her2_por_fish  grupo_estadio_clinico classificacao_tnm_clinico_t  \\\n",
              "0              4                    2.0                           2   \n",
              "1              4                    3.0                           3   \n",
              "2              4                    2.0                           2   \n",
              "3              4                    2.0                           1   \n",
              "4              4                    2.0                           2   \n",
              "\n",
              "   com_recidiva_regional  com_recidiva_a_distancia  com_recidiva_local  \\\n",
              "0                      0                         0                   0   \n",
              "1                      1                         0                   1   \n",
              "2                      0                         0                   0   \n",
              "3                      1                         0                   0   \n",
              "4                      0                         0                   0   \n",
              "\n",
              "   ultima_informacao  regime_tratamento        IMC  peso_do_id  \n",
              "0                0.0                NaN  23.120000           0  \n",
              "1                1.0                0.0  25.416667          -1  \n",
              "2                1.0                NaN  36.521739           0  \n",
              "3                0.0                NaN  28.950000          -1  \n",
              "4                1.0                NaN  22.571429           0  "
            ],
            "text/html": [
              "\n",
              "  <div id=\"df-7c7dd673-2c79-493c-8d7a-af0a3ee99843\">\n",
              "    <div class=\"colab-df-container\">\n",
              "      <div>\n",
              "<style scoped>\n",
              "    .dataframe tbody tr th:only-of-type {\n",
              "        vertical-align: middle;\n",
              "    }\n",
              "\n",
              "    .dataframe tbody tr th {\n",
              "        vertical-align: top;\n",
              "    }\n",
              "\n",
              "    .dataframe thead th {\n",
              "        text-align: right;\n",
              "    }\n",
              "</style>\n",
              "<table border=\"1\" class=\"dataframe\">\n",
              "  <thead>\n",
              "    <tr style=\"text-align: right;\">\n",
              "      <th></th>\n",
              "      <th>grau_histologico</th>\n",
              "      <th>ki67_maior_14_percentage</th>\n",
              "      <th>subtipo_tumoral</th>\n",
              "      <th>receptor_de_progesterona</th>\n",
              "      <th>receptor_de_estrogenio</th>\n",
              "      <th>her2_por_ihc</th>\n",
              "      <th>her2_por_fish</th>\n",
              "      <th>grupo_estadio_clinico</th>\n",
              "      <th>classificacao_tnm_clinico_t</th>\n",
              "      <th>com_recidiva_regional</th>\n",
              "      <th>com_recidiva_a_distancia</th>\n",
              "      <th>com_recidiva_local</th>\n",
              "      <th>ultima_informacao</th>\n",
              "      <th>regime_tratamento</th>\n",
              "      <th>IMC</th>\n",
              "      <th>peso_do_id</th>\n",
              "    </tr>\n",
              "  </thead>\n",
              "  <tbody>\n",
              "    <tr>\n",
              "      <th>0</th>\n",
              "      <td>2.0</td>\n",
              "      <td>3</td>\n",
              "      <td>5.0</td>\n",
              "      <td>1</td>\n",
              "      <td>1</td>\n",
              "      <td>3</td>\n",
              "      <td>4</td>\n",
              "      <td>2.0</td>\n",
              "      <td>2</td>\n",
              "      <td>0</td>\n",
              "      <td>0</td>\n",
              "      <td>0</td>\n",
              "      <td>0.0</td>\n",
              "      <td>NaN</td>\n",
              "      <td>23.120000</td>\n",
              "      <td>0</td>\n",
              "    </tr>\n",
              "    <tr>\n",
              "      <th>1</th>\n",
              "      <td>2.0</td>\n",
              "      <td>1</td>\n",
              "      <td>2.0</td>\n",
              "      <td>0</td>\n",
              "      <td>1</td>\n",
              "      <td>0</td>\n",
              "      <td>4</td>\n",
              "      <td>3.0</td>\n",
              "      <td>3</td>\n",
              "      <td>1</td>\n",
              "      <td>0</td>\n",
              "      <td>1</td>\n",
              "      <td>1.0</td>\n",
              "      <td>0.0</td>\n",
              "      <td>25.416667</td>\n",
              "      <td>-1</td>\n",
              "    </tr>\n",
              "    <tr>\n",
              "      <th>2</th>\n",
              "      <td>2.0</td>\n",
              "      <td>3</td>\n",
              "      <td>3.0</td>\n",
              "      <td>3</td>\n",
              "      <td>2</td>\n",
              "      <td>3</td>\n",
              "      <td>4</td>\n",
              "      <td>2.0</td>\n",
              "      <td>2</td>\n",
              "      <td>0</td>\n",
              "      <td>0</td>\n",
              "      <td>0</td>\n",
              "      <td>1.0</td>\n",
              "      <td>NaN</td>\n",
              "      <td>36.521739</td>\n",
              "      <td>0</td>\n",
              "    </tr>\n",
              "    <tr>\n",
              "      <th>3</th>\n",
              "      <td>2.0</td>\n",
              "      <td>1</td>\n",
              "      <td>2.0</td>\n",
              "      <td>1</td>\n",
              "      <td>1</td>\n",
              "      <td>0</td>\n",
              "      <td>4</td>\n",
              "      <td>2.0</td>\n",
              "      <td>1</td>\n",
              "      <td>1</td>\n",
              "      <td>0</td>\n",
              "      <td>0</td>\n",
              "      <td>0.0</td>\n",
              "      <td>NaN</td>\n",
              "      <td>28.950000</td>\n",
              "      <td>-1</td>\n",
              "    </tr>\n",
              "    <tr>\n",
              "      <th>4</th>\n",
              "      <td>2.0</td>\n",
              "      <td>3</td>\n",
              "      <td>5.0</td>\n",
              "      <td>1</td>\n",
              "      <td>1</td>\n",
              "      <td>3</td>\n",
              "      <td>4</td>\n",
              "      <td>2.0</td>\n",
              "      <td>2</td>\n",
              "      <td>0</td>\n",
              "      <td>0</td>\n",
              "      <td>0</td>\n",
              "      <td>1.0</td>\n",
              "      <td>NaN</td>\n",
              "      <td>22.571429</td>\n",
              "      <td>0</td>\n",
              "    </tr>\n",
              "  </tbody>\n",
              "</table>\n",
              "</div>\n",
              "      <button class=\"colab-df-convert\" onclick=\"convertToInteractive('df-7c7dd673-2c79-493c-8d7a-af0a3ee99843')\"\n",
              "              title=\"Convert this dataframe to an interactive table.\"\n",
              "              style=\"display:none;\">\n",
              "        \n",
              "  <svg xmlns=\"http://www.w3.org/2000/svg\" height=\"24px\"viewBox=\"0 0 24 24\"\n",
              "       width=\"24px\">\n",
              "    <path d=\"M0 0h24v24H0V0z\" fill=\"none\"/>\n",
              "    <path d=\"M18.56 5.44l.94 2.06.94-2.06 2.06-.94-2.06-.94-.94-2.06-.94 2.06-2.06.94zm-11 1L8.5 8.5l.94-2.06 2.06-.94-2.06-.94L8.5 2.5l-.94 2.06-2.06.94zm10 10l.94 2.06.94-2.06 2.06-.94-2.06-.94-.94-2.06-.94 2.06-2.06.94z\"/><path d=\"M17.41 7.96l-1.37-1.37c-.4-.4-.92-.59-1.43-.59-.52 0-1.04.2-1.43.59L10.3 9.45l-7.72 7.72c-.78.78-.78 2.05 0 2.83L4 21.41c.39.39.9.59 1.41.59.51 0 1.02-.2 1.41-.59l7.78-7.78 2.81-2.81c.8-.78.8-2.07 0-2.86zM5.41 20L4 18.59l7.72-7.72 1.47 1.35L5.41 20z\"/>\n",
              "  </svg>\n",
              "      </button>\n",
              "      \n",
              "  <style>\n",
              "    .colab-df-container {\n",
              "      display:flex;\n",
              "      flex-wrap:wrap;\n",
              "      gap: 12px;\n",
              "    }\n",
              "\n",
              "    .colab-df-convert {\n",
              "      background-color: #E8F0FE;\n",
              "      border: none;\n",
              "      border-radius: 50%;\n",
              "      cursor: pointer;\n",
              "      display: none;\n",
              "      fill: #1967D2;\n",
              "      height: 32px;\n",
              "      padding: 0 0 0 0;\n",
              "      width: 32px;\n",
              "    }\n",
              "\n",
              "    .colab-df-convert:hover {\n",
              "      background-color: #E2EBFA;\n",
              "      box-shadow: 0px 1px 2px rgba(60, 64, 67, 0.3), 0px 1px 3px 1px rgba(60, 64, 67, 0.15);\n",
              "      fill: #174EA6;\n",
              "    }\n",
              "\n",
              "    [theme=dark] .colab-df-convert {\n",
              "      background-color: #3B4455;\n",
              "      fill: #D2E3FC;\n",
              "    }\n",
              "\n",
              "    [theme=dark] .colab-df-convert:hover {\n",
              "      background-color: #434B5C;\n",
              "      box-shadow: 0px 1px 3px 1px rgba(0, 0, 0, 0.15);\n",
              "      filter: drop-shadow(0px 1px 2px rgba(0, 0, 0, 0.3));\n",
              "      fill: #FFFFFF;\n",
              "    }\n",
              "  </style>\n",
              "\n",
              "      <script>\n",
              "        const buttonEl =\n",
              "          document.querySelector('#df-7c7dd673-2c79-493c-8d7a-af0a3ee99843 button.colab-df-convert');\n",
              "        buttonEl.style.display =\n",
              "          google.colab.kernel.accessAllowed ? 'block' : 'none';\n",
              "\n",
              "        async function convertToInteractive(key) {\n",
              "          const element = document.querySelector('#df-7c7dd673-2c79-493c-8d7a-af0a3ee99843');\n",
              "          const dataTable =\n",
              "            await google.colab.kernel.invokeFunction('convertToInteractive',\n",
              "                                                     [key], {});\n",
              "          if (!dataTable) return;\n",
              "\n",
              "          const docLinkHtml = 'Like what you see? Visit the ' +\n",
              "            '<a target=\"_blank\" href=https://colab.research.google.com/notebooks/data_table.ipynb>data table notebook</a>'\n",
              "            + ' to learn more about interactive tables.';\n",
              "          element.innerHTML = '';\n",
              "          dataTable['output_type'] = 'display_data';\n",
              "          await google.colab.output.renderOutput(dataTable, element);\n",
              "          const docLink = document.createElement('div');\n",
              "          docLink.innerHTML = docLinkHtml;\n",
              "          element.appendChild(docLink);\n",
              "        }\n",
              "      </script>\n",
              "    </div>\n",
              "  </div>\n",
              "  "
            ]
          },
          "metadata": {},
          "execution_count": 8
        }
      ],
      "source": [
        "pesos = []\n",
        "for i in range(len(test.index)):\n",
        "  if test.at[i,\"com_recidiva_a_distancia\"] == 1 or test.at[i,\"com_recidiva_regional\"] == 1 or test.at[i,\"com_recidiva_local\"]==1:\n",
        "    pesos.append(-1)\n",
        "  else:\n",
        "    pesos.append(0)\n",
        "test[\"peso_do_id\"] = pesos\n",
        "test.head()"
      ]
    },
    {
      "cell_type": "markdown",
      "metadata": {
        "id": "IRJAC03SL-ky"
      },
      "source": [
        "##Organizando a quantificação de estrogenio"
      ]
    },
    {
      "cell_type": "code",
      "execution_count": 9,
      "metadata": {
        "colab": {
          "base_uri": "https://localhost:8080/"
        },
        "id": "vzhKw8uBn4Pg",
        "outputId": "b7f42c19-9c57-44c9-92ae-7f9cb18950bf"
      },
      "outputs": [
        {
          "output_type": "execute_result",
          "data": {
            "text/plain": [
              "1    2375\n",
              "0    1062\n",
              "2     354\n",
              "Name: receptor_de_estrogenio, dtype: int64"
            ]
          },
          "metadata": {},
          "execution_count": 9
        }
      ],
      "source": [
        "test[\"receptor_de_estrogenio\"].value_counts()"
      ]
    },
    {
      "cell_type": "markdown",
      "metadata": {
        "id": "1pU_tnKGLmPF"
      },
      "source": [
        "##Organizando a quantificação de progesterona"
      ]
    },
    {
      "cell_type": "code",
      "execution_count": 10,
      "metadata": {
        "id": "LcVKi9NLvVZp"
      },
      "outputs": [],
      "source": [
        "# test[\"ki67_percentage\"].astype(\"float64\")\n",
        "# test[\"ki67_percentage\"] = test[\"ki67_percentage\"]/100\n",
        "# test"
      ]
    },
    {
      "cell_type": "markdown",
      "metadata": {
        "id": "9SB6tkdALyBR"
      },
      "source": [
        "##Organizando o regime de tratamento"
      ]
    },
    {
      "cell_type": "code",
      "execution_count": 11,
      "metadata": {
        "colab": {
          "base_uri": "https://localhost:8080/"
        },
        "id": "3GVR7zZU1E_y",
        "outputId": "74a8b365-4ef2-4618-e989-66a5004d9b5e"
      },
      "outputs": [
        {
          "output_type": "stream",
          "name": "stderr",
          "text": [
            "<ipython-input-11-69a400fc2b31>:1: UserWarning: Boolean Series key will be reindexed to match DataFrame index.\n",
            "  test = test[test[\"regime_tratamento\"].isnull()==False][test[\"regime_tratamento\"]!=2][test[\"regime_tratamento\"]!=3]\n"
          ]
        }
      ],
      "source": [
        "test = test[test[\"regime_tratamento\"].isnull()==False][test[\"regime_tratamento\"]!=2][test[\"regime_tratamento\"]!=3]"
      ]
    },
    {
      "cell_type": "code",
      "execution_count": 12,
      "metadata": {
        "colab": {
          "base_uri": "https://localhost:8080/"
        },
        "id": "1m08LymYGtVE",
        "outputId": "9a405bbd-709d-4dc2-df53-bf8816df2100"
      },
      "outputs": [
        {
          "output_type": "execute_result",
          "data": {
            "text/plain": [
              "(2487, 16)"
            ]
          },
          "metadata": {},
          "execution_count": 12
        }
      ],
      "source": [
        "test.shape"
      ]
    },
    {
      "cell_type": "code",
      "execution_count": 13,
      "metadata": {
        "colab": {
          "base_uri": "https://localhost:8080/"
        },
        "id": "wjLWQqbbFici",
        "outputId": "18da281e-69ec-4d39-c135-b82f36f05155"
      },
      "outputs": [
        {
          "output_type": "execute_result",
          "data": {
            "text/plain": [
              "0.0    1294\n",
              "1.0    1193\n",
              "Name: regime_tratamento, dtype: int64"
            ]
          },
          "metadata": {},
          "execution_count": 13
        }
      ],
      "source": [
        "test[\"regime_tratamento\"].value_counts()"
      ]
    },
    {
      "cell_type": "markdown",
      "metadata": {
        "id": "EosAXgGxL2lI"
      },
      "source": [
        "## Organizando a classificação TNM-T"
      ]
    },
    {
      "cell_type": "code",
      "execution_count": 14,
      "metadata": {
        "colab": {
          "base_uri": "https://localhost:8080/"
        },
        "id": "Mf6i6RZbPWem",
        "outputId": "7bde6dd9-deea-4812-a1f7-c7e6fa8c1de6"
      },
      "outputs": [
        {
          "output_type": "stream",
          "name": "stderr",
          "text": [
            "<ipython-input-14-2042a719347e>:1: UserWarning: Boolean Series key will be reindexed to match DataFrame index.\n",
            "  test = test[test[\"classificacao_tnm_clinico_t\"]!=\"X - nao foi possivel determinar\"][test[\"classificacao_tnm_clinico_t\"]!=\"Y: Na\"]\n"
          ]
        }
      ],
      "source": [
        "test = test[test[\"classificacao_tnm_clinico_t\"]!=\"X - nao foi possivel determinar\"][test[\"classificacao_tnm_clinico_t\"]!=\"Y: Na\"]"
      ]
    },
    {
      "cell_type": "code",
      "execution_count": 15,
      "metadata": {
        "id": "v-ej-FlEQJdZ"
      },
      "outputs": [],
      "source": [
        "test[\"classificacao_tnm_clinico_t\"] = test[\"classificacao_tnm_clinico_t\"].replace({\"2\":2,\n",
        "                                                                                   \"3\":3,\n",
        "                                                                                   \"1C\":1,\n",
        "                                                                                   \"4B\":4,\n",
        "                                                                                   \"4D\":4,\n",
        "                                                                                   \"1\":1,\n",
        "                                                                                   \"4\":4,\n",
        "                                                                                   \"1B\":1,\n",
        "                                                                                   \"1A\":1,\n",
        "                                                                                   \"4C\":4,\n",
        "                                                                                   \"4A\":4,\n",
        "                                                                                   \"IS\":0,\n",
        "                                                                                   \"CDIS\":0,\n",
        "                                                                                   \"3A\":3})"
      ]
    },
    {
      "cell_type": "markdown",
      "metadata": {
        "id": "Pnc8N9OUMJ04"
      },
      "source": [
        "## Filtrando vivos"
      ]
    },
    {
      "cell_type": "code",
      "execution_count": 16,
      "metadata": {
        "id": "dJhdbBDY6uGk"
      },
      "outputs": [],
      "source": [
        "for i in test.index:\n",
        "  if test.at[i,\"peso_do_id\"]== 0 and test.at[i,\"ultima_informacao\"]== 0:\n",
        "    test.at[i,\"peso_do_id\"] = -1\n",
        "  elif test.at[i,\"peso_do_id\"]==0 and test.at[i,\"ultima_informacao\"]==2:\n",
        "    test.at[i,\"peso_do_id\"] = -1\n",
        "\n",
        "test = test[test[\"ultima_informacao\"].isnull()==False]\n",
        "\n",
        "for i in test.index:\n",
        "  if test.at[i,\"peso_do_id\"]== 0:\n",
        "    test.at[i,\"peso_do_id\"]= 1"
      ]
    },
    {
      "cell_type": "markdown",
      "metadata": {
        "id": "y7P773I6MNRf"
      },
      "source": [
        "##Organizando o grupo de estadiamento clínico"
      ]
    },
    {
      "cell_type": "code",
      "execution_count": 17,
      "metadata": {
        "id": "6BIn0dM_W_EK"
      },
      "outputs": [],
      "source": [
        "test = test[test[\"grupo_estadio_clinico\"].isnull()==False]"
      ]
    },
    {
      "cell_type": "code",
      "execution_count": 18,
      "metadata": {
        "id": "xZzx71gTaDmI"
      },
      "outputs": [],
      "source": [
        "for i in test.index:\n",
        "  if test.at[i,\"peso_do_id\"] == -1:\n",
        "    test.at[i,\"peso_do_id\"] = 0"
      ]
    },
    {
      "cell_type": "markdown",
      "metadata": {
        "id": "bV0AqI9pYfty"
      },
      "source": [
        "##Banco de dados para os testes"
      ]
    },
    {
      "cell_type": "code",
      "execution_count": 19,
      "metadata": {
        "colab": {
          "base_uri": "https://localhost:8080/",
          "height": 487
        },
        "id": "JjxPTP8vY2UL",
        "outputId": "36040535-6a58-47d0-ef51-3f75b75db53b"
      },
      "outputs": [
        {
          "output_type": "execute_result",
          "data": {
            "text/plain": [
              "      grau_histologico  ki67_maior_14_percentage  subtipo_tumoral  \\\n",
              "1                  2.0                         1              2.0   \n",
              "5                  2.0                         1              4.0   \n",
              "9                  2.0                         3              3.0   \n",
              "15                 2.0                         3              3.0   \n",
              "26                 2.0                         1              2.0   \n",
              "...                ...                       ...              ...   \n",
              "3591               2.0                         1              3.0   \n",
              "3593               2.0                         1              4.0   \n",
              "3623               1.0                         0              1.0   \n",
              "3625               3.0                         1              4.0   \n",
              "3628               3.0                         1              4.0   \n",
              "\n",
              "      receptor_de_progesterona  receptor_de_estrogenio  her2_por_ihc  \\\n",
              "1                            0                       1             0   \n",
              "5                            0                       0             0   \n",
              "9                            0                       0             3   \n",
              "15                           3                       2             3   \n",
              "26                           1                       1             0   \n",
              "...                        ...                     ...           ...   \n",
              "3591                         2                       0             3   \n",
              "3593                         0                       0             0   \n",
              "3623                         1                       1             0   \n",
              "3625                         0                       0             0   \n",
              "3628                         0                       0             0   \n",
              "\n",
              "      her2_por_fish  grupo_estadio_clinico  classificacao_tnm_clinico_t  \\\n",
              "1                 4                    3.0                            3   \n",
              "5                 4                    2.0                            1   \n",
              "9                 4                    3.0                            3   \n",
              "15                2                    1.0                            1   \n",
              "26                4                    2.0                            2   \n",
              "...             ...                    ...                          ...   \n",
              "3591              2                    2.0                            2   \n",
              "3593              4                    2.0                            2   \n",
              "3623              4                    3.0                            3   \n",
              "3625              4                    2.0                            2   \n",
              "3628              4                    2.0                            2   \n",
              "\n",
              "      com_recidiva_regional  com_recidiva_a_distancia  com_recidiva_local  \\\n",
              "1                         1                         0                   1   \n",
              "5                         1                         0                   0   \n",
              "9                         0                         0                   0   \n",
              "15                        0                         0                   0   \n",
              "26                        0                         0                   0   \n",
              "...                     ...                       ...                 ...   \n",
              "3591                      0                         0                   0   \n",
              "3593                      0                         0                   0   \n",
              "3623                      0                         1                   0   \n",
              "3625                      0                         0                   0   \n",
              "3628                      0                         0                   0   \n",
              "\n",
              "      ultima_informacao  regime_tratamento        IMC  peso_do_id  \n",
              "1                   1.0                0.0  25.416667           0  \n",
              "5                   0.0                0.0  24.230769           0  \n",
              "9                   1.0                1.0  35.120000           1  \n",
              "15                  1.0                0.0  24.090909           1  \n",
              "26                  1.0                1.0  32.727273           1  \n",
              "...                 ...                ...        ...         ...  \n",
              "3591                1.0                1.0  29.230769           1  \n",
              "3593                1.0                1.0  31.739130           1  \n",
              "3623                1.0                0.0  20.120000           0  \n",
              "3625                2.0                1.0  32.964286           0  \n",
              "3628                1.0                1.0  39.481481           1  \n",
              "\n",
              "[2387 rows x 16 columns]"
            ],
            "text/html": [
              "\n",
              "  <div id=\"df-ab5d6f0d-42e5-4640-b992-2ef7363aadfb\">\n",
              "    <div class=\"colab-df-container\">\n",
              "      <div>\n",
              "<style scoped>\n",
              "    .dataframe tbody tr th:only-of-type {\n",
              "        vertical-align: middle;\n",
              "    }\n",
              "\n",
              "    .dataframe tbody tr th {\n",
              "        vertical-align: top;\n",
              "    }\n",
              "\n",
              "    .dataframe thead th {\n",
              "        text-align: right;\n",
              "    }\n",
              "</style>\n",
              "<table border=\"1\" class=\"dataframe\">\n",
              "  <thead>\n",
              "    <tr style=\"text-align: right;\">\n",
              "      <th></th>\n",
              "      <th>grau_histologico</th>\n",
              "      <th>ki67_maior_14_percentage</th>\n",
              "      <th>subtipo_tumoral</th>\n",
              "      <th>receptor_de_progesterona</th>\n",
              "      <th>receptor_de_estrogenio</th>\n",
              "      <th>her2_por_ihc</th>\n",
              "      <th>her2_por_fish</th>\n",
              "      <th>grupo_estadio_clinico</th>\n",
              "      <th>classificacao_tnm_clinico_t</th>\n",
              "      <th>com_recidiva_regional</th>\n",
              "      <th>com_recidiva_a_distancia</th>\n",
              "      <th>com_recidiva_local</th>\n",
              "      <th>ultima_informacao</th>\n",
              "      <th>regime_tratamento</th>\n",
              "      <th>IMC</th>\n",
              "      <th>peso_do_id</th>\n",
              "    </tr>\n",
              "  </thead>\n",
              "  <tbody>\n",
              "    <tr>\n",
              "      <th>1</th>\n",
              "      <td>2.0</td>\n",
              "      <td>1</td>\n",
              "      <td>2.0</td>\n",
              "      <td>0</td>\n",
              "      <td>1</td>\n",
              "      <td>0</td>\n",
              "      <td>4</td>\n",
              "      <td>3.0</td>\n",
              "      <td>3</td>\n",
              "      <td>1</td>\n",
              "      <td>0</td>\n",
              "      <td>1</td>\n",
              "      <td>1.0</td>\n",
              "      <td>0.0</td>\n",
              "      <td>25.416667</td>\n",
              "      <td>0</td>\n",
              "    </tr>\n",
              "    <tr>\n",
              "      <th>5</th>\n",
              "      <td>2.0</td>\n",
              "      <td>1</td>\n",
              "      <td>4.0</td>\n",
              "      <td>0</td>\n",
              "      <td>0</td>\n",
              "      <td>0</td>\n",
              "      <td>4</td>\n",
              "      <td>2.0</td>\n",
              "      <td>1</td>\n",
              "      <td>1</td>\n",
              "      <td>0</td>\n",
              "      <td>0</td>\n",
              "      <td>0.0</td>\n",
              "      <td>0.0</td>\n",
              "      <td>24.230769</td>\n",
              "      <td>0</td>\n",
              "    </tr>\n",
              "    <tr>\n",
              "      <th>9</th>\n",
              "      <td>2.0</td>\n",
              "      <td>3</td>\n",
              "      <td>3.0</td>\n",
              "      <td>0</td>\n",
              "      <td>0</td>\n",
              "      <td>3</td>\n",
              "      <td>4</td>\n",
              "      <td>3.0</td>\n",
              "      <td>3</td>\n",
              "      <td>0</td>\n",
              "      <td>0</td>\n",
              "      <td>0</td>\n",
              "      <td>1.0</td>\n",
              "      <td>1.0</td>\n",
              "      <td>35.120000</td>\n",
              "      <td>1</td>\n",
              "    </tr>\n",
              "    <tr>\n",
              "      <th>15</th>\n",
              "      <td>2.0</td>\n",
              "      <td>3</td>\n",
              "      <td>3.0</td>\n",
              "      <td>3</td>\n",
              "      <td>2</td>\n",
              "      <td>3</td>\n",
              "      <td>2</td>\n",
              "      <td>1.0</td>\n",
              "      <td>1</td>\n",
              "      <td>0</td>\n",
              "      <td>0</td>\n",
              "      <td>0</td>\n",
              "      <td>1.0</td>\n",
              "      <td>0.0</td>\n",
              "      <td>24.090909</td>\n",
              "      <td>1</td>\n",
              "    </tr>\n",
              "    <tr>\n",
              "      <th>26</th>\n",
              "      <td>2.0</td>\n",
              "      <td>1</td>\n",
              "      <td>2.0</td>\n",
              "      <td>1</td>\n",
              "      <td>1</td>\n",
              "      <td>0</td>\n",
              "      <td>4</td>\n",
              "      <td>2.0</td>\n",
              "      <td>2</td>\n",
              "      <td>0</td>\n",
              "      <td>0</td>\n",
              "      <td>0</td>\n",
              "      <td>1.0</td>\n",
              "      <td>1.0</td>\n",
              "      <td>32.727273</td>\n",
              "      <td>1</td>\n",
              "    </tr>\n",
              "    <tr>\n",
              "      <th>...</th>\n",
              "      <td>...</td>\n",
              "      <td>...</td>\n",
              "      <td>...</td>\n",
              "      <td>...</td>\n",
              "      <td>...</td>\n",
              "      <td>...</td>\n",
              "      <td>...</td>\n",
              "      <td>...</td>\n",
              "      <td>...</td>\n",
              "      <td>...</td>\n",
              "      <td>...</td>\n",
              "      <td>...</td>\n",
              "      <td>...</td>\n",
              "      <td>...</td>\n",
              "      <td>...</td>\n",
              "      <td>...</td>\n",
              "    </tr>\n",
              "    <tr>\n",
              "      <th>3591</th>\n",
              "      <td>2.0</td>\n",
              "      <td>1</td>\n",
              "      <td>3.0</td>\n",
              "      <td>2</td>\n",
              "      <td>0</td>\n",
              "      <td>3</td>\n",
              "      <td>2</td>\n",
              "      <td>2.0</td>\n",
              "      <td>2</td>\n",
              "      <td>0</td>\n",
              "      <td>0</td>\n",
              "      <td>0</td>\n",
              "      <td>1.0</td>\n",
              "      <td>1.0</td>\n",
              "      <td>29.230769</td>\n",
              "      <td>1</td>\n",
              "    </tr>\n",
              "    <tr>\n",
              "      <th>3593</th>\n",
              "      <td>2.0</td>\n",
              "      <td>1</td>\n",
              "      <td>4.0</td>\n",
              "      <td>0</td>\n",
              "      <td>0</td>\n",
              "      <td>0</td>\n",
              "      <td>4</td>\n",
              "      <td>2.0</td>\n",
              "      <td>2</td>\n",
              "      <td>0</td>\n",
              "      <td>0</td>\n",
              "      <td>0</td>\n",
              "      <td>1.0</td>\n",
              "      <td>1.0</td>\n",
              "      <td>31.739130</td>\n",
              "      <td>1</td>\n",
              "    </tr>\n",
              "    <tr>\n",
              "      <th>3623</th>\n",
              "      <td>1.0</td>\n",
              "      <td>0</td>\n",
              "      <td>1.0</td>\n",
              "      <td>1</td>\n",
              "      <td>1</td>\n",
              "      <td>0</td>\n",
              "      <td>4</td>\n",
              "      <td>3.0</td>\n",
              "      <td>3</td>\n",
              "      <td>0</td>\n",
              "      <td>1</td>\n",
              "      <td>0</td>\n",
              "      <td>1.0</td>\n",
              "      <td>0.0</td>\n",
              "      <td>20.120000</td>\n",
              "      <td>0</td>\n",
              "    </tr>\n",
              "    <tr>\n",
              "      <th>3625</th>\n",
              "      <td>3.0</td>\n",
              "      <td>1</td>\n",
              "      <td>4.0</td>\n",
              "      <td>0</td>\n",
              "      <td>0</td>\n",
              "      <td>0</td>\n",
              "      <td>4</td>\n",
              "      <td>2.0</td>\n",
              "      <td>2</td>\n",
              "      <td>0</td>\n",
              "      <td>0</td>\n",
              "      <td>0</td>\n",
              "      <td>2.0</td>\n",
              "      <td>1.0</td>\n",
              "      <td>32.964286</td>\n",
              "      <td>0</td>\n",
              "    </tr>\n",
              "    <tr>\n",
              "      <th>3628</th>\n",
              "      <td>3.0</td>\n",
              "      <td>1</td>\n",
              "      <td>4.0</td>\n",
              "      <td>0</td>\n",
              "      <td>0</td>\n",
              "      <td>0</td>\n",
              "      <td>4</td>\n",
              "      <td>2.0</td>\n",
              "      <td>2</td>\n",
              "      <td>0</td>\n",
              "      <td>0</td>\n",
              "      <td>0</td>\n",
              "      <td>1.0</td>\n",
              "      <td>1.0</td>\n",
              "      <td>39.481481</td>\n",
              "      <td>1</td>\n",
              "    </tr>\n",
              "  </tbody>\n",
              "</table>\n",
              "<p>2387 rows × 16 columns</p>\n",
              "</div>\n",
              "      <button class=\"colab-df-convert\" onclick=\"convertToInteractive('df-ab5d6f0d-42e5-4640-b992-2ef7363aadfb')\"\n",
              "              title=\"Convert this dataframe to an interactive table.\"\n",
              "              style=\"display:none;\">\n",
              "        \n",
              "  <svg xmlns=\"http://www.w3.org/2000/svg\" height=\"24px\"viewBox=\"0 0 24 24\"\n",
              "       width=\"24px\">\n",
              "    <path d=\"M0 0h24v24H0V0z\" fill=\"none\"/>\n",
              "    <path d=\"M18.56 5.44l.94 2.06.94-2.06 2.06-.94-2.06-.94-.94-2.06-.94 2.06-2.06.94zm-11 1L8.5 8.5l.94-2.06 2.06-.94-2.06-.94L8.5 2.5l-.94 2.06-2.06.94zm10 10l.94 2.06.94-2.06 2.06-.94-2.06-.94-.94-2.06-.94 2.06-2.06.94z\"/><path d=\"M17.41 7.96l-1.37-1.37c-.4-.4-.92-.59-1.43-.59-.52 0-1.04.2-1.43.59L10.3 9.45l-7.72 7.72c-.78.78-.78 2.05 0 2.83L4 21.41c.39.39.9.59 1.41.59.51 0 1.02-.2 1.41-.59l7.78-7.78 2.81-2.81c.8-.78.8-2.07 0-2.86zM5.41 20L4 18.59l7.72-7.72 1.47 1.35L5.41 20z\"/>\n",
              "  </svg>\n",
              "      </button>\n",
              "      \n",
              "  <style>\n",
              "    .colab-df-container {\n",
              "      display:flex;\n",
              "      flex-wrap:wrap;\n",
              "      gap: 12px;\n",
              "    }\n",
              "\n",
              "    .colab-df-convert {\n",
              "      background-color: #E8F0FE;\n",
              "      border: none;\n",
              "      border-radius: 50%;\n",
              "      cursor: pointer;\n",
              "      display: none;\n",
              "      fill: #1967D2;\n",
              "      height: 32px;\n",
              "      padding: 0 0 0 0;\n",
              "      width: 32px;\n",
              "    }\n",
              "\n",
              "    .colab-df-convert:hover {\n",
              "      background-color: #E2EBFA;\n",
              "      box-shadow: 0px 1px 2px rgba(60, 64, 67, 0.3), 0px 1px 3px 1px rgba(60, 64, 67, 0.15);\n",
              "      fill: #174EA6;\n",
              "    }\n",
              "\n",
              "    [theme=dark] .colab-df-convert {\n",
              "      background-color: #3B4455;\n",
              "      fill: #D2E3FC;\n",
              "    }\n",
              "\n",
              "    [theme=dark] .colab-df-convert:hover {\n",
              "      background-color: #434B5C;\n",
              "      box-shadow: 0px 1px 3px 1px rgba(0, 0, 0, 0.15);\n",
              "      filter: drop-shadow(0px 1px 2px rgba(0, 0, 0, 0.3));\n",
              "      fill: #FFFFFF;\n",
              "    }\n",
              "  </style>\n",
              "\n",
              "      <script>\n",
              "        const buttonEl =\n",
              "          document.querySelector('#df-ab5d6f0d-42e5-4640-b992-2ef7363aadfb button.colab-df-convert');\n",
              "        buttonEl.style.display =\n",
              "          google.colab.kernel.accessAllowed ? 'block' : 'none';\n",
              "\n",
              "        async function convertToInteractive(key) {\n",
              "          const element = document.querySelector('#df-ab5d6f0d-42e5-4640-b992-2ef7363aadfb');\n",
              "          const dataTable =\n",
              "            await google.colab.kernel.invokeFunction('convertToInteractive',\n",
              "                                                     [key], {});\n",
              "          if (!dataTable) return;\n",
              "\n",
              "          const docLinkHtml = 'Like what you see? Visit the ' +\n",
              "            '<a target=\"_blank\" href=https://colab.research.google.com/notebooks/data_table.ipynb>data table notebook</a>'\n",
              "            + ' to learn more about interactive tables.';\n",
              "          element.innerHTML = '';\n",
              "          dataTable['output_type'] = 'display_data';\n",
              "          await google.colab.output.renderOutput(dataTable, element);\n",
              "          const docLink = document.createElement('div');\n",
              "          docLink.innerHTML = docLinkHtml;\n",
              "          element.appendChild(docLink);\n",
              "        }\n",
              "      </script>\n",
              "    </div>\n",
              "  </div>\n",
              "  "
            ]
          },
          "metadata": {},
          "execution_count": 19
        }
      ],
      "source": [
        "test"
      ]
    },
    {
      "cell_type": "code",
      "execution_count": 20,
      "metadata": {
        "colab": {
          "base_uri": "https://localhost:8080/"
        },
        "id": "XZxNFCVIecGn",
        "outputId": "0ff5a3d8-09d0-4d5a-db6f-d55f00432137"
      },
      "outputs": [
        {
          "output_type": "execute_result",
          "data": {
            "text/plain": [
              "grau_histologico               0.0\n",
              "ki67_maior_14_percentage       0.0\n",
              "subtipo_tumoral                0.0\n",
              "receptor_de_progesterona       0.0\n",
              "receptor_de_estrogenio         0.0\n",
              "her2_por_ihc                   0.0\n",
              "her2_por_fish                  0.0\n",
              "grupo_estadio_clinico          0.0\n",
              "classificacao_tnm_clinico_t    0.0\n",
              "com_recidiva_regional          0.0\n",
              "com_recidiva_a_distancia       0.0\n",
              "com_recidiva_local             0.0\n",
              "ultima_informacao              0.0\n",
              "regime_tratamento              0.0\n",
              "IMC                            0.0\n",
              "peso_do_id                     0.0\n",
              "dtype: float64"
            ]
          },
          "metadata": {},
          "execution_count": 20
        }
      ],
      "source": [
        "#porcentagem de nulos\n",
        "null_demografico = test.isna()\n",
        "pct_null_demografico = null_demografico.sum() / len(test)\n",
        "pct_null_demografico"
      ]
    },
    {
      "cell_type": "code",
      "execution_count": 21,
      "metadata": {
        "colab": {
          "base_uri": "https://localhost:8080/",
          "height": 487
        },
        "id": "y868vn9e8fV4",
        "outputId": "54aa9a7a-affe-4a18-f0c3-34898c224ce8"
      },
      "outputs": [
        {
          "output_type": "execute_result",
          "data": {
            "text/plain": [
              "      grau_histologico  ki67_maior_14_percentage  subtipo_tumoral  \\\n",
              "9                  2.0                         3              3.0   \n",
              "15                 2.0                         3              3.0   \n",
              "26                 2.0                         1              2.0   \n",
              "28                 2.0                         3              3.0   \n",
              "38                 2.0                         1              4.0   \n",
              "...                ...                       ...              ...   \n",
              "3585               2.0                         1              4.0   \n",
              "3589               2.0                         1              2.0   \n",
              "3591               2.0                         1              3.0   \n",
              "3593               2.0                         1              4.0   \n",
              "3628               3.0                         1              4.0   \n",
              "\n",
              "      receptor_de_progesterona  receptor_de_estrogenio  her2_por_ihc  \\\n",
              "9                            0                       0             3   \n",
              "15                           3                       2             3   \n",
              "26                           1                       1             0   \n",
              "28                           3                       2             3   \n",
              "38                           0                       0             0   \n",
              "...                        ...                     ...           ...   \n",
              "3585                         0                       0             0   \n",
              "3589                         1                       1             0   \n",
              "3591                         2                       0             3   \n",
              "3593                         0                       0             0   \n",
              "3628                         0                       0             0   \n",
              "\n",
              "      her2_por_fish  grupo_estadio_clinico  classificacao_tnm_clinico_t  \\\n",
              "9                 4                    3.0                            3   \n",
              "15                2                    1.0                            1   \n",
              "26                4                    2.0                            2   \n",
              "28                4                    2.0                            2   \n",
              "38                4                    3.0                            3   \n",
              "...             ...                    ...                          ...   \n",
              "3585              4                    2.0                            3   \n",
              "3589              4                    2.0                            3   \n",
              "3591              2                    2.0                            2   \n",
              "3593              4                    2.0                            2   \n",
              "3628              4                    2.0                            2   \n",
              "\n",
              "      regime_tratamento        IMC  \n",
              "9                   1.0  35.120000  \n",
              "15                  0.0  24.090909  \n",
              "26                  1.0  32.727273  \n",
              "28                  0.0  30.384615  \n",
              "38                  0.0  36.846154  \n",
              "...                 ...        ...  \n",
              "3585                0.0  21.180000  \n",
              "3589                0.0  30.104167  \n",
              "3591                1.0  29.230769  \n",
              "3593                1.0  31.739130  \n",
              "3628                1.0  39.481481  \n",
              "\n",
              "[1738 rows x 11 columns]"
            ],
            "text/html": [
              "\n",
              "  <div id=\"df-772e7f5e-0d27-4208-a485-ceb479a7a1da\">\n",
              "    <div class=\"colab-df-container\">\n",
              "      <div>\n",
              "<style scoped>\n",
              "    .dataframe tbody tr th:only-of-type {\n",
              "        vertical-align: middle;\n",
              "    }\n",
              "\n",
              "    .dataframe tbody tr th {\n",
              "        vertical-align: top;\n",
              "    }\n",
              "\n",
              "    .dataframe thead th {\n",
              "        text-align: right;\n",
              "    }\n",
              "</style>\n",
              "<table border=\"1\" class=\"dataframe\">\n",
              "  <thead>\n",
              "    <tr style=\"text-align: right;\">\n",
              "      <th></th>\n",
              "      <th>grau_histologico</th>\n",
              "      <th>ki67_maior_14_percentage</th>\n",
              "      <th>subtipo_tumoral</th>\n",
              "      <th>receptor_de_progesterona</th>\n",
              "      <th>receptor_de_estrogenio</th>\n",
              "      <th>her2_por_ihc</th>\n",
              "      <th>her2_por_fish</th>\n",
              "      <th>grupo_estadio_clinico</th>\n",
              "      <th>classificacao_tnm_clinico_t</th>\n",
              "      <th>regime_tratamento</th>\n",
              "      <th>IMC</th>\n",
              "    </tr>\n",
              "  </thead>\n",
              "  <tbody>\n",
              "    <tr>\n",
              "      <th>9</th>\n",
              "      <td>2.0</td>\n",
              "      <td>3</td>\n",
              "      <td>3.0</td>\n",
              "      <td>0</td>\n",
              "      <td>0</td>\n",
              "      <td>3</td>\n",
              "      <td>4</td>\n",
              "      <td>3.0</td>\n",
              "      <td>3</td>\n",
              "      <td>1.0</td>\n",
              "      <td>35.120000</td>\n",
              "    </tr>\n",
              "    <tr>\n",
              "      <th>15</th>\n",
              "      <td>2.0</td>\n",
              "      <td>3</td>\n",
              "      <td>3.0</td>\n",
              "      <td>3</td>\n",
              "      <td>2</td>\n",
              "      <td>3</td>\n",
              "      <td>2</td>\n",
              "      <td>1.0</td>\n",
              "      <td>1</td>\n",
              "      <td>0.0</td>\n",
              "      <td>24.090909</td>\n",
              "    </tr>\n",
              "    <tr>\n",
              "      <th>26</th>\n",
              "      <td>2.0</td>\n",
              "      <td>1</td>\n",
              "      <td>2.0</td>\n",
              "      <td>1</td>\n",
              "      <td>1</td>\n",
              "      <td>0</td>\n",
              "      <td>4</td>\n",
              "      <td>2.0</td>\n",
              "      <td>2</td>\n",
              "      <td>1.0</td>\n",
              "      <td>32.727273</td>\n",
              "    </tr>\n",
              "    <tr>\n",
              "      <th>28</th>\n",
              "      <td>2.0</td>\n",
              "      <td>3</td>\n",
              "      <td>3.0</td>\n",
              "      <td>3</td>\n",
              "      <td>2</td>\n",
              "      <td>3</td>\n",
              "      <td>4</td>\n",
              "      <td>2.0</td>\n",
              "      <td>2</td>\n",
              "      <td>0.0</td>\n",
              "      <td>30.384615</td>\n",
              "    </tr>\n",
              "    <tr>\n",
              "      <th>38</th>\n",
              "      <td>2.0</td>\n",
              "      <td>1</td>\n",
              "      <td>4.0</td>\n",
              "      <td>0</td>\n",
              "      <td>0</td>\n",
              "      <td>0</td>\n",
              "      <td>4</td>\n",
              "      <td>3.0</td>\n",
              "      <td>3</td>\n",
              "      <td>0.0</td>\n",
              "      <td>36.846154</td>\n",
              "    </tr>\n",
              "    <tr>\n",
              "      <th>...</th>\n",
              "      <td>...</td>\n",
              "      <td>...</td>\n",
              "      <td>...</td>\n",
              "      <td>...</td>\n",
              "      <td>...</td>\n",
              "      <td>...</td>\n",
              "      <td>...</td>\n",
              "      <td>...</td>\n",
              "      <td>...</td>\n",
              "      <td>...</td>\n",
              "      <td>...</td>\n",
              "    </tr>\n",
              "    <tr>\n",
              "      <th>3585</th>\n",
              "      <td>2.0</td>\n",
              "      <td>1</td>\n",
              "      <td>4.0</td>\n",
              "      <td>0</td>\n",
              "      <td>0</td>\n",
              "      <td>0</td>\n",
              "      <td>4</td>\n",
              "      <td>2.0</td>\n",
              "      <td>3</td>\n",
              "      <td>0.0</td>\n",
              "      <td>21.180000</td>\n",
              "    </tr>\n",
              "    <tr>\n",
              "      <th>3589</th>\n",
              "      <td>2.0</td>\n",
              "      <td>1</td>\n",
              "      <td>2.0</td>\n",
              "      <td>1</td>\n",
              "      <td>1</td>\n",
              "      <td>0</td>\n",
              "      <td>4</td>\n",
              "      <td>2.0</td>\n",
              "      <td>3</td>\n",
              "      <td>0.0</td>\n",
              "      <td>30.104167</td>\n",
              "    </tr>\n",
              "    <tr>\n",
              "      <th>3591</th>\n",
              "      <td>2.0</td>\n",
              "      <td>1</td>\n",
              "      <td>3.0</td>\n",
              "      <td>2</td>\n",
              "      <td>0</td>\n",
              "      <td>3</td>\n",
              "      <td>2</td>\n",
              "      <td>2.0</td>\n",
              "      <td>2</td>\n",
              "      <td>1.0</td>\n",
              "      <td>29.230769</td>\n",
              "    </tr>\n",
              "    <tr>\n",
              "      <th>3593</th>\n",
              "      <td>2.0</td>\n",
              "      <td>1</td>\n",
              "      <td>4.0</td>\n",
              "      <td>0</td>\n",
              "      <td>0</td>\n",
              "      <td>0</td>\n",
              "      <td>4</td>\n",
              "      <td>2.0</td>\n",
              "      <td>2</td>\n",
              "      <td>1.0</td>\n",
              "      <td>31.739130</td>\n",
              "    </tr>\n",
              "    <tr>\n",
              "      <th>3628</th>\n",
              "      <td>3.0</td>\n",
              "      <td>1</td>\n",
              "      <td>4.0</td>\n",
              "      <td>0</td>\n",
              "      <td>0</td>\n",
              "      <td>0</td>\n",
              "      <td>4</td>\n",
              "      <td>2.0</td>\n",
              "      <td>2</td>\n",
              "      <td>1.0</td>\n",
              "      <td>39.481481</td>\n",
              "    </tr>\n",
              "  </tbody>\n",
              "</table>\n",
              "<p>1738 rows × 11 columns</p>\n",
              "</div>\n",
              "      <button class=\"colab-df-convert\" onclick=\"convertToInteractive('df-772e7f5e-0d27-4208-a485-ceb479a7a1da')\"\n",
              "              title=\"Convert this dataframe to an interactive table.\"\n",
              "              style=\"display:none;\">\n",
              "        \n",
              "  <svg xmlns=\"http://www.w3.org/2000/svg\" height=\"24px\"viewBox=\"0 0 24 24\"\n",
              "       width=\"24px\">\n",
              "    <path d=\"M0 0h24v24H0V0z\" fill=\"none\"/>\n",
              "    <path d=\"M18.56 5.44l.94 2.06.94-2.06 2.06-.94-2.06-.94-.94-2.06-.94 2.06-2.06.94zm-11 1L8.5 8.5l.94-2.06 2.06-.94-2.06-.94L8.5 2.5l-.94 2.06-2.06.94zm10 10l.94 2.06.94-2.06 2.06-.94-2.06-.94-.94-2.06-.94 2.06-2.06.94z\"/><path d=\"M17.41 7.96l-1.37-1.37c-.4-.4-.92-.59-1.43-.59-.52 0-1.04.2-1.43.59L10.3 9.45l-7.72 7.72c-.78.78-.78 2.05 0 2.83L4 21.41c.39.39.9.59 1.41.59.51 0 1.02-.2 1.41-.59l7.78-7.78 2.81-2.81c.8-.78.8-2.07 0-2.86zM5.41 20L4 18.59l7.72-7.72 1.47 1.35L5.41 20z\"/>\n",
              "  </svg>\n",
              "      </button>\n",
              "      \n",
              "  <style>\n",
              "    .colab-df-container {\n",
              "      display:flex;\n",
              "      flex-wrap:wrap;\n",
              "      gap: 12px;\n",
              "    }\n",
              "\n",
              "    .colab-df-convert {\n",
              "      background-color: #E8F0FE;\n",
              "      border: none;\n",
              "      border-radius: 50%;\n",
              "      cursor: pointer;\n",
              "      display: none;\n",
              "      fill: #1967D2;\n",
              "      height: 32px;\n",
              "      padding: 0 0 0 0;\n",
              "      width: 32px;\n",
              "    }\n",
              "\n",
              "    .colab-df-convert:hover {\n",
              "      background-color: #E2EBFA;\n",
              "      box-shadow: 0px 1px 2px rgba(60, 64, 67, 0.3), 0px 1px 3px 1px rgba(60, 64, 67, 0.15);\n",
              "      fill: #174EA6;\n",
              "    }\n",
              "\n",
              "    [theme=dark] .colab-df-convert {\n",
              "      background-color: #3B4455;\n",
              "      fill: #D2E3FC;\n",
              "    }\n",
              "\n",
              "    [theme=dark] .colab-df-convert:hover {\n",
              "      background-color: #434B5C;\n",
              "      box-shadow: 0px 1px 3px 1px rgba(0, 0, 0, 0.15);\n",
              "      filter: drop-shadow(0px 1px 2px rgba(0, 0, 0, 0.3));\n",
              "      fill: #FFFFFF;\n",
              "    }\n",
              "  </style>\n",
              "\n",
              "      <script>\n",
              "        const buttonEl =\n",
              "          document.querySelector('#df-772e7f5e-0d27-4208-a485-ceb479a7a1da button.colab-df-convert');\n",
              "        buttonEl.style.display =\n",
              "          google.colab.kernel.accessAllowed ? 'block' : 'none';\n",
              "\n",
              "        async function convertToInteractive(key) {\n",
              "          const element = document.querySelector('#df-772e7f5e-0d27-4208-a485-ceb479a7a1da');\n",
              "          const dataTable =\n",
              "            await google.colab.kernel.invokeFunction('convertToInteractive',\n",
              "                                                     [key], {});\n",
              "          if (!dataTable) return;\n",
              "\n",
              "          const docLinkHtml = 'Like what you see? Visit the ' +\n",
              "            '<a target=\"_blank\" href=https://colab.research.google.com/notebooks/data_table.ipynb>data table notebook</a>'\n",
              "            + ' to learn more about interactive tables.';\n",
              "          element.innerHTML = '';\n",
              "          dataTable['output_type'] = 'display_data';\n",
              "          await google.colab.output.renderOutput(dataTable, element);\n",
              "          const docLink = document.createElement('div');\n",
              "          docLink.innerHTML = docLinkHtml;\n",
              "          element.appendChild(docLink);\n",
              "        }\n",
              "      </script>\n",
              "    </div>\n",
              "  </div>\n",
              "  "
            ]
          },
          "metadata": {},
          "execution_count": 21
        }
      ],
      "source": [
        "#removendo as métricas utilizadas para definir o sucesso, para comerçarmos os teste\n",
        "test = test[test[\"peso_do_id\"]==1]\n",
        "test.drop(columns=[\"com_recidiva_regional\",\"com_recidiva_a_distancia\",\"com_recidiva_local\",\"peso_do_id\", \"ultima_informacao\"])"
      ]
    },
    {
      "cell_type": "markdown",
      "metadata": {
        "id": "S0RmW_0zMV9j"
      },
      "source": [
        "##Ajustes para o treino"
      ]
    },
    {
      "cell_type": "code",
      "execution_count": 22,
      "metadata": {
        "id": "_c_IWaH_9InL"
      },
      "outputs": [],
      "source": [
        "from sklearn.model_selection import train_test_split\n",
        "\n",
        "X = test.drop(columns=[\"regime_tratamento\"])\n",
        "y = test[\"regime_tratamento\"]\n",
        "\n",
        "X_train, X_test, y_train, y_test = train_test_split(X, y, \n",
        "                                                    test_size = 0.3,\n",
        "                                                    random_state = 1234)\n"
      ]
    },
    {
      "cell_type": "markdown",
      "metadata": {
        "id": "VWug4bsat59d"
      },
      "source": [
        "# Testes\n",
        "Foram realizados diversos testes para observar e selecionar o modelo que tem a melhor e mais equilibrada acuracia de treino e teste, além de haver uma matriz de confusão com a diagonal principal com maiores valores."
      ]
    },
    {
      "cell_type": "code",
      "execution_count": 23,
      "metadata": {
        "id": "OdRKzeGyt5in"
      },
      "outputs": [],
      "source": [
        "# importando as ferramentas necessárias para os testes\n",
        "from sklearn.pipeline import make_pipeline\n",
        "from sklearn.neural_network import MLPClassifier\n",
        "from sklearn.neighbors import KNeighborsClassifier\n",
        "from sklearn.svm import SVC\n",
        "from sklearn.gaussian_process import GaussianProcessClassifier\n",
        "from sklearn.ensemble import RandomForestClassifier, AdaBoostClassifier\n",
        "from sklearn.naive_bayes import GaussianNB\n",
        "from sklearn.linear_model import LogisticRegression\n",
        "from sklearn.ensemble import StackingClassifier\n",
        "from sklearn.ensemble import VotingClassifier\n",
        "from sklearn.ensemble import BaggingClassifier\n",
        "from sklearn.svm import LinearSVC\n",
        "from sklearn.preprocessing import StandardScaler\n",
        "from sklearn.tree import DecisionTreeClassifier\n",
        "from sklearn.datasets import load_iris\n",
        "from sklearn.gaussian_process.kernels import RBF\n",
        "\n",
        "from sklearn.metrics import confusion_matrix\n",
        "from sklearn.metrics import ConfusionMatrixDisplay\n",
        "import matplotlib.pyplot as plt\n",
        "from sklearn.metrics import f1_score"
      ]
    },
    {
      "cell_type": "markdown",
      "metadata": {
        "id": "Mcjn22vjwJxp"
      },
      "source": [
        "## MLPClassifier"
      ]
    },
    {
      "cell_type": "code",
      "execution_count": 24,
      "metadata": {
        "colab": {
          "base_uri": "https://localhost:8080/"
        },
        "id": "lkobh8vuwIgo",
        "outputId": "f48bc936-d94a-4e03-d6ef-4a48d354a530"
      },
      "outputs": [
        {
          "output_type": "stream",
          "name": "stdout",
          "text": [
            "Acuracia de treino:  0.7508223684210527\n",
            "Acuracia de teste:  0.7471264367816092\n",
            "F1 Score:  0.6615384615384615\n"
          ]
        }
      ],
      "source": [
        "mlpc = MLPClassifier(random_state=1, max_iter=500)\n",
        "mlpc.fit(X_train, y_train)\n",
        "\n",
        "y_pred = mlpc.predict(X_test)\n",
        "conf_matrixmlpc = confusion_matrix(y_test, y_pred)\n",
        "\n",
        "print('Acuracia de treino: ',mlpc.score(X_train, y_train))\n",
        "print('Acuracia de teste: ',mlpc.score(X_test, y_test))\n",
        "print('F1 Score: ',f1_score(y_test, y_pred))"
      ]
    },
    {
      "cell_type": "code",
      "execution_count": 25,
      "metadata": {
        "colab": {
          "base_uri": "https://localhost:8080/",
          "height": 316
        },
        "id": "62eZBEjRNN0H",
        "outputId": "f0ec6c8d-b756-4cdd-b406-54c7e5b85b48"
      },
      "outputs": [
        {
          "output_type": "stream",
          "name": "stdout",
          "text": [
            "Matriz de Confusão: \n",
            "    0 = adjuvante \t 1 = neoadjuvante\n"
          ]
        },
        {
          "output_type": "display_data",
          "data": {
            "text/plain": [
              "<Figure size 432x288 with 2 Axes>"
            ],
            "image/png": "[encoded data removed]"
          },
          "metadata": {
            "needs_background": "light"
          }
        }
      ],
      "source": [
        "# Fazer previsões com o modelo treinado usando os dados de teste\n",
        "print('Matriz de Confusão: \\n    0 = adjuvante \\t 1 = neoadjuvante')\n",
        "disp = ConfusionMatrixDisplay(confusion_matrix=conf_matrixmlpc,\n",
        "                              display_labels=mlpc.classes_)\n",
        "disp.plot()\n",
        "plt.show()"
      ]
    },
    {
      "cell_type": "markdown",
      "metadata": {
        "id": "eWT7xXoiw6gf"
      },
      "source": [
        "## KNeighborsClassifier"
      ]
    },
    {
      "cell_type": "code",
      "execution_count": 26,
      "metadata": {
        "colab": {
          "base_uri": "https://localhost:8080/"
        },
        "id": "YuwJCBK3w98W",
        "outputId": "0e3e9304-1e5b-4ab6-d5a7-a789c0374634"
      },
      "outputs": [
        {
          "output_type": "stream",
          "name": "stdout",
          "text": [
            "Acuracia de treino:  0.7195723684210527\n",
            "Acuracia de teste:  0.7126436781609196\n",
            "F1 Score:  0.601063829787234\n"
          ]
        }
      ],
      "source": [
        "knn = KNeighborsClassifier(n_neighbors=27)\n",
        "knn.fit(X_train, y_train)\n",
        "\n",
        "y_pred = knn.predict(X_test)\n",
        "conf_matrixknn = confusion_matrix(y_test, y_pred)\n",
        "\n",
        "print('Acuracia de treino: ',knn.score(X_train, y_train))\n",
        "print('Acuracia de teste: ',knn.score(X_test, y_test))\n",
        "print('F1 Score: ',f1_score(y_test, y_pred))"
      ]
    },
    {
      "cell_type": "code",
      "execution_count": 27,
      "metadata": {
        "colab": {
          "base_uri": "https://localhost:8080/",
          "height": 316
        },
        "id": "7ciEOKO9Nk70",
        "outputId": "52193a77-9b0f-47d4-fd16-38003de67ea2"
      },
      "outputs": [
        {
          "output_type": "stream",
          "name": "stdout",
          "text": [
            "Matriz de Confusão: \n",
            "    0 = adjuvante \t 1 = neoadjuvante\n"
          ]
        },
        {
          "output_type": "display_data",
          "data": {
            "text/plain": [
              "<Figure size 432x288 with 2 Axes>"
            ],
            "image/png": "[encoded data removed]"
          },
          "metadata": {
            "needs_background": "light"
          }
        }
      ],
      "source": [
        "# Fazer previsões com o modelo treinado usando os dados de teste\n",
        "print('Matriz de Confusão: \\n    0 = adjuvante \\t 1 = neoadjuvante')\n",
        "disp = ConfusionMatrixDisplay(confusion_matrix=conf_matrixknn,\n",
        "                              display_labels=knn.classes_)\n",
        "disp.plot()\n",
        "plt.show()"
      ]
    },
    {
      "cell_type": "markdown",
      "metadata": {
        "id": "NLr6YW1kyd7a"
      },
      "source": [
        "## SVC"
      ]
    },
    {
      "cell_type": "code",
      "execution_count": 28,
      "metadata": {
        "colab": {
          "base_uri": "https://localhost:8080/"
        },
        "id": "vJxTu2CvyhAm",
        "outputId": "7a519e88-f924-47fe-8422-dcafd3d46909"
      },
      "outputs": [
        {
          "output_type": "stream",
          "name": "stdout",
          "text": [
            "Acuracia de treino:  0.772203947368421\n",
            "Acuracia de teste:  0.7432950191570882\n",
            "F1 Score:  0.6546391752577319\n"
          ]
        }
      ],
      "source": [
        "svc = make_pipeline(StandardScaler(), SVC(gamma='auto'))\n",
        "svc.fit(X_train, y_train)\n",
        "\n",
        "y_pred = svc.predict(X_test)\n",
        "conf_matrixsvc = confusion_matrix(y_test, y_pred)\n",
        "\n",
        "print('Acuracia de treino: ',svc.score(X_train, y_train))\n",
        "print('Acuracia de teste: ',svc.score(X_test, y_test))\n",
        "print('F1 Score: ',f1_score(y_test, y_pred))"
      ]
    },
    {
      "cell_type": "code",
      "execution_count": 29,
      "metadata": {
        "colab": {
          "base_uri": "https://localhost:8080/",
          "height": 316
        },
        "id": "h7xVYOn-OEyF",
        "outputId": "7c669aeb-4e8e-4649-cfc4-0f6516d8428c"
      },
      "outputs": [
        {
          "output_type": "stream",
          "name": "stdout",
          "text": [
            "Matriz de Confusão: \n",
            "    0 = adjuvante \t 1 = neoadjuvante\n"
          ]
        },
        {
          "output_type": "display_data",
          "data": {
            "text/plain": [
              "<Figure size 432x288 with 2 Axes>"
            ],
            "image/png": "[encoded data removed]"
          },
          "metadata": {
            "needs_background": "light"
          }
        }
      ],
      "source": [
        "# Fazer previsões com o modelo treinado usando os dados de teste\n",
        "print('Matriz de Confusão: \\n    0 = adjuvante \\t 1 = neoadjuvante')\n",
        "disp = ConfusionMatrixDisplay(confusion_matrix=conf_matrixsvc,\n",
        "                              display_labels=svc.classes_)\n",
        "disp.plot()\n",
        "plt.show()"
      ]
    },
    {
      "cell_type": "markdown",
      "metadata": {
        "id": "o-FZys4xy-0S"
      },
      "source": [
        "## Gaussian Process Classifier"
      ]
    },
    {
      "cell_type": "code",
      "execution_count": 30,
      "metadata": {
        "colab": {
          "base_uri": "https://localhost:8080/"
        },
        "id": "6ypouoZXzFyz",
        "outputId": "887c6338-1a9b-49cd-f5b7-ebcab39083c0"
      },
      "outputs": [
        {
          "output_type": "stream",
          "name": "stdout",
          "text": [
            "Acuracia de treino:  0.7384868421052632\n",
            "Acuracia de teste:  0.7528735632183908\n",
            "F1 Score:  0.6559999999999999\n"
          ]
        }
      ],
      "source": [
        "gpc = GaussianProcessClassifier(kernel=1.0 * RBF(1.0),\n",
        "                                random_state=0)\n",
        "                                \n",
        "gpc.fit(X_train, y_train)\n",
        "\n",
        "y_pred = gpc.predict(X_test)\n",
        "conf_matrixgpc = confusion_matrix(y_test, y_pred)\n",
        "\n",
        "print('Acuracia de treino: ',gpc.score(X_train, y_train))\n",
        "print('Acuracia de teste: ',gpc.score(X_test, y_test))\n",
        "print('F1 Score: ',f1_score(y_test, y_pred))"
      ]
    },
    {
      "cell_type": "code",
      "execution_count": 31,
      "metadata": {
        "colab": {
          "base_uri": "https://localhost:8080/",
          "height": 316
        },
        "id": "r4j7GQJeOPBE",
        "outputId": "bbda2e40-2d62-497d-d5f7-8d41c9d52aa9"
      },
      "outputs": [
        {
          "output_type": "stream",
          "name": "stdout",
          "text": [
            "Matriz de Confusão: \n",
            "    0 = adjuvante \t 1 = neoadjuvante\n"
          ]
        },
        {
          "output_type": "display_data",
          "data": {
            "text/plain": [
              "<Figure size 432x288 with 2 Axes>"
            ],
            "image/png": "[encoded data removed]"
          },
          "metadata": {
            "needs_background": "light"
          }
        }
      ],
      "source": [
        "# Fazer previsões com o modelo treinado usando os dados de teste\n",
        "print('Matriz de Confusão: \\n    0 = adjuvante \\t 1 = neoadjuvante')\n",
        "disp = ConfusionMatrixDisplay(confusion_matrix=conf_matrixgpc,\n",
        "                              display_labels=gpc.classes_)\n",
        "disp.plot()\n",
        "plt.show()"
      ]
    },
    {
      "cell_type": "markdown",
      "metadata": {
        "id": "hSwIBYfEz1az"
      },
      "source": [
        "## RandomForestClassifier"
      ]
    },
    {
      "cell_type": "code",
      "execution_count": 32,
      "metadata": {
        "colab": {
          "base_uri": "https://localhost:8080/"
        },
        "id": "K5BTTkFez5qS",
        "outputId": "3f62a0c8-cdc1-4c9d-a097-7a1e24708975"
      },
      "outputs": [
        {
          "output_type": "stream",
          "name": "stdout",
          "text": [
            "Acuracia de treino:  0.7327302631578947\n",
            "Acuracia de teste:  0.7509578544061303\n",
            "F1 Score:  0.6242774566473988\n"
          ]
        }
      ],
      "source": [
        "rfc = RandomForestClassifier(max_depth=2, random_state=0)\n",
        "rfc.fit(X_train, y_train)\n",
        "\n",
        "y_pred = rfc.predict(X_test)\n",
        "conf_matrixrfc = confusion_matrix(y_test, y_pred)\n",
        "\n",
        "print('Acuracia de treino: ',rfc.score(X_train, y_train))\n",
        "print('Acuracia de teste: ',rfc.score(X_test, y_test))\n",
        "print('F1 Score: ',f1_score(y_test, y_pred))"
      ]
    },
    {
      "cell_type": "code",
      "execution_count": 33,
      "metadata": {
        "colab": {
          "base_uri": "https://localhost:8080/",
          "height": 316
        },
        "id": "OhhpUpCoOSTX",
        "outputId": "1849b1fe-dd57-4923-fd1c-38cdd99d20db"
      },
      "outputs": [
        {
          "output_type": "stream",
          "name": "stdout",
          "text": [
            "Matriz de Confusão: \n",
            "    0 = adjuvante \t 1 = neoadjuvante\n"
          ]
        },
        {
          "output_type": "display_data",
          "data": {
            "text/plain": [
              "<Figure size 432x288 with 2 Axes>"
            ],
            "image/png": "[encoded data removed]"
          },
          "metadata": {
            "needs_background": "light"
          }
        }
      ],
      "source": [
        "# Fazer previsões com o modelo treinado usando os dados de teste\n",
        "print('Matriz de Confusão: \\n    0 = adjuvante \\t 1 = neoadjuvante')\n",
        "disp = ConfusionMatrixDisplay(confusion_matrix=conf_matrixrfc,\n",
        "                              display_labels=rfc.classes_)\n",
        "disp.plot()\n",
        "plt.show()"
      ]
    },
    {
      "cell_type": "markdown",
      "metadata": {
        "id": "EG1QF24p01Cq"
      },
      "source": [
        "## AdaBoostClassifier"
      ]
    },
    {
      "cell_type": "code",
      "execution_count": 34,
      "metadata": {
        "colab": {
          "base_uri": "https://localhost:8080/"
        },
        "id": "jij5d6Vj09Eb",
        "outputId": "69d557ed-06b6-4a8a-dafc-9b33c27b56a3"
      },
      "outputs": [
        {
          "output_type": "stream",
          "name": "stdout",
          "text": [
            "Acuracia de treino:  0.7713815789473685\n",
            "Acuracia de teste:  0.7413793103448276\n",
            "F1 Score:  0.6683046683046684\n"
          ]
        }
      ],
      "source": [
        "abc = AdaBoostClassifier(n_estimators=100, random_state=0)\n",
        "abc.fit(X_train, y_train)\n",
        "\n",
        "y_pred = abc.predict(X_test)\n",
        "conf_matrixabc = confusion_matrix(y_test, y_pred)\n",
        "\n",
        "print('Acuracia de treino: ',abc.score(X_train, y_train))\n",
        "print('Acuracia de teste: ',abc.score(X_test, y_test))\n",
        "print('F1 Score: ',f1_score(y_test, y_pred))"
      ]
    },
    {
      "cell_type": "code",
      "execution_count": 35,
      "metadata": {
        "colab": {
          "base_uri": "https://localhost:8080/",
          "height": 319
        },
        "id": "HxrktWhEOVs2",
        "outputId": "4313751e-835a-4410-91d0-a8512cd2397c"
      },
      "outputs": [
        {
          "output_type": "stream",
          "name": "stdout",
          "text": [
            "Matriz de Confusão: \n",
            "    0 = adjuvante \t 1 = neoadjuvante\n"
          ]
        },
        {
          "output_type": "display_data",
          "data": {
            "text/plain": [
              "<Figure size 432x288 with 2 Axes>"
            ],
            "image/png": "[encoded data removed]"
          },
          "metadata": {
            "needs_background": "light"
          }
        }
      ],
      "source": [
        "# Fazer previsões com o modelo treinado usando os dados de teste\n",
        "print('Matriz de Confusão: \\n    0 = adjuvante \\t 1 = neoadjuvante')\n",
        "disp = ConfusionMatrixDisplay(confusion_matrix=conf_matrixabc,\n",
        "                              display_labels=abc.classes_)\n",
        "disp.plot()\n",
        "plt.show()"
      ]
    },
    {
      "cell_type": "markdown",
      "metadata": {
        "id": "9_Dl23Pd1PXU"
      },
      "source": [
        "## GaussianNB"
      ]
    },
    {
      "cell_type": "code",
      "execution_count": 36,
      "metadata": {
        "colab": {
          "base_uri": "https://localhost:8080/"
        },
        "id": "e10GwmGn1WGD",
        "outputId": "3ab96d28-1870-4994-9110-76f2f2d6a4af"
      },
      "outputs": [
        {
          "output_type": "stream",
          "name": "stdout",
          "text": [
            "Acuracia de treino:  0.7302631578947368\n",
            "Acuracia de teste:  0.7049808429118773\n",
            "F1 Score:  0.6280193236714976\n"
          ]
        }
      ],
      "source": [
        "nb = GaussianNB()\n",
        "nb.fit(X_train, y_train)\n",
        "\n",
        "y_pred = nb.predict(X_test)\n",
        "conf_matrixnb = confusion_matrix(y_test, y_pred)\n",
        "\n",
        "print('Acuracia de treino: ',nb.score(X_train, y_train))\n",
        "print('Acuracia de teste: ',nb.score(X_test, y_test))\n",
        "print('F1 Score: ',f1_score(y_test, y_pred))"
      ]
    },
    {
      "cell_type": "code",
      "execution_count": 37,
      "metadata": {
        "colab": {
          "base_uri": "https://localhost:8080/",
          "height": 316
        },
        "id": "DfR5n_SuOYgM",
        "outputId": "8a1f839b-acfd-4cdb-c951-07794976f77c"
      },
      "outputs": [
        {
          "output_type": "stream",
          "name": "stdout",
          "text": [
            "Matriz de Confusão: \n",
            "    0 = adjuvante \t 1 = neoadjuvante\n"
          ]
        },
        {
          "output_type": "display_data",
          "data": {
            "text/plain": [
              "<Figure size 432x288 with 2 Axes>"
            ],
            "image/png": "[encoded data removed]"
          },
          "metadata": {
            "needs_background": "light"
          }
        }
      ],
      "source": [
        "# Fazer previsões com o modelo treinado usando os dados de teste\n",
        "print('Matriz de Confusão: \\n    0 = adjuvante \\t 1 = neoadjuvante')\n",
        "disp = ConfusionMatrixDisplay(confusion_matrix=conf_matrixnb,\n",
        "                              display_labels=nb.classes_)\n",
        "disp.plot()\n",
        "plt.show()"
      ]
    },
    {
      "cell_type": "markdown",
      "source": [
        "## Logistic Regression"
      ],
      "metadata": {
        "id": "14mAbHntvWps"
      }
    },
    {
      "cell_type": "code",
      "execution_count": 38,
      "metadata": {
        "colab": {
          "base_uri": "https://localhost:8080/"
        },
        "id": "6-1aluK5wowm",
        "outputId": "7b2f08d5-4ee9-4922-fbd9-94bfc11bc865"
      },
      "outputs": [
        {
          "output_type": "stream",
          "name": "stdout",
          "text": [
            "Acuracia de treino:  0.7368421052631579\n",
            "Acuracia de teste:  0.7567049808429118\n",
            "F1 Score:  0.6649076517150396\n"
          ]
        }
      ],
      "source": [
        "logic = LogisticRegression(max_iter=400)\n",
        "logic.fit(X_train , y_train)\n",
        "\n",
        "y_pred = logic.predict(X_test)\n",
        "conf_matrixlr = confusion_matrix(y_test, y_pred)\n",
        "\n",
        "print('Acuracia de treino: ',logic.score(X_train,y_train))\n",
        "print('Acuracia de teste: ',logic.score(X_test,y_test))\n",
        "print('F1 Score: ',f1_score(y_test, y_pred))"
      ]
    },
    {
      "cell_type": "code",
      "execution_count": 39,
      "metadata": {
        "id": "OJCGrYLqjehw",
        "colab": {
          "base_uri": "https://localhost:8080/",
          "height": 316
        },
        "outputId": "41adf269-d7d1-408d-c773-2fca6f4608df"
      },
      "outputs": [
        {
          "output_type": "stream",
          "name": "stdout",
          "text": [
            "Matriz de Confusão: \n",
            "    0 = adjuvante \t 1 = neoadjuvante\n"
          ]
        },
        {
          "output_type": "display_data",
          "data": {
            "text/plain": [
              "<Figure size 432x288 with 2 Axes>"
            ],
            "image/png": "[encoded data removed]"
          },
          "metadata": {
            "needs_background": "light"
          }
        }
      ],
      "source": [
        "# Fazer previsões com o modelo treinado usando os dados de teste\n",
        "print('Matriz de Confusão: \\n    0 = adjuvante \\t 1 = neoadjuvante')\n",
        "disp = ConfusionMatrixDisplay(confusion_matrix=conf_matrixlr,\n",
        "                              display_labels=logic.classes_)\n",
        "disp.plot()\n",
        "plt.show()"
      ]
    },
    {
      "cell_type": "markdown",
      "source": [
        "## Voting Classifier"
      ],
      "metadata": {
        "id": "CvtEHvf8tK1M"
      }
    },
    {
      "cell_type": "code",
      "execution_count": 40,
      "metadata": {
        "id": "X6khLpqETlzI",
        "colab": {
          "base_uri": "https://localhost:8080/"
        },
        "outputId": "c270558e-8209-4b08-d23a-4889098bab22"
      },
      "outputs": [
        {
          "output_type": "stream",
          "name": "stderr",
          "text": [
            "/usr/local/lib/python3.9/dist-packages/sklearn/svm/_base.py:1244: ConvergenceWarning: Liblinear failed to converge, increase the number of iterations.\n",
            "  warnings.warn(\n"
          ]
        },
        {
          "output_type": "stream",
          "name": "stdout",
          "text": [
            "Acuracia de treino:  0.7450657894736842\n",
            "Acuracia de teste:  0.7509578544061303\n",
            "F1 Score:  0.6467391304347826\n"
          ]
        }
      ],
      "source": [
        "estimators2 = [('svr',SVC(max_iter=3500)),(\"lr\",LogisticRegression(max_iter=400)),(\"ada\",AdaBoostClassifier()),(\"lin\",LinearSVC(max_iter=5000))]\n",
        "\n",
        "vc = VotingClassifier(estimators=estimators2)\n",
        "\n",
        "vc.fit(X_train, y_train)\n",
        "\n",
        "y_pred = vc.predict(X_test)\n",
        "conf_matrixvc = confusion_matrix(y_test, y_pred)\n",
        "\n",
        "print('Acuracia de treino: ',vc.score(X_train, y_train))\n",
        "print('Acuracia de teste: ',vc.score(X_test, y_test))\n",
        "print('F1 Score: ',f1_score(y_test, y_pred))"
      ]
    },
    {
      "cell_type": "code",
      "source": [
        "# Fazer previsões com o modelo treinado usando os dados de teste\n",
        "print('Matriz de Confusão: \\n    0 = adjuvante \\t 1 = neoadjuvante')\n",
        "disp = ConfusionMatrixDisplay(confusion_matrix=conf_matrixvc,\n",
        "                              display_labels=vc.classes_)\n",
        "disp.plot()\n",
        "plt.show()"
      ],
      "metadata": {
        "colab": {
          "base_uri": "https://localhost:8080/",
          "height": 316
        },
        "id": "ScAqP9wguRBu",
        "outputId": "a1bc4062-eb8b-4f81-b228-d46885c62dba"
      },
      "execution_count": 41,
      "outputs": [
        {
          "output_type": "stream",
          "name": "stdout",
          "text": [
            "Matriz de Confusão: \n",
            "    0 = adjuvante \t 1 = neoadjuvante\n"
          ]
        },
        {
          "output_type": "display_data",
          "data": {
            "text/plain": [
              "<Figure size 432x288 with 2 Axes>"
            ],
            "image/png": "[encoded data removed]"
          },
          "metadata": {
            "needs_background": "light"
          }
        }
      ]
    },
    {
      "cell_type": "markdown",
      "source": [
        "## Bagging Classifier"
      ],
      "metadata": {
        "id": "5m4BmVU2tPic"
      }
    },
    {
      "cell_type": "code",
      "execution_count": 42,
      "metadata": {
        "id": "X_geD8mELLoW",
        "colab": {
          "base_uri": "https://localhost:8080/"
        },
        "outputId": "07f8b86e-7725-4f95-8e52-7062b296505f"
      },
      "outputs": [
        {
          "output_type": "stream",
          "name": "stdout",
          "text": [
            "Acuracia de treino:  0.734375\n",
            "Acuracia de teste:  0.7490421455938697\n",
            "F1 Score:  0.6561679790026247\n"
          ]
        }
      ],
      "source": [
        "bc = BaggingClassifier(estimator=LogisticRegression(max_iter=400))\n",
        "\n",
        "bc.fit(X_train, y_train)\n",
        "\n",
        "y_pred = bc.predict(X_test)\n",
        "conf_matrixbc = confusion_matrix(y_test, y_pred)\n",
        "\n",
        "print('Acuracia de treino: ',bc.score(X_train, y_train))\n",
        "print('Acuracia de teste: ',bc.score(X_test, y_test))\n",
        "print('F1 Score: ',f1_score(y_test, y_pred))"
      ]
    },
    {
      "cell_type": "code",
      "source": [
        "# Fazer previsões com o modelo treinado usando os dados de teste\n",
        "print('Matriz de Confusão: \\n    0 = adjuvante \\t 1 = neoadjuvante')\n",
        "disp = ConfusionMatrixDisplay(confusion_matrix=conf_matrixbc,\n",
        "                              display_labels=bc.classes_)\n",
        "disp.plot()\n",
        "plt.show()"
      ],
      "metadata": {
        "colab": {
          "base_uri": "https://localhost:8080/",
          "height": 316
        },
        "id": "y9GgXomluR8L",
        "outputId": "f762f26c-1e63-4494-adf8-557dd579b260"
      },
      "execution_count": 43,
      "outputs": [
        {
          "output_type": "stream",
          "name": "stdout",
          "text": [
            "Matriz de Confusão: \n",
            "    0 = adjuvante \t 1 = neoadjuvante\n"
          ]
        },
        {
          "output_type": "display_data",
          "data": {
            "text/plain": [
              "<Figure size 432x288 with 2 Axes>"
            ],
            "image/png": "[encoded data removed]"
          },
          "metadata": {
            "needs_background": "light"
          }
        }
      ]
    },
    {
      "cell_type": "markdown",
      "source": [
        "## LinearSVC"
      ],
      "metadata": {
        "id": "iOzfT05ctVab"
      }
    },
    {
      "cell_type": "code",
      "execution_count": 44,
      "metadata": {
        "id": "D99oYIRfWn6F",
        "colab": {
          "base_uri": "https://localhost:8080/"
        },
        "outputId": "b7d66939-1a2a-41f6-d17b-5e80097fecee"
      },
      "outputs": [
        {
          "output_type": "stream",
          "name": "stdout",
          "text": [
            "Acuracia de treino:  0.7417763157894737\n",
            "Acuracia de teste:  0.7509578544061303\n",
            "F1 Score:  0.6933962264150945\n"
          ]
        },
        {
          "output_type": "stream",
          "name": "stderr",
          "text": [
            "/usr/local/lib/python3.9/dist-packages/sklearn/svm/_base.py:1244: ConvergenceWarning: Liblinear failed to converge, increase the number of iterations.\n",
            "  warnings.warn(\n"
          ]
        }
      ],
      "source": [
        "lin = LinearSVC(max_iter=4000)\n",
        "\n",
        "lin.fit(X_train,y_train)\n",
        "\n",
        "y_pred = lin.predict(X_test)\n",
        "conf_matrixlin = confusion_matrix(y_test, y_pred)\n",
        "\n",
        "print('Acuracia de treino: ',lin.score(X_train, y_train))\n",
        "print('Acuracia de teste: ',lin.score(X_test, y_test))\n",
        "print('F1 Score: ',f1_score(y_test, y_pred))"
      ]
    },
    {
      "cell_type": "code",
      "source": [
        "# Fazer previsões com o modelo treinado usando os dados de teste\n",
        "print('Matriz de Confusão: \\n    0 = adjuvante \\t 1 = neoadjuvante')\n",
        "disp = ConfusionMatrixDisplay(confusion_matrix=conf_matrixlin,\n",
        "                              display_labels=lin.classes_)\n",
        "disp.plot()\n",
        "plt.show()"
      ],
      "metadata": {
        "colab": {
          "base_uri": "https://localhost:8080/",
          "height": 316
        },
        "id": "R1aIUgx7uTdu",
        "outputId": "f9a23528-1ef6-43a1-cc72-5dfe11f26eab"
      },
      "execution_count": 45,
      "outputs": [
        {
          "output_type": "stream",
          "name": "stdout",
          "text": [
            "Matriz de Confusão: \n",
            "    0 = adjuvante \t 1 = neoadjuvante\n"
          ]
        },
        {
          "output_type": "display_data",
          "data": {
            "text/plain": [
              "<Figure size 432x288 with 2 Axes>"
            ],
            "image/png": "[encoded data removed]"
          },
          "metadata": {
            "needs_background": "light"
          }
        }
      ]
    },
    {
      "cell_type": "markdown",
      "source": [
        "# Modelo escolhido"
      ],
      "metadata": {
        "id": "T6pP0gb4tEHR"
      }
    },
    {
      "cell_type": "markdown",
      "source": [
        "## Stacking Classifier\n",
        "O modelo escolhido foi o Stacking Classifier, por apresentar melhor generalização, e possuir uma maior acuracidade no conjunto de teste, além de uma matriz de confusão com a diagonal principal com valores maiores."
      ],
      "metadata": {
        "id": "olC3YFM0wyJk"
      }
    },
    {
      "cell_type": "code",
      "execution_count": 46,
      "metadata": {
        "id": "IhEymhTP-Po5",
        "colab": {
          "base_uri": "https://localhost:8080/"
        },
        "outputId": "66d5d744-26ed-4ce6-fbc8-2a95cb5d84e8"
      },
      "outputs": [
        {
          "output_type": "stream",
          "name": "stdout",
          "text": [
            "Acuracia de treino:  0.7475328947368421\n",
            "Acuracia de teste:  0.7586206896551724\n",
            "F1 Score:  0.657608695652174\n"
          ]
        }
      ],
      "source": [
        "estimators = [(\"rf\",RandomForestClassifier(max_depth=4)),('svr',SVC(max_iter=2000)),(\"ada\",AdaBoostClassifier())]\n",
        "\n",
        "alg = StackingClassifier(estimators=estimators,final_estimator=LinearSVC(max_iter=4000))\n",
        "\n",
        "alg.fit(X_train, y_train)\n",
        "\n",
        "y_pred = alg.predict(X_test)\n",
        "conf_matrixsc = confusion_matrix(y_test, y_pred)\n",
        "\n",
        "print('Acuracia de treino: ',alg.score(X_train,y_train))\n",
        "print('Acuracia de teste: ',alg.score(X_test,y_test))\n",
        "print('F1 Score: ',f1_score(y_test, y_pred))"
      ]
    },
    {
      "cell_type": "code",
      "source": [
        "# Fazer previsões com o modelo treinado usando os dados de teste\n",
        "print('Matriz de Confusão: \\n    0 = adjuvante \\t 1 = neoadjuvante')\n",
        "disp = ConfusionMatrixDisplay(confusion_matrix=conf_matrixsc,\n",
        "                              display_labels=alg.classes_)\n",
        "disp.plot()\n",
        "plt.show()"
      ],
      "metadata": {
        "colab": {
          "base_uri": "https://localhost:8080/",
          "height": 316
        },
        "id": "w6C32xvOqlij",
        "outputId": "aeeaa3ff-ae11-4890-89ce-62a0ebfae890"
      },
      "execution_count": 47,
      "outputs": [
        {
          "output_type": "stream",
          "name": "stdout",
          "text": [
            "Matriz de Confusão: \n",
            "    0 = adjuvante \t 1 = neoadjuvante\n"
          ]
        },
        {
          "output_type": "display_data",
          "data": {
            "text/plain": [
              "<Figure size 432x288 with 2 Axes>"
            ],
            "image/png": "[encoded data removed]"
          },
          "metadata": {
            "needs_background": "light"
          }
        }
      ]
    }
  ],
  "metadata": {
    "colab": {
      "collapsed_sections": [
        "C9pPQFnXLXbr",
        "IRJAC03SL-ky",
        "9SB6tkdALyBR",
        "EosAXgGxL2lI"
      ],
      "provenance": []
    },
    "kernelspec": {
      "display_name": "Python 3",
      "name": "python3"
    },
    "language_info": {
      "name": "python"
    }
  },
  "nbformat": 4,
  "nbformat_minor": 0
}
