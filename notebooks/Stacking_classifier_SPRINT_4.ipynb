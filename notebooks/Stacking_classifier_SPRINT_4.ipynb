{
  "cells": [
    {
      "cell_type": "code",
      "execution_count": null,
      "metadata": {
        "colab": {
          "base_uri": "https://localhost:8080/"
        },
        "id": "qxmTwWzKvbjD",
        "outputId": "c92b21cb-a705-4ffa-dc00-173b17beac27"
      },
      "outputs": [
        {
          "name": "stdout",
          "output_type": "stream",
          "text": [
            "Mounted at /content/drive\n"
          ]
        }
      ],
      "source": [
        "from google.colab import drive\n",
        "drive.mount('/content/drive') "
      ]
    },
    {
      "cell_type": "code",
      "execution_count": null,
      "metadata": {
        "id": "_Y_fXauvvI4S"
      },
      "outputs": [],
      "source": [
        "import pandas as pd #para ler, visualizar e printar infos do df\n",
        "import matplotlib.pyplot as plt #para construir e customizar gráficos\n",
        "import seaborn as sns #para visualizar uns gráficos\n",
        "import numpy as np #numpy porque é sempre bom importar numpy né \n",
        "import math\n",
        "import datetime\n",
        "import plotly.express as px\n",
        "from pandas_profiling import ProfileReport"
      ]
    },
    {
      "cell_type": "markdown",
      "metadata": {
        "id": "RGB9JBGYxWUs"
      },
      "source": [
        "# Carregando conjunto de dados e tratamentos iniciais"
      ]
    },
    {
      "cell_type": "code",
      "execution_count": null,
      "metadata": {
        "colab": {
          "base_uri": "https://localhost:8080/"
        },
        "id": "gNOm23QMLMeo",
        "outputId": "2293d77e-eeee-4314-f200-24c60bf69f27"
      },
      "outputs": [
        {
          "data": {
            "text/html": [
              "\n",
              "  <div id=\"df-fbacf415-834e-4777-95ae-73591a079411\">\n",
              "    <div class=\"colab-df-container\">\n",
              "      <div>\n",
              "<style scoped>\n",
              "    .dataframe tbody tr th:only-of-type {\n",
              "        vertical-align: middle;\n",
              "    }\n",
              "\n",
              "    .dataframe tbody tr th {\n",
              "        vertical-align: top;\n",
              "    }\n",
              "\n",
              "    .dataframe thead th {\n",
              "        text-align: right;\n",
              "    }\n",
              "</style>\n",
              "<table border=\"1\" class=\"dataframe\">\n",
              "  <thead>\n",
              "    <tr style=\"text-align: right;\">\n",
              "      <th></th>\n",
              "      <th>record_id</th>\n",
              "      <th>escolaridade</th>\n",
              "      <th>idade_no_primeiro_diagnostico</th>\n",
              "      <th>sexo</th>\n",
              "      <th>raca</th>\n",
              "      <th>uf_nascimento</th>\n",
              "      <th>uf_residencia</th>\n",
              "      <th>data_ultima_informacao</th>\n",
              "      <th>ultima_informacao</th>\n",
              "      <th>tempo_em_dias_desde_o_ultimo_tumor_no_caso_de_tumores_multiplos</th>\n",
              "      <th>...</th>\n",
              "      <th>classificacao_tnm_patologico_t</th>\n",
              "      <th>com_recidiva_a_distancia</th>\n",
              "      <th>com_recidiva_regional</th>\n",
              "      <th>com_recidiva_local</th>\n",
              "      <th>recidiva</th>\n",
              "      <th>quimio</th>\n",
              "      <th>radio</th>\n",
              "      <th>cirurgia</th>\n",
              "      <th>hormonio</th>\n",
              "      <th>tipo_de_tratamento</th>\n",
              "    </tr>\n",
              "  </thead>\n",
              "  <tbody>\n",
              "    <tr>\n",
              "      <th>0</th>\n",
              "      <td>302</td>\n",
              "      <td>ENS. FUNDAMENTAL INCOMPLETO</td>\n",
              "      <td>51.0</td>\n",
              "      <td>1</td>\n",
              "      <td>NaN</td>\n",
              "      <td>NaN</td>\n",
              "      <td>NaN</td>\n",
              "      <td>2014-04-26</td>\n",
              "      <td>0.0</td>\n",
              "      <td>2225.0</td>\n",
              "      <td>...</td>\n",
              "      <td>Nao informado</td>\n",
              "      <td>0</td>\n",
              "      <td>0</td>\n",
              "      <td>0</td>\n",
              "      <td>0</td>\n",
              "      <td>1</td>\n",
              "      <td>1</td>\n",
              "      <td>1</td>\n",
              "      <td>1</td>\n",
              "      <td>NaN</td>\n",
              "    </tr>\n",
              "    <tr>\n",
              "      <th>1</th>\n",
              "      <td>710</td>\n",
              "      <td>ENSINO MÉDIO</td>\n",
              "      <td>58.0</td>\n",
              "      <td>1</td>\n",
              "      <td>NaN</td>\n",
              "      <td>NaN</td>\n",
              "      <td>NaN</td>\n",
              "      <td>2016-11-17</td>\n",
              "      <td>1.0</td>\n",
              "      <td>3294.0</td>\n",
              "      <td>...</td>\n",
              "      <td>Nao informado</td>\n",
              "      <td>0</td>\n",
              "      <td>1</td>\n",
              "      <td>1</td>\n",
              "      <td>0</td>\n",
              "      <td>1</td>\n",
              "      <td>0</td>\n",
              "      <td>1</td>\n",
              "      <td>0</td>\n",
              "      <td>0.0</td>\n",
              "    </tr>\n",
              "    <tr>\n",
              "      <th>2</th>\n",
              "      <td>752</td>\n",
              "      <td>ENS. FUNDAMENTAL INCOMPLETO</td>\n",
              "      <td>56.0</td>\n",
              "      <td>1</td>\n",
              "      <td>NaN</td>\n",
              "      <td>NaN</td>\n",
              "      <td>NaN</td>\n",
              "      <td>2019-05-02</td>\n",
              "      <td>1.0</td>\n",
              "      <td>4153.0</td>\n",
              "      <td>...</td>\n",
              "      <td>2</td>\n",
              "      <td>0</td>\n",
              "      <td>0</td>\n",
              "      <td>0</td>\n",
              "      <td>0</td>\n",
              "      <td>0</td>\n",
              "      <td>0</td>\n",
              "      <td>0</td>\n",
              "      <td>0</td>\n",
              "      <td>NaN</td>\n",
              "    </tr>\n",
              "    <tr>\n",
              "      <th>3</th>\n",
              "      <td>1367</td>\n",
              "      <td>ENS. FUNDAMENTAL INCOMPLETO</td>\n",
              "      <td>63.0</td>\n",
              "      <td>1</td>\n",
              "      <td>NaN</td>\n",
              "      <td>NaN</td>\n",
              "      <td>NaN</td>\n",
              "      <td>2011-09-29</td>\n",
              "      <td>0.0</td>\n",
              "      <td>1331.0</td>\n",
              "      <td>...</td>\n",
              "      <td>1A</td>\n",
              "      <td>0</td>\n",
              "      <td>1</td>\n",
              "      <td>0</td>\n",
              "      <td>1</td>\n",
              "      <td>0</td>\n",
              "      <td>0</td>\n",
              "      <td>0</td>\n",
              "      <td>0</td>\n",
              "      <td>NaN</td>\n",
              "    </tr>\n",
              "    <tr>\n",
              "      <th>4</th>\n",
              "      <td>1589</td>\n",
              "      <td>ENS. FUNDAMENTAL COMPLETO</td>\n",
              "      <td>42.0</td>\n",
              "      <td>1</td>\n",
              "      <td>NaN</td>\n",
              "      <td>NaN</td>\n",
              "      <td>NaN</td>\n",
              "      <td>2017-05-24</td>\n",
              "      <td>1.0</td>\n",
              "      <td>3290.0</td>\n",
              "      <td>...</td>\n",
              "      <td>Nao informado</td>\n",
              "      <td>0</td>\n",
              "      <td>0</td>\n",
              "      <td>0</td>\n",
              "      <td>0</td>\n",
              "      <td>1</td>\n",
              "      <td>1</td>\n",
              "      <td>1</td>\n",
              "      <td>0</td>\n",
              "      <td>NaN</td>\n",
              "    </tr>\n",
              "  </tbody>\n",
              "</table>\n",
              "<p>5 rows × 100 columns</p>\n",
              "</div>\n",
              "      <button class=\"colab-df-convert\" onclick=\"convertToInteractive('df-fbacf415-834e-4777-95ae-73591a079411')\"\n",
              "              title=\"Convert this dataframe to an interactive table.\"\n",
              "              style=\"display:none;\">\n",
              "        \n",
              "  <svg xmlns=\"http://www.w3.org/2000/svg\" height=\"24px\"viewBox=\"0 0 24 24\"\n",
              "       width=\"24px\">\n",
              "    <path d=\"M0 0h24v24H0V0z\" fill=\"none\"/>\n",
              "    <path d=\"M18.56 5.44l.94 2.06.94-2.06 2.06-.94-2.06-.94-.94-2.06-.94 2.06-2.06.94zm-11 1L8.5 8.5l.94-2.06 2.06-.94-2.06-.94L8.5 2.5l-.94 2.06-2.06.94zm10 10l.94 2.06.94-2.06 2.06-.94-2.06-.94-.94-2.06-.94 2.06-2.06.94z\"/><path d=\"M17.41 7.96l-1.37-1.37c-.4-.4-.92-.59-1.43-.59-.52 0-1.04.2-1.43.59L10.3 9.45l-7.72 7.72c-.78.78-.78 2.05 0 2.83L4 21.41c.39.39.9.59 1.41.59.51 0 1.02-.2 1.41-.59l7.78-7.78 2.81-2.81c.8-.78.8-2.07 0-2.86zM5.41 20L4 18.59l7.72-7.72 1.47 1.35L5.41 20z\"/>\n",
              "  </svg>\n",
              "      </button>\n",
              "      \n",
              "  <style>\n",
              "    .colab-df-container {\n",
              "      display:flex;\n",
              "      flex-wrap:wrap;\n",
              "      gap: 12px;\n",
              "    }\n",
              "\n",
              "    .colab-df-convert {\n",
              "      background-color: #E8F0FE;\n",
              "      border: none;\n",
              "      border-radius: 50%;\n",
              "      cursor: pointer;\n",
              "      display: none;\n",
              "      fill: #1967D2;\n",
              "      height: 32px;\n",
              "      padding: 0 0 0 0;\n",
              "      width: 32px;\n",
              "    }\n",
              "\n",
              "    .colab-df-convert:hover {\n",
              "      background-color: #E2EBFA;\n",
              "      box-shadow: 0px 1px 2px rgba(60, 64, 67, 0.3), 0px 1px 3px 1px rgba(60, 64, 67, 0.15);\n",
              "      fill: #174EA6;\n",
              "    }\n",
              "\n",
              "    [theme=dark] .colab-df-convert {\n",
              "      background-color: #3B4455;\n",
              "      fill: #D2E3FC;\n",
              "    }\n",
              "\n",
              "    [theme=dark] .colab-df-convert:hover {\n",
              "      background-color: #434B5C;\n",
              "      box-shadow: 0px 1px 3px 1px rgba(0, 0, 0, 0.15);\n",
              "      filter: drop-shadow(0px 1px 2px rgba(0, 0, 0, 0.3));\n",
              "      fill: #FFFFFF;\n",
              "    }\n",
              "  </style>\n",
              "\n",
              "      <script>\n",
              "        const buttonEl =\n",
              "          document.querySelector('#df-fbacf415-834e-4777-95ae-73591a079411 button.colab-df-convert');\n",
              "        buttonEl.style.display =\n",
              "          google.colab.kernel.accessAllowed ? 'block' : 'none';\n",
              "\n",
              "        async function convertToInteractive(key) {\n",
              "          const element = document.querySelector('#df-fbacf415-834e-4777-95ae-73591a079411');\n",
              "          const dataTable =\n",
              "            await google.colab.kernel.invokeFunction('convertToInteractive',\n",
              "                                                     [key], {});\n",
              "          if (!dataTable) return;\n",
              "\n",
              "          const docLinkHtml = 'Like what you see? Visit the ' +\n",
              "            '<a target=\"_blank\" href=https://colab.research.google.com/notebooks/data_table.ipynb>data table notebook</a>'\n",
              "            + ' to learn more about interactive tables.';\n",
              "          element.innerHTML = '';\n",
              "          dataTable['output_type'] = 'display_data';\n",
              "          await google.colab.output.renderOutput(dataTable, element);\n",
              "          const docLink = document.createElement('div');\n",
              "          docLink.innerHTML = docLinkHtml;\n",
              "          element.appendChild(docLink);\n",
              "        }\n",
              "      </script>\n",
              "    </div>\n",
              "  </div>\n",
              "  "
            ],
            "text/plain": [
              "   record_id                 escolaridade  idade_no_primeiro_diagnostico  \\\n",
              "0        302  ENS. FUNDAMENTAL INCOMPLETO                           51.0   \n",
              "1        710                 ENSINO MÉDIO                           58.0   \n",
              "2        752  ENS. FUNDAMENTAL INCOMPLETO                           56.0   \n",
              "3       1367  ENS. FUNDAMENTAL INCOMPLETO                           63.0   \n",
              "4       1589    ENS. FUNDAMENTAL COMPLETO                           42.0   \n",
              "\n",
              "   sexo raca uf_nascimento uf_residencia data_ultima_informacao  \\\n",
              "0     1  NaN           NaN           NaN             2014-04-26   \n",
              "1     1  NaN           NaN           NaN             2016-11-17   \n",
              "2     1  NaN           NaN           NaN             2019-05-02   \n",
              "3     1  NaN           NaN           NaN             2011-09-29   \n",
              "4     1  NaN           NaN           NaN             2017-05-24   \n",
              "\n",
              "   ultima_informacao  \\\n",
              "0                0.0   \n",
              "1                1.0   \n",
              "2                1.0   \n",
              "3                0.0   \n",
              "4                1.0   \n",
              "\n",
              "   tempo_em_dias_desde_o_ultimo_tumor_no_caso_de_tumores_multiplos  ...  \\\n",
              "0                                             2225.0                ...   \n",
              "1                                             3294.0                ...   \n",
              "2                                             4153.0                ...   \n",
              "3                                             1331.0                ...   \n",
              "4                                             3290.0                ...   \n",
              "\n",
              "   classificacao_tnm_patologico_t  com_recidiva_a_distancia  \\\n",
              "0                   Nao informado                         0   \n",
              "1                   Nao informado                         0   \n",
              "2                               2                         0   \n",
              "3                              1A                         0   \n",
              "4                   Nao informado                         0   \n",
              "\n",
              "   com_recidiva_regional  com_recidiva_local recidiva quimio  radio cirurgia  \\\n",
              "0                      0                   0        0      1      1        1   \n",
              "1                      1                   1        0      1      0        1   \n",
              "2                      0                   0        0      0      0        0   \n",
              "3                      1                   0        1      0      0        0   \n",
              "4                      0                   0        0      1      1        1   \n",
              "\n",
              "  hormonio tipo_de_tratamento  \n",
              "0        1                NaN  \n",
              "1        0                0.0  \n",
              "2        0                NaN  \n",
              "3        0                NaN  \n",
              "4        0                NaN  \n",
              "\n",
              "[5 rows x 100 columns]"
            ]
          },
          "execution_count": 3,
          "metadata": {},
          "output_type": "execute_result"
        }
      ],
      "source": [
        "df = pd.read_csv('/content/drive/Shareddrives/OncoAI/Grupo 5 - OncoAI/Projeto/Base_de_dados/Merge_Trat.csv')\n",
        "df.head()"
      ]
    },
    {
      "cell_type": "code",
      "execution_count": null,
      "metadata": {
        "colab": {
          "base_uri": "https://localhost:8080/"
        },
        "id": "yLkLmj_gIzfW",
        "outputId": "d100a1f7-1fd0-49ed-f6af-d1ea59d5a66f"
      },
      "outputs": [
        {
          "data": {
            "text/plain": [
              "(3791, 100)"
            ]
          },
          "execution_count": 4,
          "metadata": {},
          "output_type": "execute_result"
        }
      ],
      "source": [
        "df.shape"
      ]
    },
    {
      "cell_type": "code",
      "execution_count": null,
      "metadata": {
        "colab": {
          "base_uri": "https://localhost:8080/"
        },
        "id": "BUsTK4AuRS2G",
        "outputId": "886b7176-cc81-4cea-a437-f33e1d411e4a"
      },
      "outputs": [
        {
          "data": {
            "text/plain": [
              "Index(['record_id', 'escolaridade', 'idade_no_primeiro_diagnostico', 'sexo',\n",
              "       'raca', 'uf_nascimento', 'uf_residencia', 'data_ultima_informacao',\n",
              "       'ultima_informacao',\n",
              "       'tempo_em_dias_desde_o_ultimo_tumor_no_caso_de_tumores_multiplos',\n",
              "       'ja_ficou_gravida', 'quantas_vezes_ficou_gravida', 'numero_de_partos',\n",
              "       'idade_na_primeira_gestacao', 'abortou',\n",
              "       'amamentou_na_primeira_gestacao', 'tempo_de_amamentacao',\n",
              "       'historia_familiar_de_cancer_relacionado_a_síndrome_de_cancer_de_mama_e_ovario_hereditaria(choice=Nao)',\n",
              "       'historia_familiar_de_cancer_relacionado_a_síndrome_de_cancer_de_mama_e_ovario_hereditaria(choice=Sim_1_grau,apenas_um_caso)',\n",
              "       'historia_familiar_de_cancer_relacionado_a_síndrome_de_cancer_de_mama_e_ovario_hereditaria(choice=Sim_1_grau,mais_de_um_caso)',\n",
              "       'historia_familiar_de_cancer_relacionado_a_síndrome_de_cancer_de_mama_e_ovario_hereditaria(choice=Sim_2_grau,apenas_um_caso)',\n",
              "       'historia_familiar_de_cancer_relacionado_a_síndrome_de_cancer_de_mama_e_ovario_hereditaria(choice=Sim_2_grau,mais_de_um_caso)',\n",
              "       'idade_na_primeira_menstruacao', 'usa_metodo_contraceptivo',\n",
              "       'pilula_anticoncepcional', 'diu', 'camisinha', 'outros',\n",
              "       'nao_informado', 'ja_usou_drogas', 'realiza_atividades_fisicas',\n",
              "       'consumo_de_tabaco', 'consumo_de_alcool',\n",
              "       'possui_historico_familiar_de_cancer',\n",
              "       'grau_de_parentesco(choice=primeiro(pais,_irmaos,_filhos))',\n",
              "       'grau_de_parentesco(choice=segundo(avós,_tios_e_netos))',\n",
              "       'grau_de_parentesco(choice=terceiro(bisavós,tio_avós,primos,sobrinhos))',\n",
              "       'regime_tratamento', 'hormonioterapia', 'data_cirurgia',\n",
              "       'tipo_de_terapia_anti-her2_neoadjuvante', 'radioterapia',\n",
              "       'data_inicio_quimio', 'esquema_de_hormonioterapia',\n",
              "       'data_inicio_hormonioterapia_adjuvante', 'data_inicio_radio',\n",
              "       'data_entrada', 'peso_inicial', 'altura_cm', 'IMC', 'peso_max',\n",
              "       'peso_min', 'diagnostico_primario_tipo_histologico', 'grau_histologico',\n",
              "       'subtipo_tumoral', 'receptor_de_estrogenio', 'receptor_de_progesterona',\n",
              "       'ki67_maior_14_percentage',\n",
              "       'receptor_de_progesterona_quantificacao_percentage',\n",
              "       'receptor_de_estrogenio_quantificacao_percentage',\n",
              "       'indice_h_receptor_de_progesterona', 'her2_por_ihc', 'her2_por_fish',\n",
              "       'ki67_percentage', 'data_primeira_consulta_institucional',\n",
              "       'data_diagnostico', 'codigo_topografia_cid_0',\n",
              "       'codigo_morfologia_de_acordo_com_o_cid_o', 'estadio_clinico',\n",
              "       'grupo_estadio_clinico', 'classificacao_tnm_clinico_t',\n",
              "       'classificacao_tnm_clinico_n', 'classificacao_tnm_clinico_m',\n",
              "       'metastase_ao_diagnostico_cid_O_1', 'metastase_ao_diagnostico_cid_O_2',\n",
              "       'metastase_ao_diagnostico_cid_O_3', 'metastase_ao_diagnostico_cid_O_4',\n",
              "       'data_do_tratamento',\n",
              "       'combinacao_dos_tratamentos_realizados_no_hospital', 'ano_diagnostico',\n",
              "       'lateralidade_do_tumor', 'data_recidiva',\n",
              "       'tempo_desde_o_diagnostico_ate_a_primeira_recidiva',\n",
              "       'local_recidiva_a_xa0_distancia_metastase_1_cid_O_topografia',\n",
              "       'local_recidiva_a_xa0_distancia_metastase_2_cid_O_topografia',\n",
              "       'local_recidiva_a_xa0_distancia_metastase_3_cid_O_topografia',\n",
              "       'local_recidiva_a_xa0_distancia_metastase_4_cid_O_topografia',\n",
              "       'descricao_da_morfologia_de_acordo_com_o_cid_O_cid_O_3_edição',\n",
              "       'descricao_topografia', 'classificacao_tnm_patologico_n',\n",
              "       'classificacao_tnm_patologico_t', 'com_recidiva_a_distancia',\n",
              "       'com_recidiva_regional', 'com_recidiva_local', 'recidiva', 'quimio',\n",
              "       'radio', 'cirurgia', 'hormonio', 'tipo_de_tratamento'],\n",
              "      dtype='object')"
            ]
          },
          "execution_count": 5,
          "metadata": {},
          "output_type": "execute_result"
        }
      ],
      "source": [
        "df.columns"
      ]
    },
    {
      "cell_type": "code",
      "execution_count": null,
      "metadata": {
        "id": "oRCPmdaz3SP3"
      },
      "outputs": [],
      "source": [
        "dfr = df"
      ]
    },
    {
      "cell_type": "markdown",
      "metadata": {
        "id": "Hs-3B2deT8Iq"
      },
      "source": [
        "# Filtrando e organizando"
      ]
    },
    {
      "cell_type": "code",
      "execution_count": null,
      "metadata": {
        "colab": {
          "base_uri": "https://localhost:8080/"
        },
        "id": "-R_G5UcU3aia",
        "outputId": "fef19e25-cddd-42c2-ca5a-f263678719a5"
      },
      "outputs": [
        {
          "name": "stderr",
          "output_type": "stream",
          "text": [
            "<ipython-input-7-6b187c878a1b>:1: UserWarning: Boolean Series key will be reindexed to match DataFrame index.\n",
            "  dfr = dfr[dfr[\"regime_tratamento\"].isnull()==False][dfr[\"regime_tratamento\"]!=2][dfr[\"regime_tratamento\"]!=3]\n"
          ]
        }
      ],
      "source": [
        "dfr = dfr[dfr[\"regime_tratamento\"].isnull()==False][dfr[\"regime_tratamento\"]!=2][dfr[\"regime_tratamento\"]!=3]"
      ]
    },
    {
      "cell_type": "code",
      "execution_count": null,
      "metadata": {
        "colab": {
          "base_uri": "https://localhost:8080/"
        },
        "id": "EZKleXVw4uYL",
        "outputId": "d4e091d4-622d-4188-8df7-b36d798ed167"
      },
      "outputs": [
        {
          "name": "stderr",
          "output_type": "stream",
          "text": [
            "<ipython-input-8-212e2b847256>:1: UserWarning: Boolean Series key will be reindexed to match DataFrame index.\n",
            "  dfr = dfr[dfr[\"ultima_informacao\"]!= 0][dfr[\"ultima_informacao\"]!= 2]\n"
          ]
        }
      ],
      "source": [
        "dfr = dfr[dfr[\"ultima_informacao\"]!= 0][dfr[\"ultima_informacao\"]!= 2]"
      ]
    },
    {
      "cell_type": "code",
      "execution_count": null,
      "metadata": {
        "id": "QkOkcxVY5gRR"
      },
      "outputs": [],
      "source": [
        "dfr = dfr[dfr['recidiva']!=1]"
      ]
    },
    {
      "cell_type": "code",
      "execution_count": null,
      "metadata": {
        "colab": {
          "base_uri": "https://localhost:8080/"
        },
        "id": "8Bdf-Kpg6qI0",
        "outputId": "24c1bb64-cf9c-4ab2-d15d-a8311020ad2e"
      },
      "outputs": [
        {
          "data": {
            "text/html": [
              "\n",
              "  <div id=\"df-25945707-af8b-4954-8147-14f8e9a68f0b\">\n",
              "    <div class=\"colab-df-container\">\n",
              "      <div>\n",
              "<style scoped>\n",
              "    .dataframe tbody tr th:only-of-type {\n",
              "        vertical-align: middle;\n",
              "    }\n",
              "\n",
              "    .dataframe tbody tr th {\n",
              "        vertical-align: top;\n",
              "    }\n",
              "\n",
              "    .dataframe thead th {\n",
              "        text-align: right;\n",
              "    }\n",
              "</style>\n",
              "<table border=\"1\" class=\"dataframe\">\n",
              "  <thead>\n",
              "    <tr style=\"text-align: right;\">\n",
              "      <th></th>\n",
              "      <th>record_id</th>\n",
              "      <th>escolaridade</th>\n",
              "      <th>idade_no_primeiro_diagnostico</th>\n",
              "      <th>sexo</th>\n",
              "      <th>raca</th>\n",
              "      <th>uf_nascimento</th>\n",
              "      <th>uf_residencia</th>\n",
              "      <th>data_ultima_informacao</th>\n",
              "      <th>ultima_informacao</th>\n",
              "      <th>tempo_em_dias_desde_o_ultimo_tumor_no_caso_de_tumores_multiplos</th>\n",
              "      <th>...</th>\n",
              "      <th>classificacao_tnm_patologico_t</th>\n",
              "      <th>com_recidiva_a_distancia</th>\n",
              "      <th>com_recidiva_regional</th>\n",
              "      <th>com_recidiva_local</th>\n",
              "      <th>recidiva</th>\n",
              "      <th>quimio</th>\n",
              "      <th>radio</th>\n",
              "      <th>cirurgia</th>\n",
              "      <th>hormonio</th>\n",
              "      <th>tipo_de_tratamento</th>\n",
              "    </tr>\n",
              "  </thead>\n",
              "  <tbody>\n",
              "    <tr>\n",
              "      <th>1</th>\n",
              "      <td>710</td>\n",
              "      <td>ENSINO MÉDIO</td>\n",
              "      <td>58.0</td>\n",
              "      <td>1</td>\n",
              "      <td>NaN</td>\n",
              "      <td>NaN</td>\n",
              "      <td>NaN</td>\n",
              "      <td>2016-11-17</td>\n",
              "      <td>1.0</td>\n",
              "      <td>3294.0</td>\n",
              "      <td>...</td>\n",
              "      <td>Nao informado</td>\n",
              "      <td>0</td>\n",
              "      <td>1</td>\n",
              "      <td>1</td>\n",
              "      <td>0</td>\n",
              "      <td>1</td>\n",
              "      <td>0</td>\n",
              "      <td>1</td>\n",
              "      <td>0</td>\n",
              "      <td>0.0</td>\n",
              "    </tr>\n",
              "    <tr>\n",
              "      <th>9</th>\n",
              "      <td>1960</td>\n",
              "      <td>ENS. FUNDAMENTAL INCOMPLETO</td>\n",
              "      <td>29.0</td>\n",
              "      <td>1</td>\n",
              "      <td>NaN</td>\n",
              "      <td>NaN</td>\n",
              "      <td>NaN</td>\n",
              "      <td>2010-06-27</td>\n",
              "      <td>1.0</td>\n",
              "      <td>699.0</td>\n",
              "      <td>...</td>\n",
              "      <td>Nao informado</td>\n",
              "      <td>0</td>\n",
              "      <td>0</td>\n",
              "      <td>0</td>\n",
              "      <td>0</td>\n",
              "      <td>0</td>\n",
              "      <td>0</td>\n",
              "      <td>0</td>\n",
              "      <td>0</td>\n",
              "      <td>NaN</td>\n",
              "    </tr>\n",
              "    <tr>\n",
              "      <th>15</th>\n",
              "      <td>2157</td>\n",
              "      <td>ENS. FUNDAMENTAL COMPLETO</td>\n",
              "      <td>51.0</td>\n",
              "      <td>1</td>\n",
              "      <td>NaN</td>\n",
              "      <td>NaN</td>\n",
              "      <td>NaN</td>\n",
              "      <td>2009-04-10</td>\n",
              "      <td>1.0</td>\n",
              "      <td>385.0</td>\n",
              "      <td>...</td>\n",
              "      <td>1</td>\n",
              "      <td>0</td>\n",
              "      <td>0</td>\n",
              "      <td>0</td>\n",
              "      <td>0</td>\n",
              "      <td>0</td>\n",
              "      <td>0</td>\n",
              "      <td>0</td>\n",
              "      <td>0</td>\n",
              "      <td>0.0</td>\n",
              "    </tr>\n",
              "    <tr>\n",
              "      <th>26</th>\n",
              "      <td>2864</td>\n",
              "      <td>ENS. FUNDAMENTAL INCOMPLETO</td>\n",
              "      <td>39.0</td>\n",
              "      <td>1</td>\n",
              "      <td>NaN</td>\n",
              "      <td>NaN</td>\n",
              "      <td>NaN</td>\n",
              "      <td>2021-05-17</td>\n",
              "      <td>1.0</td>\n",
              "      <td>1839.0</td>\n",
              "      <td>...</td>\n",
              "      <td>Nao informado</td>\n",
              "      <td>0</td>\n",
              "      <td>0</td>\n",
              "      <td>0</td>\n",
              "      <td>0</td>\n",
              "      <td>0</td>\n",
              "      <td>1</td>\n",
              "      <td>0</td>\n",
              "      <td>0</td>\n",
              "      <td>1.0</td>\n",
              "    </tr>\n",
              "    <tr>\n",
              "      <th>28</th>\n",
              "      <td>3357</td>\n",
              "      <td>ENS. FUNDAMENTAL COMPLETO</td>\n",
              "      <td>48.0</td>\n",
              "      <td>1</td>\n",
              "      <td>NaN</td>\n",
              "      <td>NaN</td>\n",
              "      <td>NaN</td>\n",
              "      <td>2012-02-20</td>\n",
              "      <td>1.0</td>\n",
              "      <td>1428.0</td>\n",
              "      <td>...</td>\n",
              "      <td>Nao informado</td>\n",
              "      <td>0</td>\n",
              "      <td>0</td>\n",
              "      <td>0</td>\n",
              "      <td>0</td>\n",
              "      <td>1</td>\n",
              "      <td>1</td>\n",
              "      <td>1</td>\n",
              "      <td>1</td>\n",
              "      <td>0.0</td>\n",
              "    </tr>\n",
              "    <tr>\n",
              "      <th>...</th>\n",
              "      <td>...</td>\n",
              "      <td>...</td>\n",
              "      <td>...</td>\n",
              "      <td>...</td>\n",
              "      <td>...</td>\n",
              "      <td>...</td>\n",
              "      <td>...</td>\n",
              "      <td>...</td>\n",
              "      <td>...</td>\n",
              "      <td>...</td>\n",
              "      <td>...</td>\n",
              "      <td>...</td>\n",
              "      <td>...</td>\n",
              "      <td>...</td>\n",
              "      <td>...</td>\n",
              "      <td>...</td>\n",
              "      <td>...</td>\n",
              "      <td>...</td>\n",
              "      <td>...</td>\n",
              "      <td>...</td>\n",
              "      <td>...</td>\n",
              "    </tr>\n",
              "    <tr>\n",
              "      <th>3781</th>\n",
              "      <td>82100</td>\n",
              "      <td>NaN</td>\n",
              "      <td>53.0</td>\n",
              "      <td>1</td>\n",
              "      <td>NaN</td>\n",
              "      <td>NaN</td>\n",
              "      <td>NaN</td>\n",
              "      <td>2021-07-25</td>\n",
              "      <td>1.0</td>\n",
              "      <td>366.0</td>\n",
              "      <td>...</td>\n",
              "      <td>Nao informado</td>\n",
              "      <td>0</td>\n",
              "      <td>0</td>\n",
              "      <td>0</td>\n",
              "      <td>0</td>\n",
              "      <td>1</td>\n",
              "      <td>1</td>\n",
              "      <td>1</td>\n",
              "      <td>0</td>\n",
              "      <td>1.0</td>\n",
              "    </tr>\n",
              "    <tr>\n",
              "      <th>3783</th>\n",
              "      <td>82112</td>\n",
              "      <td>NaN</td>\n",
              "      <td>53.0</td>\n",
              "      <td>1</td>\n",
              "      <td>NaN</td>\n",
              "      <td>NaN</td>\n",
              "      <td>NaN</td>\n",
              "      <td>2021-10-04</td>\n",
              "      <td>1.0</td>\n",
              "      <td>370.0</td>\n",
              "      <td>...</td>\n",
              "      <td>Nao informado</td>\n",
              "      <td>0</td>\n",
              "      <td>0</td>\n",
              "      <td>0</td>\n",
              "      <td>0</td>\n",
              "      <td>0</td>\n",
              "      <td>0</td>\n",
              "      <td>0</td>\n",
              "      <td>0</td>\n",
              "      <td>1.0</td>\n",
              "    </tr>\n",
              "    <tr>\n",
              "      <th>3784</th>\n",
              "      <td>82118</td>\n",
              "      <td>NaN</td>\n",
              "      <td>53.0</td>\n",
              "      <td>1</td>\n",
              "      <td>NaN</td>\n",
              "      <td>NaN</td>\n",
              "      <td>NaN</td>\n",
              "      <td>2021-03-24</td>\n",
              "      <td>1.0</td>\n",
              "      <td>391.0</td>\n",
              "      <td>...</td>\n",
              "      <td>Nao informado</td>\n",
              "      <td>0</td>\n",
              "      <td>0</td>\n",
              "      <td>0</td>\n",
              "      <td>0</td>\n",
              "      <td>0</td>\n",
              "      <td>0</td>\n",
              "      <td>0</td>\n",
              "      <td>0</td>\n",
              "      <td>0.0</td>\n",
              "    </tr>\n",
              "    <tr>\n",
              "      <th>3785</th>\n",
              "      <td>82122</td>\n",
              "      <td>NaN</td>\n",
              "      <td>53.0</td>\n",
              "      <td>1</td>\n",
              "      <td>NaN</td>\n",
              "      <td>NaN</td>\n",
              "      <td>NaN</td>\n",
              "      <td>2022-02-15</td>\n",
              "      <td>1.0</td>\n",
              "      <td>589.0</td>\n",
              "      <td>...</td>\n",
              "      <td>Nao informado</td>\n",
              "      <td>0</td>\n",
              "      <td>0</td>\n",
              "      <td>0</td>\n",
              "      <td>0</td>\n",
              "      <td>0</td>\n",
              "      <td>0</td>\n",
              "      <td>0</td>\n",
              "      <td>0</td>\n",
              "      <td>NaN</td>\n",
              "    </tr>\n",
              "    <tr>\n",
              "      <th>3786</th>\n",
              "      <td>82123</td>\n",
              "      <td>NaN</td>\n",
              "      <td>53.0</td>\n",
              "      <td>1</td>\n",
              "      <td>NaN</td>\n",
              "      <td>NaN</td>\n",
              "      <td>NaN</td>\n",
              "      <td>2021-10-25</td>\n",
              "      <td>1.0</td>\n",
              "      <td>380.0</td>\n",
              "      <td>...</td>\n",
              "      <td>Nao informado</td>\n",
              "      <td>0</td>\n",
              "      <td>0</td>\n",
              "      <td>0</td>\n",
              "      <td>0</td>\n",
              "      <td>0</td>\n",
              "      <td>0</td>\n",
              "      <td>0</td>\n",
              "      <td>0</td>\n",
              "      <td>1.0</td>\n",
              "    </tr>\n",
              "  </tbody>\n",
              "</table>\n",
              "<p>1683 rows × 100 columns</p>\n",
              "</div>\n",
              "      <button class=\"colab-df-convert\" onclick=\"convertToInteractive('df-25945707-af8b-4954-8147-14f8e9a68f0b')\"\n",
              "              title=\"Convert this dataframe to an interactive table.\"\n",
              "              style=\"display:none;\">\n",
              "        \n",
              "  <svg xmlns=\"http://www.w3.org/2000/svg\" height=\"24px\"viewBox=\"0 0 24 24\"\n",
              "       width=\"24px\">\n",
              "    <path d=\"M0 0h24v24H0V0z\" fill=\"none\"/>\n",
              "    <path d=\"M18.56 5.44l.94 2.06.94-2.06 2.06-.94-2.06-.94-.94-2.06-.94 2.06-2.06.94zm-11 1L8.5 8.5l.94-2.06 2.06-.94-2.06-.94L8.5 2.5l-.94 2.06-2.06.94zm10 10l.94 2.06.94-2.06 2.06-.94-2.06-.94-.94-2.06-.94 2.06-2.06.94z\"/><path d=\"M17.41 7.96l-1.37-1.37c-.4-.4-.92-.59-1.43-.59-.52 0-1.04.2-1.43.59L10.3 9.45l-7.72 7.72c-.78.78-.78 2.05 0 2.83L4 21.41c.39.39.9.59 1.41.59.51 0 1.02-.2 1.41-.59l7.78-7.78 2.81-2.81c.8-.78.8-2.07 0-2.86zM5.41 20L4 18.59l7.72-7.72 1.47 1.35L5.41 20z\"/>\n",
              "  </svg>\n",
              "      </button>\n",
              "      \n",
              "  <style>\n",
              "    .colab-df-container {\n",
              "      display:flex;\n",
              "      flex-wrap:wrap;\n",
              "      gap: 12px;\n",
              "    }\n",
              "\n",
              "    .colab-df-convert {\n",
              "      background-color: #E8F0FE;\n",
              "      border: none;\n",
              "      border-radius: 50%;\n",
              "      cursor: pointer;\n",
              "      display: none;\n",
              "      fill: #1967D2;\n",
              "      height: 32px;\n",
              "      padding: 0 0 0 0;\n",
              "      width: 32px;\n",
              "    }\n",
              "\n",
              "    .colab-df-convert:hover {\n",
              "      background-color: #E2EBFA;\n",
              "      box-shadow: 0px 1px 2px rgba(60, 64, 67, 0.3), 0px 1px 3px 1px rgba(60, 64, 67, 0.15);\n",
              "      fill: #174EA6;\n",
              "    }\n",
              "\n",
              "    [theme=dark] .colab-df-convert {\n",
              "      background-color: #3B4455;\n",
              "      fill: #D2E3FC;\n",
              "    }\n",
              "\n",
              "    [theme=dark] .colab-df-convert:hover {\n",
              "      background-color: #434B5C;\n",
              "      box-shadow: 0px 1px 3px 1px rgba(0, 0, 0, 0.15);\n",
              "      filter: drop-shadow(0px 1px 2px rgba(0, 0, 0, 0.3));\n",
              "      fill: #FFFFFF;\n",
              "    }\n",
              "  </style>\n",
              "\n",
              "      <script>\n",
              "        const buttonEl =\n",
              "          document.querySelector('#df-25945707-af8b-4954-8147-14f8e9a68f0b button.colab-df-convert');\n",
              "        buttonEl.style.display =\n",
              "          google.colab.kernel.accessAllowed ? 'block' : 'none';\n",
              "\n",
              "        async function convertToInteractive(key) {\n",
              "          const element = document.querySelector('#df-25945707-af8b-4954-8147-14f8e9a68f0b');\n",
              "          const dataTable =\n",
              "            await google.colab.kernel.invokeFunction('convertToInteractive',\n",
              "                                                     [key], {});\n",
              "          if (!dataTable) return;\n",
              "\n",
              "          const docLinkHtml = 'Like what you see? Visit the ' +\n",
              "            '<a target=\"_blank\" href=https://colab.research.google.com/notebooks/data_table.ipynb>data table notebook</a>'\n",
              "            + ' to learn more about interactive tables.';\n",
              "          element.innerHTML = '';\n",
              "          dataTable['output_type'] = 'display_data';\n",
              "          await google.colab.output.renderOutput(dataTable, element);\n",
              "          const docLink = document.createElement('div');\n",
              "          docLink.innerHTML = docLinkHtml;\n",
              "          element.appendChild(docLink);\n",
              "        }\n",
              "      </script>\n",
              "    </div>\n",
              "  </div>\n",
              "  "
            ],
            "text/plain": [
              "      record_id                 escolaridade  idade_no_primeiro_diagnostico  \\\n",
              "1           710                 ENSINO MÉDIO                           58.0   \n",
              "9          1960  ENS. FUNDAMENTAL INCOMPLETO                           29.0   \n",
              "15         2157    ENS. FUNDAMENTAL COMPLETO                           51.0   \n",
              "26         2864  ENS. FUNDAMENTAL INCOMPLETO                           39.0   \n",
              "28         3357    ENS. FUNDAMENTAL COMPLETO                           48.0   \n",
              "...         ...                          ...                            ...   \n",
              "3781      82100                          NaN                           53.0   \n",
              "3783      82112                          NaN                           53.0   \n",
              "3784      82118                          NaN                           53.0   \n",
              "3785      82122                          NaN                           53.0   \n",
              "3786      82123                          NaN                           53.0   \n",
              "\n",
              "      sexo raca uf_nascimento uf_residencia data_ultima_informacao  \\\n",
              "1        1  NaN           NaN           NaN             2016-11-17   \n",
              "9        1  NaN           NaN           NaN             2010-06-27   \n",
              "15       1  NaN           NaN           NaN             2009-04-10   \n",
              "26       1  NaN           NaN           NaN             2021-05-17   \n",
              "28       1  NaN           NaN           NaN             2012-02-20   \n",
              "...    ...  ...           ...           ...                    ...   \n",
              "3781     1  NaN           NaN           NaN             2021-07-25   \n",
              "3783     1  NaN           NaN           NaN             2021-10-04   \n",
              "3784     1  NaN           NaN           NaN             2021-03-24   \n",
              "3785     1  NaN           NaN           NaN             2022-02-15   \n",
              "3786     1  NaN           NaN           NaN             2021-10-25   \n",
              "\n",
              "      ultima_informacao  \\\n",
              "1                   1.0   \n",
              "9                   1.0   \n",
              "15                  1.0   \n",
              "26                  1.0   \n",
              "28                  1.0   \n",
              "...                 ...   \n",
              "3781                1.0   \n",
              "3783                1.0   \n",
              "3784                1.0   \n",
              "3785                1.0   \n",
              "3786                1.0   \n",
              "\n",
              "      tempo_em_dias_desde_o_ultimo_tumor_no_caso_de_tumores_multiplos  ...  \\\n",
              "1                                                3294.0                ...   \n",
              "9                                                 699.0                ...   \n",
              "15                                                385.0                ...   \n",
              "26                                               1839.0                ...   \n",
              "28                                               1428.0                ...   \n",
              "...                                                 ...                ...   \n",
              "3781                                              366.0                ...   \n",
              "3783                                              370.0                ...   \n",
              "3784                                              391.0                ...   \n",
              "3785                                              589.0                ...   \n",
              "3786                                              380.0                ...   \n",
              "\n",
              "      classificacao_tnm_patologico_t  com_recidiva_a_distancia  \\\n",
              "1                      Nao informado                         0   \n",
              "9                      Nao informado                         0   \n",
              "15                                 1                         0   \n",
              "26                     Nao informado                         0   \n",
              "28                     Nao informado                         0   \n",
              "...                              ...                       ...   \n",
              "3781                   Nao informado                         0   \n",
              "3783                   Nao informado                         0   \n",
              "3784                   Nao informado                         0   \n",
              "3785                   Nao informado                         0   \n",
              "3786                   Nao informado                         0   \n",
              "\n",
              "      com_recidiva_regional  com_recidiva_local recidiva quimio  radio  \\\n",
              "1                         1                   1        0      1      0   \n",
              "9                         0                   0        0      0      0   \n",
              "15                        0                   0        0      0      0   \n",
              "26                        0                   0        0      0      1   \n",
              "28                        0                   0        0      1      1   \n",
              "...                     ...                 ...      ...    ...    ...   \n",
              "3781                      0                   0        0      1      1   \n",
              "3783                      0                   0        0      0      0   \n",
              "3784                      0                   0        0      0      0   \n",
              "3785                      0                   0        0      0      0   \n",
              "3786                      0                   0        0      0      0   \n",
              "\n",
              "     cirurgia hormonio tipo_de_tratamento  \n",
              "1           1        0                0.0  \n",
              "9           0        0                NaN  \n",
              "15          0        0                0.0  \n",
              "26          0        0                1.0  \n",
              "28          1        1                0.0  \n",
              "...       ...      ...                ...  \n",
              "3781        1        0                1.0  \n",
              "3783        0        0                1.0  \n",
              "3784        0        0                0.0  \n",
              "3785        0        0                NaN  \n",
              "3786        0        0                1.0  \n",
              "\n",
              "[1683 rows x 100 columns]"
            ]
          },
          "execution_count": 10,
          "metadata": {},
          "output_type": "execute_result"
        }
      ],
      "source": [
        "dfr"
      ]
    },
    {
      "cell_type": "markdown",
      "metadata": {
        "id": "tEuNHLgtUJ4y"
      },
      "source": [
        "# Gerando df de teste filtrado e organizado"
      ]
    },
    {
      "cell_type": "code",
      "execution_count": null,
      "metadata": {
        "id": "H4s__3FbG-0I"
      },
      "outputs": [],
      "source": [
        "test = dfr[[\"idade_no_primeiro_diagnostico\",\"tempo_em_dias_desde_o_ultimo_tumor_no_caso_de_tumores_multiplos\",\"subtipo_tumoral\",\"receptor_de_estrogenio\",\"receptor_de_progesterona\",\"ki67_percentage\",\"estadio_clinico\",\"classificacao_tnm_clinico_t\",\"classificacao_tnm_clinico_n\",\"regime_tratamento\"]]"
      ]
    },
    {
      "cell_type": "markdown",
      "metadata": {
        "id": "IRJAC03SL-ky"
      },
      "source": [
        "## Organizando a quantificação de estrogenio"
      ]
    },
    {
      "cell_type": "code",
      "execution_count": null,
      "metadata": {
        "colab": {
          "base_uri": "https://localhost:8080/"
        },
        "id": "vzhKw8uBn4Pg",
        "outputId": "c395ef1a-fd5e-4adc-8379-703d787790c2"
      },
      "outputs": [
        {
          "name": "stderr",
          "output_type": "stream",
          "text": [
            "<ipython-input-12-dd2dd840bba8>:1: SettingWithCopyWarning: \n",
            "A value is trying to be set on a copy of a slice from a DataFrame.\n",
            "Try using .loc[row_indexer,col_indexer] = value instead\n",
            "\n",
            "See the caveats in the documentation: https://pandas.pydata.org/pandas-docs/stable/user_guide/indexing.html#returning-a-view-versus-a-copy\n",
            "  test[\"receptor_de_estrogenio\"] = test[\"receptor_de_estrogenio\"].astype(\"int\")\n"
          ]
        }
      ],
      "source": [
        "test[\"receptor_de_estrogenio\"] = test[\"receptor_de_estrogenio\"].astype(\"int\")"
      ]
    },
    {
      "cell_type": "markdown",
      "metadata": {
        "id": "1pU_tnKGLmPF"
      },
      "source": [
        "##Organizando a quantificação de progesterona"
      ]
    },
    {
      "cell_type": "code",
      "execution_count": null,
      "metadata": {
        "colab": {
          "base_uri": "https://localhost:8080/"
        },
        "id": "LcVKi9NLvVZp",
        "outputId": "5d40ad7f-b2a2-479d-84d5-a0f71044879a"
      },
      "outputs": [
        {
          "name": "stderr",
          "output_type": "stream",
          "text": [
            "<ipython-input-13-4ff6d1f757ee>:1: SettingWithCopyWarning: \n",
            "A value is trying to be set on a copy of a slice from a DataFrame.\n",
            "Try using .loc[row_indexer,col_indexer] = value instead\n",
            "\n",
            "See the caveats in the documentation: https://pandas.pydata.org/pandas-docs/stable/user_guide/indexing.html#returning-a-view-versus-a-copy\n",
            "  test[\"receptor_de_progesterona\"] = test[\"receptor_de_progesterona\"].astype(\"int\")\n"
          ]
        }
      ],
      "source": [
        "test[\"receptor_de_progesterona\"] = test[\"receptor_de_progesterona\"].astype(\"int\")"
      ]
    },
    {
      "cell_type": "markdown",
      "metadata": {
        "id": "9SB6tkdALyBR"
      },
      "source": [
        "##Organizando o tempo desde ultimo tumor"
      ]
    },
    {
      "cell_type": "code",
      "execution_count": null,
      "metadata": {
        "colab": {
          "base_uri": "https://localhost:8080/"
        },
        "id": "3GVR7zZU1E_y",
        "outputId": "fd5465a7-8180-4869-8713-25da9a58f66b"
      },
      "outputs": [
        {
          "name": "stderr",
          "output_type": "stream",
          "text": [
            "<ipython-input-14-143ed4e9e200>:4: SettingWithCopyWarning: \n",
            "A value is trying to be set on a copy of a slice from a DataFrame.\n",
            "Try using .loc[row_indexer,col_indexer] = value instead\n",
            "\n",
            "See the caveats in the documentation: https://pandas.pydata.org/pandas-docs/stable/user_guide/indexing.html#returning-a-view-versus-a-copy\n",
            "  test[[\"tempo_em_dias_desde_o_ultimo_tumor_no_caso_de_tumores_multiplos\",\"regime_tratamento\"]] = scaler.fit_transform(test[[\"tempo_em_dias_desde_o_ultimo_tumor_no_caso_de_tumores_multiplos\",\"regime_tratamento\"]])\n"
          ]
        }
      ],
      "source": [
        "test = test[test[\"tempo_em_dias_desde_o_ultimo_tumor_no_caso_de_tumores_multiplos\"].isnull()==False]\n",
        "from sklearn.preprocessing import MinMaxScaler\n",
        "scaler = MinMaxScaler()\n",
        "test[[\"tempo_em_dias_desde_o_ultimo_tumor_no_caso_de_tumores_multiplos\",\"regime_tratamento\"]] = scaler.fit_transform(test[[\"tempo_em_dias_desde_o_ultimo_tumor_no_caso_de_tumores_multiplos\",\"regime_tratamento\"]])\n"
      ]
    },
    {
      "cell_type": "markdown",
      "metadata": {
        "id": "EosAXgGxL2lI"
      },
      "source": [
        "##Organizando a classificação TNM-T"
      ]
    },
    {
      "cell_type": "code",
      "execution_count": null,
      "metadata": {
        "colab": {
          "base_uri": "https://localhost:8080/"
        },
        "id": "uWdF45tdjjzb",
        "outputId": "502de47e-44ee-48e7-ed1e-7152515ebe19"
      },
      "outputs": [
        {
          "data": {
            "text/plain": [
              "array(['3', '1', '2', '1B', 'IS', '1C', 'X - nao foi possivel determinar',\n",
              "       '4D', '4B', '4C', '4', '1A', '4A', 'CDIS', '3A'], dtype=object)"
            ]
          },
          "execution_count": 15,
          "metadata": {},
          "output_type": "execute_result"
        }
      ],
      "source": [
        "test[\"classificacao_tnm_clinico_t\"].unique()"
      ]
    },
    {
      "cell_type": "code",
      "execution_count": null,
      "metadata": {
        "colab": {
          "base_uri": "https://localhost:8080/"
        },
        "id": "Mf6i6RZbPWem",
        "outputId": "57cc1ec5-fdd2-447e-cd0e-6d1e4ba68172"
      },
      "outputs": [
        {
          "name": "stderr",
          "output_type": "stream",
          "text": [
            "<ipython-input-16-2042a719347e>:1: UserWarning: Boolean Series key will be reindexed to match DataFrame index.\n",
            "  test = test[test[\"classificacao_tnm_clinico_t\"]!=\"X - nao foi possivel determinar\"][test[\"classificacao_tnm_clinico_t\"]!=\"Y: Na\"]\n"
          ]
        }
      ],
      "source": [
        "test = test[test[\"classificacao_tnm_clinico_t\"]!=\"X - nao foi possivel determinar\"][test[\"classificacao_tnm_clinico_t\"]!=\"Y: Na\"]"
      ]
    },
    {
      "cell_type": "code",
      "execution_count": null,
      "metadata": {
        "id": "v-ej-FlEQJdZ"
      },
      "outputs": [],
      "source": [
        "test[\"classificacao_tnm_clinico_t\"] = test[\"classificacao_tnm_clinico_t\"].replace({\"2\":2,\n",
        "                                                                                   \"3\":3,\n",
        "                                                                                   \"1C\":1,\n",
        "                                                                                   \"4B\":4,\n",
        "                                                                                   \"4D\":4,\n",
        "                                                                                   \"1\":1,\n",
        "                                                                                   \"4\":4,\n",
        "                                                                                   \"1B\":1,\n",
        "                                                                                   \"1A\":1,\n",
        "                                                                                   \"4C\":4,\n",
        "                                                                                   \"4A\":4,\n",
        "                                                                                   \"IS\":0,\n",
        "                                                                                   \"CDIS\":0,\n",
        "                                                                                   \"3A\":3})"
      ]
    },
    {
      "cell_type": "code",
      "execution_count": null,
      "metadata": {
        "id": "5NrbebOojrPp"
      },
      "outputs": [],
      "source": [
        "test[\"classificacao_tnm_clinico_t\"] = test[\"classificacao_tnm_clinico_t\"].astype(\"int\")"
      ]
    },
    {
      "cell_type": "markdown",
      "metadata": {
        "id": "Pnc8N9OUMJ04"
      },
      "source": [
        "##Organizando a classificação TNM-N"
      ]
    },
    {
      "cell_type": "code",
      "execution_count": null,
      "metadata": {
        "colab": {
          "base_uri": "https://localhost:8080/"
        },
        "id": "dJhdbBDY6uGk",
        "outputId": "641717be-8e37-4a4b-b37f-820e3e99fb5b"
      },
      "outputs": [
        {
          "data": {
            "text/plain": [
              "array(['1', '2', '0', '3A', '2A', '3', '3B', '2B', '3C'], dtype=object)"
            ]
          },
          "execution_count": 19,
          "metadata": {},
          "output_type": "execute_result"
        }
      ],
      "source": [
        "test[\"classificacao_tnm_clinico_n\"].unique()\n"
      ]
    },
    {
      "cell_type": "code",
      "execution_count": null,
      "metadata": {
        "colab": {
          "base_uri": "https://localhost:8080/"
        },
        "id": "5e8verb8kGfO",
        "outputId": "b09ef4eb-a252-49e1-a4a5-82f8d702cf82"
      },
      "outputs": [
        {
          "data": {
            "text/plain": [
              "1       1\n",
              "9       2\n",
              "15      0\n",
              "26      1\n",
              "28      1\n",
              "       ..\n",
              "3781    1\n",
              "3783    1\n",
              "3784    0\n",
              "3785    0\n",
              "3786    0\n",
              "Name: classificacao_tnm_clinico_n, Length: 1681, dtype: int8"
            ]
          },
          "execution_count": 20,
          "metadata": {},
          "output_type": "execute_result"
        }
      ],
      "source": [
        "test[\"classificacao_tnm_clinico_n\"] = test[\"classificacao_tnm_clinico_n\"].replace({\"1\":1,\n",
        "                                                                                   \"2\":2,\n",
        "                                                                                   \"0\":0,\n",
        "                                                                                   \"3A\":3,\n",
        "                                                                                   \"2A\":2,\n",
        "                                                                                   \"3\":3,\n",
        "                                                                                   \"2B\":2,\n",
        "                                                                                   \"3B\":3,\n",
        "                                                                                   \"3C\":3})\n",
        "\n",
        "test[\"classificacao_tnm_clinico_n\"].astype(\"int8\")"
      ]
    },
    {
      "cell_type": "code",
      "execution_count": null,
      "metadata": {
        "id": "id_bykACoZBT"
      },
      "outputs": [],
      "source": [
        "test[\"classificacao_tnm_clinico_n\"] = test[\"classificacao_tnm_clinico_n\"].astype(\"int\")"
      ]
    },
    {
      "cell_type": "markdown",
      "metadata": {
        "id": "y7P773I6MNRf"
      },
      "source": [
        "##Organizando o grupo de estadio clínico"
      ]
    },
    {
      "cell_type": "code",
      "execution_count": null,
      "metadata": {
        "id": "6BIn0dM_W_EK"
      },
      "outputs": [],
      "source": [
        "test[\"estadio_clinico\"] = test[\"estadio_clinico\"].astype(\"int\")"
      ]
    },
    {
      "cell_type": "markdown",
      "metadata": {
        "id": "bV0AqI9pYfty"
      },
      "source": [
        "##Organizando o grupo de subtipo tumoral"
      ]
    },
    {
      "cell_type": "code",
      "execution_count": null,
      "metadata": {
        "id": "JjxPTP8vY2UL"
      },
      "outputs": [],
      "source": [
        "test[\"subtipo_tumoral\"] = test[\"subtipo_tumoral\"].astype(\"int\")"
      ]
    },
    {
      "cell_type": "code",
      "execution_count": null,
      "metadata": {
        "colab": {
          "base_uri": "https://localhost:8080/"
        },
        "id": "poKNJPwCnKvd",
        "outputId": "70f83347-edb1-4c5c-8148-0ade6d410b49"
      },
      "outputs": [
        {
          "data": {
            "text/html": [
              "\n",
              "  <div id=\"df-b2b60c71-04ef-4877-b729-8b682b9a9435\">\n",
              "    <div class=\"colab-df-container\">\n",
              "      <div>\n",
              "<style scoped>\n",
              "    .dataframe tbody tr th:only-of-type {\n",
              "        vertical-align: middle;\n",
              "    }\n",
              "\n",
              "    .dataframe tbody tr th {\n",
              "        vertical-align: top;\n",
              "    }\n",
              "\n",
              "    .dataframe thead th {\n",
              "        text-align: right;\n",
              "    }\n",
              "</style>\n",
              "<table border=\"1\" class=\"dataframe\">\n",
              "  <thead>\n",
              "    <tr style=\"text-align: right;\">\n",
              "      <th></th>\n",
              "      <th>idade_no_primeiro_diagnostico</th>\n",
              "      <th>tempo_em_dias_desde_o_ultimo_tumor_no_caso_de_tumores_multiplos</th>\n",
              "      <th>subtipo_tumoral</th>\n",
              "      <th>receptor_de_estrogenio</th>\n",
              "      <th>receptor_de_progesterona</th>\n",
              "      <th>ki67_percentage</th>\n",
              "      <th>estadio_clinico</th>\n",
              "      <th>classificacao_tnm_clinico_t</th>\n",
              "      <th>classificacao_tnm_clinico_n</th>\n",
              "      <th>regime_tratamento</th>\n",
              "    </tr>\n",
              "  </thead>\n",
              "  <tbody>\n",
              "    <tr>\n",
              "      <th>1</th>\n",
              "      <td>58.0</td>\n",
              "      <td>0.798352</td>\n",
              "      <td>2</td>\n",
              "      <td>1</td>\n",
              "      <td>0</td>\n",
              "      <td>20.0</td>\n",
              "      <td>3</td>\n",
              "      <td>3</td>\n",
              "      <td>1</td>\n",
              "      <td>0.0</td>\n",
              "    </tr>\n",
              "    <tr>\n",
              "      <th>9</th>\n",
              "      <td>29.0</td>\n",
              "      <td>0.169413</td>\n",
              "      <td>3</td>\n",
              "      <td>0</td>\n",
              "      <td>0</td>\n",
              "      <td>30.0</td>\n",
              "      <td>3</td>\n",
              "      <td>3</td>\n",
              "      <td>2</td>\n",
              "      <td>1.0</td>\n",
              "    </tr>\n",
              "    <tr>\n",
              "      <th>15</th>\n",
              "      <td>51.0</td>\n",
              "      <td>0.093311</td>\n",
              "      <td>3</td>\n",
              "      <td>2</td>\n",
              "      <td>3</td>\n",
              "      <td>30.0</td>\n",
              "      <td>1</td>\n",
              "      <td>1</td>\n",
              "      <td>0</td>\n",
              "      <td>0.0</td>\n",
              "    </tr>\n",
              "    <tr>\n",
              "      <th>26</th>\n",
              "      <td>39.0</td>\n",
              "      <td>0.445710</td>\n",
              "      <td>2</td>\n",
              "      <td>1</td>\n",
              "      <td>1</td>\n",
              "      <td>85.0</td>\n",
              "      <td>2</td>\n",
              "      <td>2</td>\n",
              "      <td>1</td>\n",
              "      <td>1.0</td>\n",
              "    </tr>\n",
              "    <tr>\n",
              "      <th>28</th>\n",
              "      <td>48.0</td>\n",
              "      <td>0.346098</td>\n",
              "      <td>3</td>\n",
              "      <td>2</td>\n",
              "      <td>3</td>\n",
              "      <td>30.0</td>\n",
              "      <td>2</td>\n",
              "      <td>2</td>\n",
              "      <td>1</td>\n",
              "      <td>0.0</td>\n",
              "    </tr>\n",
              "    <tr>\n",
              "      <th>...</th>\n",
              "      <td>...</td>\n",
              "      <td>...</td>\n",
              "      <td>...</td>\n",
              "      <td>...</td>\n",
              "      <td>...</td>\n",
              "      <td>...</td>\n",
              "      <td>...</td>\n",
              "      <td>...</td>\n",
              "      <td>...</td>\n",
              "      <td>...</td>\n",
              "    </tr>\n",
              "    <tr>\n",
              "      <th>3781</th>\n",
              "      <td>53.0</td>\n",
              "      <td>0.088706</td>\n",
              "      <td>3</td>\n",
              "      <td>2</td>\n",
              "      <td>3</td>\n",
              "      <td>50.0</td>\n",
              "      <td>3</td>\n",
              "      <td>4</td>\n",
              "      <td>1</td>\n",
              "      <td>1.0</td>\n",
              "    </tr>\n",
              "    <tr>\n",
              "      <th>3783</th>\n",
              "      <td>53.0</td>\n",
              "      <td>0.089675</td>\n",
              "      <td>3</td>\n",
              "      <td>2</td>\n",
              "      <td>3</td>\n",
              "      <td>90.0</td>\n",
              "      <td>3</td>\n",
              "      <td>3</td>\n",
              "      <td>1</td>\n",
              "      <td>1.0</td>\n",
              "    </tr>\n",
              "    <tr>\n",
              "      <th>3784</th>\n",
              "      <td>53.0</td>\n",
              "      <td>0.094765</td>\n",
              "      <td>3</td>\n",
              "      <td>2</td>\n",
              "      <td>3</td>\n",
              "      <td>30.0</td>\n",
              "      <td>1</td>\n",
              "      <td>1</td>\n",
              "      <td>0</td>\n",
              "      <td>0.0</td>\n",
              "    </tr>\n",
              "    <tr>\n",
              "      <th>3785</th>\n",
              "      <td>53.0</td>\n",
              "      <td>0.142753</td>\n",
              "      <td>2</td>\n",
              "      <td>1</td>\n",
              "      <td>1</td>\n",
              "      <td>40.0</td>\n",
              "      <td>2</td>\n",
              "      <td>2</td>\n",
              "      <td>0</td>\n",
              "      <td>0.0</td>\n",
              "    </tr>\n",
              "    <tr>\n",
              "      <th>3786</th>\n",
              "      <td>53.0</td>\n",
              "      <td>0.092099</td>\n",
              "      <td>3</td>\n",
              "      <td>2</td>\n",
              "      <td>3</td>\n",
              "      <td>20.0</td>\n",
              "      <td>2</td>\n",
              "      <td>3</td>\n",
              "      <td>0</td>\n",
              "      <td>1.0</td>\n",
              "    </tr>\n",
              "  </tbody>\n",
              "</table>\n",
              "<p>1681 rows × 10 columns</p>\n",
              "</div>\n",
              "      <button class=\"colab-df-convert\" onclick=\"convertToInteractive('df-b2b60c71-04ef-4877-b729-8b682b9a9435')\"\n",
              "              title=\"Convert this dataframe to an interactive table.\"\n",
              "              style=\"display:none;\">\n",
              "        \n",
              "  <svg xmlns=\"http://www.w3.org/2000/svg\" height=\"24px\"viewBox=\"0 0 24 24\"\n",
              "       width=\"24px\">\n",
              "    <path d=\"M0 0h24v24H0V0z\" fill=\"none\"/>\n",
              "    <path d=\"M18.56 5.44l.94 2.06.94-2.06 2.06-.94-2.06-.94-.94-2.06-.94 2.06-2.06.94zm-11 1L8.5 8.5l.94-2.06 2.06-.94-2.06-.94L8.5 2.5l-.94 2.06-2.06.94zm10 10l.94 2.06.94-2.06 2.06-.94-2.06-.94-.94-2.06-.94 2.06-2.06.94z\"/><path d=\"M17.41 7.96l-1.37-1.37c-.4-.4-.92-.59-1.43-.59-.52 0-1.04.2-1.43.59L10.3 9.45l-7.72 7.72c-.78.78-.78 2.05 0 2.83L4 21.41c.39.39.9.59 1.41.59.51 0 1.02-.2 1.41-.59l7.78-7.78 2.81-2.81c.8-.78.8-2.07 0-2.86zM5.41 20L4 18.59l7.72-7.72 1.47 1.35L5.41 20z\"/>\n",
              "  </svg>\n",
              "      </button>\n",
              "      \n",
              "  <style>\n",
              "    .colab-df-container {\n",
              "      display:flex;\n",
              "      flex-wrap:wrap;\n",
              "      gap: 12px;\n",
              "    }\n",
              "\n",
              "    .colab-df-convert {\n",
              "      background-color: #E8F0FE;\n",
              "      border: none;\n",
              "      border-radius: 50%;\n",
              "      cursor: pointer;\n",
              "      display: none;\n",
              "      fill: #1967D2;\n",
              "      height: 32px;\n",
              "      padding: 0 0 0 0;\n",
              "      width: 32px;\n",
              "    }\n",
              "\n",
              "    .colab-df-convert:hover {\n",
              "      background-color: #E2EBFA;\n",
              "      box-shadow: 0px 1px 2px rgba(60, 64, 67, 0.3), 0px 1px 3px 1px rgba(60, 64, 67, 0.15);\n",
              "      fill: #174EA6;\n",
              "    }\n",
              "\n",
              "    [theme=dark] .colab-df-convert {\n",
              "      background-color: #3B4455;\n",
              "      fill: #D2E3FC;\n",
              "    }\n",
              "\n",
              "    [theme=dark] .colab-df-convert:hover {\n",
              "      background-color: #434B5C;\n",
              "      box-shadow: 0px 1px 3px 1px rgba(0, 0, 0, 0.15);\n",
              "      filter: drop-shadow(0px 1px 2px rgba(0, 0, 0, 0.3));\n",
              "      fill: #FFFFFF;\n",
              "    }\n",
              "  </style>\n",
              "\n",
              "      <script>\n",
              "        const buttonEl =\n",
              "          document.querySelector('#df-b2b60c71-04ef-4877-b729-8b682b9a9435 button.colab-df-convert');\n",
              "        buttonEl.style.display =\n",
              "          google.colab.kernel.accessAllowed ? 'block' : 'none';\n",
              "\n",
              "        async function convertToInteractive(key) {\n",
              "          const element = document.querySelector('#df-b2b60c71-04ef-4877-b729-8b682b9a9435');\n",
              "          const dataTable =\n",
              "            await google.colab.kernel.invokeFunction('convertToInteractive',\n",
              "                                                     [key], {});\n",
              "          if (!dataTable) return;\n",
              "\n",
              "          const docLinkHtml = 'Like what you see? Visit the ' +\n",
              "            '<a target=\"_blank\" href=https://colab.research.google.com/notebooks/data_table.ipynb>data table notebook</a>'\n",
              "            + ' to learn more about interactive tables.';\n",
              "          element.innerHTML = '';\n",
              "          dataTable['output_type'] = 'display_data';\n",
              "          await google.colab.output.renderOutput(dataTable, element);\n",
              "          const docLink = document.createElement('div');\n",
              "          docLink.innerHTML = docLinkHtml;\n",
              "          element.appendChild(docLink);\n",
              "        }\n",
              "      </script>\n",
              "    </div>\n",
              "  </div>\n",
              "  "
            ],
            "text/plain": [
              "      idade_no_primeiro_diagnostico  \\\n",
              "1                              58.0   \n",
              "9                              29.0   \n",
              "15                             51.0   \n",
              "26                             39.0   \n",
              "28                             48.0   \n",
              "...                             ...   \n",
              "3781                           53.0   \n",
              "3783                           53.0   \n",
              "3784                           53.0   \n",
              "3785                           53.0   \n",
              "3786                           53.0   \n",
              "\n",
              "      tempo_em_dias_desde_o_ultimo_tumor_no_caso_de_tumores_multiplos  \\\n",
              "1                                              0.798352                 \n",
              "9                                              0.169413                 \n",
              "15                                             0.093311                 \n",
              "26                                             0.445710                 \n",
              "28                                             0.346098                 \n",
              "...                                                 ...                 \n",
              "3781                                           0.088706                 \n",
              "3783                                           0.089675                 \n",
              "3784                                           0.094765                 \n",
              "3785                                           0.142753                 \n",
              "3786                                           0.092099                 \n",
              "\n",
              "      subtipo_tumoral  receptor_de_estrogenio  receptor_de_progesterona  \\\n",
              "1                   2                       1                         0   \n",
              "9                   3                       0                         0   \n",
              "15                  3                       2                         3   \n",
              "26                  2                       1                         1   \n",
              "28                  3                       2                         3   \n",
              "...               ...                     ...                       ...   \n",
              "3781                3                       2                         3   \n",
              "3783                3                       2                         3   \n",
              "3784                3                       2                         3   \n",
              "3785                2                       1                         1   \n",
              "3786                3                       2                         3   \n",
              "\n",
              "      ki67_percentage  estadio_clinico  classificacao_tnm_clinico_t  \\\n",
              "1                20.0                3                            3   \n",
              "9                30.0                3                            3   \n",
              "15               30.0                1                            1   \n",
              "26               85.0                2                            2   \n",
              "28               30.0                2                            2   \n",
              "...               ...              ...                          ...   \n",
              "3781             50.0                3                            4   \n",
              "3783             90.0                3                            3   \n",
              "3784             30.0                1                            1   \n",
              "3785             40.0                2                            2   \n",
              "3786             20.0                2                            3   \n",
              "\n",
              "      classificacao_tnm_clinico_n  regime_tratamento  \n",
              "1                               1                0.0  \n",
              "9                               2                1.0  \n",
              "15                              0                0.0  \n",
              "26                              1                1.0  \n",
              "28                              1                0.0  \n",
              "...                           ...                ...  \n",
              "3781                            1                1.0  \n",
              "3783                            1                1.0  \n",
              "3784                            0                0.0  \n",
              "3785                            0                0.0  \n",
              "3786                            0                1.0  \n",
              "\n",
              "[1681 rows x 10 columns]"
            ]
          },
          "execution_count": 24,
          "metadata": {},
          "output_type": "execute_result"
        }
      ],
      "source": [
        "test"
      ]
    },
    {
      "cell_type": "markdown",
      "metadata": {
        "id": "eoiPgYM7njYs"
      },
      "source": [
        "#Ajustes para o testar os modelos"
      ]
    },
    {
      "cell_type": "code",
      "execution_count": null,
      "metadata": {
        "id": "_c_IWaH_9InL"
      },
      "outputs": [],
      "source": [
        "from sklearn.model_selection import train_test_split\n",
        "\n",
        "X = test.drop(columns=[\"regime_tratamento\"])\n",
        "y = test[\"regime_tratamento\"]\n",
        "\n",
        "X_train, X_test, y_train, y_test = train_test_split(X, y, \n",
        "                                                    test_size = 0.25,\n",
        "                                                    random_state = 50)\n"
      ]
    },
    {
      "cell_type": "markdown",
      "metadata": {
        "id": "8wrX5DzVMZG8"
      },
      "source": [
        "# Modelo sem tunar"
      ]
    },
    {
      "cell_type": "code",
      "execution_count": null,
      "metadata": {
        "id": "aZsTYKMFrz7z"
      },
      "outputs": [],
      "source": [
        "# importando as ferramentas necessárias para os testes e para tunar os hiperparamentros\n",
        "from sklearn.ensemble import StackingClassifier\n",
        "from sklearn.svm import SVC\n",
        "from sklearn.ensemble import AdaBoostClassifier\n",
        "from sklearn.linear_model import LogisticRegression\n",
        "\n",
        "from sklearn.metrics import confusion_matrix\n",
        "from sklearn.metrics import ConfusionMatrixDisplay\n",
        "import matplotlib.pyplot as plt\n",
        "from sklearn.metrics import f1_score\n",
        "\n",
        "from sklearn.metrics import roc_auc_score, roc_curve, auc\n",
        "from sklearn.metrics import recall_score, precision_score, f1_score\n",
        "from sklearn.preprocessing import label_binarize\n",
        "from sklearn.pipeline import Pipeline\n",
        "from sklearn.model_selection import GridSearchCV\n",
        "from sklearn.model_selection import RandomizedSearchCV"
      ]
    },
    {
      "cell_type": "code",
      "execution_count": null,
      "metadata": {
        "colab": {
          "base_uri": "https://localhost:8080/"
        },
        "id": "7k6-3dgduTtD",
        "outputId": "00dce277-ff24-469e-e9fa-8321a0536498"
      },
      "outputs": [
        {
          "name": "stderr",
          "output_type": "stream",
          "text": [
            "/usr/local/lib/python3.9/dist-packages/sklearn/linear_model/_logistic.py:458: ConvergenceWarning: lbfgs failed to converge (status=1):\n",
            "STOP: TOTAL NO. of ITERATIONS REACHED LIMIT.\n",
            "\n",
            "Increase the number of iterations (max_iter) or scale the data as shown in:\n",
            "    https://scikit-learn.org/stable/modules/preprocessing.html\n",
            "Please also refer to the documentation for alternative solver options:\n",
            "    https://scikit-learn.org/stable/modules/linear_model.html#logistic-regression\n",
            "  n_iter_i = _check_optimize_result(\n",
            "/usr/local/lib/python3.9/dist-packages/sklearn/linear_model/_logistic.py:458: ConvergenceWarning: lbfgs failed to converge (status=1):\n",
            "STOP: TOTAL NO. of ITERATIONS REACHED LIMIT.\n",
            "\n",
            "Increase the number of iterations (max_iter) or scale the data as shown in:\n",
            "    https://scikit-learn.org/stable/modules/preprocessing.html\n",
            "Please also refer to the documentation for alternative solver options:\n",
            "    https://scikit-learn.org/stable/modules/linear_model.html#logistic-regression\n",
            "  n_iter_i = _check_optimize_result(\n",
            "/usr/local/lib/python3.9/dist-packages/sklearn/linear_model/_logistic.py:458: ConvergenceWarning: lbfgs failed to converge (status=1):\n",
            "STOP: TOTAL NO. of ITERATIONS REACHED LIMIT.\n",
            "\n",
            "Increase the number of iterations (max_iter) or scale the data as shown in:\n",
            "    https://scikit-learn.org/stable/modules/preprocessing.html\n",
            "Please also refer to the documentation for alternative solver options:\n",
            "    https://scikit-learn.org/stable/modules/linear_model.html#logistic-regression\n",
            "  n_iter_i = _check_optimize_result(\n",
            "/usr/local/lib/python3.9/dist-packages/sklearn/linear_model/_logistic.py:458: ConvergenceWarning: lbfgs failed to converge (status=1):\n",
            "STOP: TOTAL NO. of ITERATIONS REACHED LIMIT.\n",
            "\n",
            "Increase the number of iterations (max_iter) or scale the data as shown in:\n",
            "    https://scikit-learn.org/stable/modules/preprocessing.html\n",
            "Please also refer to the documentation for alternative solver options:\n",
            "    https://scikit-learn.org/stable/modules/linear_model.html#logistic-regression\n",
            "  n_iter_i = _check_optimize_result(\n",
            "/usr/local/lib/python3.9/dist-packages/sklearn/linear_model/_logistic.py:458: ConvergenceWarning: lbfgs failed to converge (status=1):\n",
            "STOP: TOTAL NO. of ITERATIONS REACHED LIMIT.\n",
            "\n",
            "Increase the number of iterations (max_iter) or scale the data as shown in:\n",
            "    https://scikit-learn.org/stable/modules/preprocessing.html\n",
            "Please also refer to the documentation for alternative solver options:\n",
            "    https://scikit-learn.org/stable/modules/linear_model.html#logistic-regression\n",
            "  n_iter_i = _check_optimize_result(\n",
            "/usr/local/lib/python3.9/dist-packages/sklearn/linear_model/_logistic.py:458: ConvergenceWarning: lbfgs failed to converge (status=1):\n",
            "STOP: TOTAL NO. of ITERATIONS REACHED LIMIT.\n",
            "\n",
            "Increase the number of iterations (max_iter) or scale the data as shown in:\n",
            "    https://scikit-learn.org/stable/modules/preprocessing.html\n",
            "Please also refer to the documentation for alternative solver options:\n",
            "    https://scikit-learn.org/stable/modules/linear_model.html#logistic-regression\n",
            "  n_iter_i = _check_optimize_result(\n"
          ]
        }
      ],
      "source": [
        "estimators = [('lr',LogisticRegression()),('svr',SVC(max_iter=2000)),('ada',AdaBoostClassifier())]\n",
        "\n",
        "n_train = []\n",
        "n_test = []\n",
        "\n",
        "alg = StackingClassifier(estimators=estimators,final_estimator=LogisticRegression())\n",
        "\n",
        "alg.fit(X_train, y_train)\n",
        "n_train.append(alg.score(X_train,y_train))\n",
        "n_test.append(alg.score(X_test,y_test))\n",
        "\n",
        "y_pred1 = alg.predict(X_test)\n",
        "matrix = confusion_matrix(y_test,y_pred1)"
      ]
    },
    {
      "cell_type": "code",
      "execution_count": null,
      "metadata": {
        "colab": {
          "base_uri": "https://localhost:8080/"
        },
        "id": "EFPGfgZuOB4w",
        "outputId": "f15260da-59f0-4f9b-d2c2-7db9feebd52d"
      },
      "outputs": [
        {
          "name": "stdout",
          "output_type": "stream",
          "text": [
            "[0.7587301587301587]\n",
            "[0.7838479809976246]\n",
            "0.7035830618892508\n"
          ]
        }
      ],
      "source": [
        "print(n_train)\n",
        "print(n_test)\n",
        "print(f1_score(y_test,y_pred1))"
      ]
    },
    {
      "cell_type": "code",
      "execution_count": null,
      "metadata": {
        "colab": {
          "base_uri": "https://localhost:8080/",
          "height": 316
        },
        "id": "0lHOLKsQVgvK",
        "outputId": "2f7931f9-b6ed-47de-b014-de41feb42be5"
      },
      "outputs": [
        {
          "name": "stdout",
          "output_type": "stream",
          "text": [
            "Matriz de Confusão: \n",
            "    0 = adjuvante \t 1 = neoadjuvante\n"
          ]
        },
        {
          "data": {
            "image/png": "[encoded data removed]",
            "text/plain": [
              "<Figure size 432x288 with 2 Axes>"
            ]
          },
          "metadata": {},
          "output_type": "display_data"
        }
      ],
      "source": [
        "# Fazer previsões com o modelo treinado usando os dados de teste\n",
        "print('Matriz de Confusão: \\n    0 = adjuvante \\t 1 = neoadjuvante')\n",
        "disp = ConfusionMatrixDisplay(confusion_matrix=matrix,\n",
        "                              display_labels=alg.classes_)\n",
        "disp.plot()\n",
        "plt.show()"
      ]
    },
    {
      "cell_type": "markdown",
      "metadata": {
        "id": "1TOSZqI7ureK"
      },
      "source": [
        "# Tunando hiperparâmetros dos modelos que serao utilizando no StackingClassifier"
      ]
    },
    {
      "cell_type": "markdown",
      "metadata": {
        "id": "Kqua87sxHq42"
      },
      "source": [
        "## Logistic Regression"
      ]
    },
    {
      "cell_type": "code",
      "execution_count": null,
      "metadata": {
        "colab": {
          "base_uri": "https://localhost:8080/"
        },
        "id": "Xl-KZfIIHtNI",
        "outputId": "a7ba5c6a-335d-4d3a-95cc-d77e09f659a1"
      },
      "outputs": [
        {
          "name": "stderr",
          "output_type": "stream",
          "text": [
            "/usr/local/lib/python3.9/dist-packages/sklearn/linear_model/_logistic.py:1165: UserWarning: l1_ratio parameter is only used when penalty is 'elasticnet'. Got (penalty=l1)\n",
            "  warnings.warn(\n",
            "[Parallel(n_jobs=1)]: Using backend SequentialBackend with 1 concurrent workers.\n",
            "[Parallel(n_jobs=1)]: Done   1 out of   1 | elapsed:    0.0s finished\n",
            "/usr/local/lib/python3.9/dist-packages/sklearn/linear_model/_logistic.py:1165: UserWarning: l1_ratio parameter is only used when penalty is 'elasticnet'. Got (penalty=l1)\n",
            "  warnings.warn(\n",
            "[Parallel(n_jobs=1)]: Using backend SequentialBackend with 1 concurrent workers.\n",
            "[Parallel(n_jobs=1)]: Done   1 out of   1 | elapsed:    0.0s finished\n",
            "/usr/local/lib/python3.9/dist-packages/sklearn/linear_model/_logistic.py:1165: UserWarning: l1_ratio parameter is only used when penalty is 'elasticnet'. Got (penalty=l1)\n",
            "  warnings.warn(\n",
            "[Parallel(n_jobs=1)]: Using backend SequentialBackend with 1 concurrent workers.\n",
            "[Parallel(n_jobs=1)]: Done   1 out of   1 | elapsed:    0.0s finished\n",
            "/usr/local/lib/python3.9/dist-packages/sklearn/linear_model/_logistic.py:1165: UserWarning: l1_ratio parameter is only used when penalty is 'elasticnet'. Got (penalty=l1)\n",
            "  warnings.warn(\n",
            "[Parallel(n_jobs=1)]: Using backend SequentialBackend with 1 concurrent workers.\n",
            "[Parallel(n_jobs=1)]: Done   1 out of   1 | elapsed:    0.0s finished\n",
            "/usr/local/lib/python3.9/dist-packages/sklearn/linear_model/_logistic.py:1165: UserWarning: l1_ratio parameter is only used when penalty is 'elasticnet'. Got (penalty=l1)\n",
            "  warnings.warn(\n",
            "[Parallel(n_jobs=1)]: Using backend SequentialBackend with 1 concurrent workers.\n",
            "[Parallel(n_jobs=1)]: Done   1 out of   1 | elapsed:    0.0s finished\n",
            "/usr/local/lib/python3.9/dist-packages/sklearn/linear_model/_logistic.py:1165: UserWarning: l1_ratio parameter is only used when penalty is 'elasticnet'. Got (penalty=None)\n",
            "  warnings.warn(\n",
            "[Parallel(n_jobs=1)]: Using backend SequentialBackend with 1 concurrent workers.\n"
          ]
        },
        {
          "name": "stdout",
          "output_type": "stream",
          "text": [
            "convergence after 8 epochs took 0 seconds\n",
            "convergence after 8 epochs took 0 seconds\n",
            "convergence after 8 epochs took 0 seconds\n",
            "convergence after 8 epochs took 0 seconds\n",
            "convergence after 8 epochs took 0 seconds\n"
          ]
        },
        {
          "name": "stderr",
          "output_type": "stream",
          "text": [
            "[Parallel(n_jobs=1)]: Done   1 out of   1 | elapsed:    0.4s remaining:    0.0s\n",
            "[Parallel(n_jobs=1)]: Done   1 out of   1 | elapsed:    0.4s finished\n",
            "/usr/local/lib/python3.9/dist-packages/sklearn/linear_model/_logistic.py:1165: UserWarning: l1_ratio parameter is only used when penalty is 'elasticnet'. Got (penalty=None)\n",
            "  warnings.warn(\n",
            "[Parallel(n_jobs=1)]: Using backend SequentialBackend with 1 concurrent workers.\n",
            "[Parallel(n_jobs=1)]: Done   1 out of   1 | elapsed:    0.4s remaining:    0.0s\n",
            "[Parallel(n_jobs=1)]: Done   1 out of   1 | elapsed:    0.4s finished\n",
            "/usr/local/lib/python3.9/dist-packages/sklearn/linear_model/_logistic.py:1165: UserWarning: l1_ratio parameter is only used when penalty is 'elasticnet'. Got (penalty=None)\n",
            "  warnings.warn(\n",
            "[Parallel(n_jobs=1)]: Using backend SequentialBackend with 1 concurrent workers.\n",
            "[Parallel(n_jobs=1)]: Done   1 out of   1 | elapsed:    0.4s remaining:    0.0s\n",
            "[Parallel(n_jobs=1)]: Done   1 out of   1 | elapsed:    0.4s finished\n",
            "/usr/local/lib/python3.9/dist-packages/sklearn/linear_model/_logistic.py:1165: UserWarning: l1_ratio parameter is only used when penalty is 'elasticnet'. Got (penalty=None)\n",
            "  warnings.warn(\n",
            "[Parallel(n_jobs=1)]: Using backend SequentialBackend with 1 concurrent workers.\n",
            "[Parallel(n_jobs=1)]: Done   1 out of   1 | elapsed:    0.5s remaining:    0.0s\n",
            "[Parallel(n_jobs=1)]: Done   1 out of   1 | elapsed:    0.5s finished\n",
            "/usr/local/lib/python3.9/dist-packages/sklearn/linear_model/_logistic.py:1165: UserWarning: l1_ratio parameter is only used when penalty is 'elasticnet'. Got (penalty=None)\n",
            "  warnings.warn(\n",
            "[Parallel(n_jobs=1)]: Using backend SequentialBackend with 1 concurrent workers.\n",
            "[Parallel(n_jobs=1)]: Done   1 out of   1 | elapsed:    0.3s remaining:    0.0s\n",
            "[Parallel(n_jobs=1)]: Done   1 out of   1 | elapsed:    0.3s finished\n",
            "/usr/local/lib/python3.9/dist-packages/sklearn/linear_model/_logistic.py:1181: UserWarning: Setting penalty=None will ignore the C and l1_ratio parameters\n",
            "  warnings.warn(\n",
            "[Parallel(n_jobs=1)]: Using backend SequentialBackend with 1 concurrent workers.\n"
          ]
        },
        {
          "name": "stdout",
          "output_type": "stream",
          "text": [
            "max_iter reached after 0 seconds\n"
          ]
        },
        {
          "name": "stderr",
          "output_type": "stream",
          "text": [
            "/usr/local/lib/python3.9/dist-packages/sklearn/linear_model/_sag.py:350: ConvergenceWarning: The max_iter was reached which means the coef_ did not converge\n",
            "  warnings.warn(\n",
            "[Parallel(n_jobs=1)]: Done   1 out of   1 | elapsed:    0.7s finished\n",
            "/usr/local/lib/python3.9/dist-packages/sklearn/linear_model/_logistic.py:1181: UserWarning: Setting penalty=None will ignore the C and l1_ratio parameters\n",
            "  warnings.warn(\n",
            "[Parallel(n_jobs=1)]: Using backend SequentialBackend with 1 concurrent workers.\n"
          ]
        },
        {
          "name": "stdout",
          "output_type": "stream",
          "text": [
            "convergence after 841 epochs took 1 seconds\n"
          ]
        },
        {
          "name": "stderr",
          "output_type": "stream",
          "text": [
            "[Parallel(n_jobs=1)]: Done   1 out of   1 | elapsed:    0.4s finished\n",
            "/usr/local/lib/python3.9/dist-packages/sklearn/linear_model/_logistic.py:1181: UserWarning: Setting penalty=None will ignore the C and l1_ratio parameters\n",
            "  warnings.warn(\n",
            "[Parallel(n_jobs=1)]: Using backend SequentialBackend with 1 concurrent workers.\n"
          ]
        },
        {
          "name": "stdout",
          "output_type": "stream",
          "text": [
            "max_iter reached after 1 seconds\n"
          ]
        },
        {
          "name": "stderr",
          "output_type": "stream",
          "text": [
            "/usr/local/lib/python3.9/dist-packages/sklearn/linear_model/_sag.py:350: ConvergenceWarning: The max_iter was reached which means the coef_ did not converge\n",
            "  warnings.warn(\n",
            "[Parallel(n_jobs=1)]: Done   1 out of   1 | elapsed:    0.8s finished\n",
            "/usr/local/lib/python3.9/dist-packages/sklearn/linear_model/_logistic.py:1181: UserWarning: Setting penalty=None will ignore the C and l1_ratio parameters\n",
            "  warnings.warn(\n",
            "[Parallel(n_jobs=1)]: Using backend SequentialBackend with 1 concurrent workers.\n"
          ]
        },
        {
          "name": "stdout",
          "output_type": "stream",
          "text": [
            "max_iter reached after 0 seconds\n"
          ]
        },
        {
          "name": "stderr",
          "output_type": "stream",
          "text": [
            "/usr/local/lib/python3.9/dist-packages/sklearn/linear_model/_sag.py:350: ConvergenceWarning: The max_iter was reached which means the coef_ did not converge\n",
            "  warnings.warn(\n",
            "[Parallel(n_jobs=1)]: Done   1 out of   1 | elapsed:    0.7s finished\n",
            "/usr/local/lib/python3.9/dist-packages/sklearn/linear_model/_logistic.py:1181: UserWarning: Setting penalty=None will ignore the C and l1_ratio parameters\n",
            "  warnings.warn(\n",
            "[Parallel(n_jobs=1)]: Using backend SequentialBackend with 1 concurrent workers.\n"
          ]
        },
        {
          "name": "stdout",
          "output_type": "stream",
          "text": [
            "max_iter reached after 1 seconds\n",
            "[LibLinear][LibLinear]"
          ]
        },
        {
          "name": "stderr",
          "output_type": "stream",
          "text": [
            "/usr/local/lib/python3.9/dist-packages/sklearn/linear_model/_sag.py:350: ConvergenceWarning: The max_iter was reached which means the coef_ did not converge\n",
            "  warnings.warn(\n",
            "[Parallel(n_jobs=1)]: Done   1 out of   1 | elapsed:    0.7s finished\n"
          ]
        },
        {
          "name": "stdout",
          "output_type": "stream",
          "text": [
            "[LibLinear][LibLinear][LibLinear]"
          ]
        },
        {
          "name": "stderr",
          "output_type": "stream",
          "text": [
            "[Parallel(n_jobs=1)]: Using backend SequentialBackend with 1 concurrent workers.\n"
          ]
        },
        {
          "name": "stdout",
          "output_type": "stream",
          "text": [
            "max_iter reached after 3 seconds\n"
          ]
        },
        {
          "name": "stderr",
          "output_type": "stream",
          "text": [
            "/usr/local/lib/python3.9/dist-packages/sklearn/linear_model/_sag.py:350: ConvergenceWarning: The max_iter was reached which means the coef_ did not converge\n",
            "  warnings.warn(\n",
            "[Parallel(n_jobs=1)]: Done   1 out of   1 | elapsed:    2.2s remaining:    0.0s\n",
            "[Parallel(n_jobs=1)]: Done   1 out of   1 | elapsed:    2.2s finished\n",
            "[Parallel(n_jobs=1)]: Using backend SequentialBackend with 1 concurrent workers.\n"
          ]
        },
        {
          "name": "stdout",
          "output_type": "stream",
          "text": [
            "convergence after 545 epochs took 0 seconds\n"
          ]
        },
        {
          "name": "stderr",
          "output_type": "stream",
          "text": [
            "[Parallel(n_jobs=1)]: Done   1 out of   1 | elapsed:    0.7s remaining:    0.0s\n",
            "[Parallel(n_jobs=1)]: Done   1 out of   1 | elapsed:    0.7s finished\n",
            "[Parallel(n_jobs=1)]: Using backend SequentialBackend with 1 concurrent workers.\n"
          ]
        },
        {
          "name": "stdout",
          "output_type": "stream",
          "text": [
            "max_iter reached after 1 seconds\n"
          ]
        },
        {
          "name": "stderr",
          "output_type": "stream",
          "text": [
            "/usr/local/lib/python3.9/dist-packages/sklearn/linear_model/_sag.py:350: ConvergenceWarning: The max_iter was reached which means the coef_ did not converge\n",
            "  warnings.warn(\n",
            "[Parallel(n_jobs=1)]: Done   1 out of   1 | elapsed:    0.5s remaining:    0.0s\n",
            "[Parallel(n_jobs=1)]: Done   1 out of   1 | elapsed:    0.5s finished\n",
            "[Parallel(n_jobs=1)]: Using backend SequentialBackend with 1 concurrent workers.\n"
          ]
        },
        {
          "name": "stdout",
          "output_type": "stream",
          "text": [
            "max_iter reached after 1 seconds\n"
          ]
        },
        {
          "name": "stderr",
          "output_type": "stream",
          "text": [
            "/usr/local/lib/python3.9/dist-packages/sklearn/linear_model/_sag.py:350: ConvergenceWarning: The max_iter was reached which means the coef_ did not converge\n",
            "  warnings.warn(\n",
            "[Parallel(n_jobs=1)]: Done   1 out of   1 | elapsed:    0.5s remaining:    0.0s\n",
            "[Parallel(n_jobs=1)]: Done   1 out of   1 | elapsed:    0.5s finished\n",
            "[Parallel(n_jobs=1)]: Using backend SequentialBackend with 1 concurrent workers.\n"
          ]
        },
        {
          "name": "stdout",
          "output_type": "stream",
          "text": [
            "max_iter reached after 0 seconds\n"
          ]
        },
        {
          "name": "stderr",
          "output_type": "stream",
          "text": [
            "/usr/local/lib/python3.9/dist-packages/sklearn/linear_model/_sag.py:350: ConvergenceWarning: The max_iter was reached which means the coef_ did not converge\n",
            "  warnings.warn(\n",
            "[Parallel(n_jobs=1)]: Done   1 out of   1 | elapsed:    0.4s remaining:    0.0s\n",
            "[Parallel(n_jobs=1)]: Done   1 out of   1 | elapsed:    0.4s finished\n",
            "/usr/local/lib/python3.9/dist-packages/sklearn/model_selection/_validation.py:378: FitFailedWarning: \n",
            "25 fits failed out of a total of 50.\n",
            "The score on these train-test partitions for these parameters will be set to nan.\n",
            "If these failures are not expected, you can try to debug them by setting error_score='raise'.\n",
            "\n",
            "Below are more details about the failures:\n",
            "--------------------------------------------------------------------------------\n",
            "5 fits failed with the following error:\n",
            "Traceback (most recent call last):\n",
            "  File \"/usr/local/lib/python3.9/dist-packages/sklearn/model_selection/_validation.py\", line 686, in _fit_and_score\n",
            "    estimator.fit(X_train, y_train, **fit_params)\n",
            "  File \"/usr/local/lib/python3.9/dist-packages/sklearn/linear_model/_logistic.py\", line 1162, in fit\n",
            "    solver = _check_solver(self.solver, self.penalty, self.dual)\n",
            "  File \"/usr/local/lib/python3.9/dist-packages/sklearn/linear_model/_logistic.py\", line 54, in _check_solver\n",
            "    raise ValueError(\n",
            "ValueError: Solver newton-cg supports only 'l2' or 'none' penalties, got elasticnet penalty.\n",
            "\n",
            "--------------------------------------------------------------------------------\n",
            "5 fits failed with the following error:\n",
            "Traceback (most recent call last):\n",
            "  File \"/usr/local/lib/python3.9/dist-packages/sklearn/model_selection/_validation.py\", line 686, in _fit_and_score\n",
            "    estimator.fit(X_train, y_train, **fit_params)\n",
            "  File \"/usr/local/lib/python3.9/dist-packages/sklearn/linear_model/_logistic.py\", line 1162, in fit\n",
            "    solver = _check_solver(self.solver, self.penalty, self.dual)\n",
            "  File \"/usr/local/lib/python3.9/dist-packages/sklearn/linear_model/_logistic.py\", line 54, in _check_solver\n",
            "    raise ValueError(\n",
            "ValueError: Solver newton-cg supports only 'l2' or 'none' penalties, got l1 penalty.\n",
            "\n",
            "--------------------------------------------------------------------------------\n",
            "5 fits failed with the following error:\n",
            "Traceback (most recent call last):\n",
            "  File \"/usr/local/lib/python3.9/dist-packages/sklearn/model_selection/_validation.py\", line 686, in _fit_and_score\n",
            "    estimator.fit(X_train, y_train, **fit_params)\n",
            "  File \"/usr/local/lib/python3.9/dist-packages/sklearn/linear_model/_logistic.py\", line 1162, in fit\n",
            "    solver = _check_solver(self.solver, self.penalty, self.dual)\n",
            "  File \"/usr/local/lib/python3.9/dist-packages/sklearn/linear_model/_logistic.py\", line 54, in _check_solver\n",
            "    raise ValueError(\n",
            "ValueError: Solver lbfgs supports only 'l2' or 'none' penalties, got elasticnet penalty.\n",
            "\n",
            "--------------------------------------------------------------------------------\n",
            "5 fits failed with the following error:\n",
            "Traceback (most recent call last):\n",
            "  File \"/usr/local/lib/python3.9/dist-packages/sklearn/model_selection/_validation.py\", line 686, in _fit_and_score\n",
            "    estimator.fit(X_train, y_train, **fit_params)\n",
            "  File \"/usr/local/lib/python3.9/dist-packages/sklearn/linear_model/_logistic.py\", line 1291, in fit\n",
            "    fold_coefs_ = Parallel(n_jobs=self.n_jobs, verbose=self.verbose, prefer=prefer)(\n",
            "  File \"/usr/local/lib/python3.9/dist-packages/sklearn/utils/parallel.py\", line 63, in __call__\n",
            "    return super().__call__(iterable_with_config)\n",
            "  File \"/usr/local/lib/python3.9/dist-packages/joblib/parallel.py\", line 1048, in __call__\n",
            "    if self.dispatch_one_batch(iterator):\n",
            "  File \"/usr/local/lib/python3.9/dist-packages/joblib/parallel.py\", line 864, in dispatch_one_batch\n",
            "    self._dispatch(tasks)\n",
            "  File \"/usr/local/lib/python3.9/dist-packages/joblib/parallel.py\", line 782, in _dispatch\n",
            "    job = self._backend.apply_async(batch, callback=cb)\n",
            "  File \"/usr/local/lib/python3.9/dist-packages/joblib/_parallel_backends.py\", line 208, in apply_async\n",
            "    result = ImmediateResult(func)\n",
            "  File \"/usr/local/lib/python3.9/dist-packages/joblib/_parallel_backends.py\", line 572, in __init__\n",
            "    self.results = batch()\n",
            "  File \"/usr/local/lib/python3.9/dist-packages/joblib/parallel.py\", line 263, in __call__\n",
            "    return [func(*args, **kwargs)\n",
            "  File \"/usr/local/lib/python3.9/dist-packages/joblib/parallel.py\", line 263, in <listcomp>\n",
            "    return [func(*args, **kwargs)\n",
            "  File \"/usr/local/lib/python3.9/dist-packages/sklearn/utils/parallel.py\", line 123, in __call__\n",
            "    return self.function(*args, **kwargs)\n",
            "  File \"/usr/local/lib/python3.9/dist-packages/sklearn/linear_model/_logistic.py\", line 521, in _logistic_regression_path\n",
            "    alpha = (1.0 / C) * (1 - l1_ratio)\n",
            "TypeError: unsupported operand type(s) for -: 'int' and 'NoneType'\n",
            "\n",
            "--------------------------------------------------------------------------------\n",
            "5 fits failed with the following error:\n",
            "Traceback (most recent call last):\n",
            "  File \"/usr/local/lib/python3.9/dist-packages/sklearn/model_selection/_validation.py\", line 686, in _fit_and_score\n",
            "    estimator.fit(X_train, y_train, **fit_params)\n",
            "  File \"/usr/local/lib/python3.9/dist-packages/sklearn/linear_model/_logistic.py\", line 1162, in fit\n",
            "    solver = _check_solver(self.solver, self.penalty, self.dual)\n",
            "  File \"/usr/local/lib/python3.9/dist-packages/sklearn/linear_model/_logistic.py\", line 64, in _check_solver\n",
            "    raise ValueError(\n",
            "ValueError: Only 'saga' solver supports elasticnet penalty, got solver=liblinear.\n",
            "\n",
            "  warnings.warn(some_fits_failed_message, FitFailedWarning)\n",
            "/usr/local/lib/python3.9/dist-packages/sklearn/model_selection/_search.py:952: UserWarning: One or more of the test scores are non-finite: [0.68730159 0.7531746  0.76587302        nan        nan        nan\n",
            " 0.7468254         nan 0.76111111        nan]\n",
            "  warnings.warn(\n",
            "/usr/local/lib/python3.9/dist-packages/sklearn/linear_model/_logistic.py:1181: UserWarning: Setting penalty=None will ignore the C and l1_ratio parameters\n",
            "  warnings.warn(\n",
            "[Parallel(n_jobs=1)]: Using backend SequentialBackend with 1 concurrent workers.\n"
          ]
        },
        {
          "name": "stdout",
          "output_type": "stream",
          "text": [
            "max_iter reached after 0 seconds\n"
          ]
        },
        {
          "name": "stderr",
          "output_type": "stream",
          "text": [
            "/usr/local/lib/python3.9/dist-packages/sklearn/linear_model/_sag.py:350: ConvergenceWarning: The max_iter was reached which means the coef_ did not converge\n",
            "  warnings.warn(\n",
            "[Parallel(n_jobs=1)]: Done   1 out of   1 | elapsed:    0.3s finished\n"
          ]
        },
        {
          "data": {
            "text/plain": [
              "{'verbose': 1,\n",
              " 'tol': 0.0001,\n",
              " 'solver': 'sag',\n",
              " 'random_state': 100,\n",
              " 'penalty': None,\n",
              " 'multi_class': 'ovr',\n",
              " 'max_iter': 1000,\n",
              " 'l1_ratio': None,\n",
              " 'intercept_scaling': 3,\n",
              " 'C': 0.01}"
            ]
          },
          "execution_count": 30,
          "metadata": {},
          "output_type": "execute_result"
        }
      ],
      "source": [
        "modelo = LogisticRegression()\n",
        "\n",
        "# Cria o RandomSearchCV\n",
        "\n",
        "parameters = {'C': [0.01, 0.1, 1],\n",
        "              'intercept_scaling': [1, 2, 3],\n",
        "              'l1_ratio': [None, 0.1],\n",
        "              'max_iter': [10, 100, 1000],\n",
        "              'multi_class': ['auto', 'ovr', 'multinomial'],\n",
        "              'penalty':['l1', 'l2', 'elasticnet', None],\n",
        "              'random_state': [1, 100, 6664],\n",
        "              'solver': ['newton-cg', 'lbfgs', 'liblinear', 'sag', 'saga'],\n",
        "              'tol': [0.1, 0.001, 0.0001],\n",
        "              'verbose': [0, 1, 2]}\n",
        "\n",
        "modelRS = RandomizedSearchCV(modelo, parameters,cv=5, scoring='accuracy')\n",
        "\n",
        "# Treina os modelos e guarda na variável modelRS o melhor modelo\n",
        "modelRS.fit(X_train, y_train)\n",
        "modelRS.best_params_"
      ]
    },
    {
      "cell_type": "code",
      "execution_count": null,
      "metadata": {
        "colab": {
          "base_uri": "https://localhost:8080/"
        },
        "id": "o4HT54E1H0Nh",
        "outputId": "187de0f5-a13c-43a0-f9b3-256c694d0ba2"
      },
      "outputs": [
        {
          "name": "stdout",
          "output_type": "stream",
          "text": [
            "0.7658730158730159\n",
            "{'verbose': 1, 'tol': 0.0001, 'solver': 'sag', 'random_state': 100, 'penalty': None, 'multi_class': 'ovr', 'max_iter': 1000, 'l1_ratio': None, 'intercept_scaling': 3, 'C': 0.01}\n"
          ]
        }
      ],
      "source": [
        "print(modelRS.best_score_)\n",
        "print(modelRS.best_params_)"
      ]
    },
    {
      "cell_type": "code",
      "execution_count": null,
      "metadata": {
        "colab": {
          "base_uri": "https://localhost:8080/",
          "height": 109
        },
        "id": "xlZVTmcjH1OZ",
        "outputId": "acf6ba2f-f420-4911-959a-9fed25f64d91"
      },
      "outputs": [
        {
          "data": {
            "text/html": [
              "<style>#sk-container-id-1 {color: black;background-color: white;}#sk-container-id-1 pre{padding: 0;}#sk-container-id-1 div.sk-toggleable {background-color: white;}#sk-container-id-1 label.sk-toggleable__label {cursor: pointer;display: block;width: 100%;margin-bottom: 0;padding: 0.3em;box-sizing: border-box;text-align: center;}#sk-container-id-1 label.sk-toggleable__label-arrow:before {content: \"▸\";float: left;margin-right: 0.25em;color: #696969;}#sk-container-id-1 label.sk-toggleable__label-arrow:hover:before {color: black;}#sk-container-id-1 div.sk-estimator:hover label.sk-toggleable__label-arrow:before {color: black;}#sk-container-id-1 div.sk-toggleable__content {max-height: 0;max-width: 0;overflow: hidden;text-align: left;background-color: #f0f8ff;}#sk-container-id-1 div.sk-toggleable__content pre {margin: 0.2em;color: black;border-radius: 0.25em;background-color: #f0f8ff;}#sk-container-id-1 input.sk-toggleable__control:checked~div.sk-toggleable__content {max-height: 200px;max-width: 100%;overflow: auto;}#sk-container-id-1 input.sk-toggleable__control:checked~label.sk-toggleable__label-arrow:before {content: \"▾\";}#sk-container-id-1 div.sk-estimator input.sk-toggleable__control:checked~label.sk-toggleable__label {background-color: #d4ebff;}#sk-container-id-1 div.sk-label input.sk-toggleable__control:checked~label.sk-toggleable__label {background-color: #d4ebff;}#sk-container-id-1 input.sk-hidden--visually {border: 0;clip: rect(1px 1px 1px 1px);clip: rect(1px, 1px, 1px, 1px);height: 1px;margin: -1px;overflow: hidden;padding: 0;position: absolute;width: 1px;}#sk-container-id-1 div.sk-estimator {font-family: monospace;background-color: #f0f8ff;border: 1px dotted black;border-radius: 0.25em;box-sizing: border-box;margin-bottom: 0.5em;}#sk-container-id-1 div.sk-estimator:hover {background-color: #d4ebff;}#sk-container-id-1 div.sk-parallel-item::after {content: \"\";width: 100%;border-bottom: 1px solid gray;flex-grow: 1;}#sk-container-id-1 div.sk-label:hover label.sk-toggleable__label {background-color: #d4ebff;}#sk-container-id-1 div.sk-serial::before {content: \"\";position: absolute;border-left: 1px solid gray;box-sizing: border-box;top: 0;bottom: 0;left: 50%;z-index: 0;}#sk-container-id-1 div.sk-serial {display: flex;flex-direction: column;align-items: center;background-color: white;padding-right: 0.2em;padding-left: 0.2em;position: relative;}#sk-container-id-1 div.sk-item {position: relative;z-index: 1;}#sk-container-id-1 div.sk-parallel {display: flex;align-items: stretch;justify-content: center;background-color: white;position: relative;}#sk-container-id-1 div.sk-item::before, #sk-container-id-1 div.sk-parallel-item::before {content: \"\";position: absolute;border-left: 1px solid gray;box-sizing: border-box;top: 0;bottom: 0;left: 50%;z-index: -1;}#sk-container-id-1 div.sk-parallel-item {display: flex;flex-direction: column;z-index: 1;position: relative;background-color: white;}#sk-container-id-1 div.sk-parallel-item:first-child::after {align-self: flex-end;width: 50%;}#sk-container-id-1 div.sk-parallel-item:last-child::after {align-self: flex-start;width: 50%;}#sk-container-id-1 div.sk-parallel-item:only-child::after {width: 0;}#sk-container-id-1 div.sk-dashed-wrapped {border: 1px dashed gray;margin: 0 0.4em 0.5em 0.4em;box-sizing: border-box;padding-bottom: 0.4em;background-color: white;}#sk-container-id-1 div.sk-label label {font-family: monospace;font-weight: bold;display: inline-block;line-height: 1.2em;}#sk-container-id-1 div.sk-label-container {text-align: center;}#sk-container-id-1 div.sk-container {/* jupyter's `normalize.less` sets `[hidden] { display: none; }` but bootstrap.min.css set `[hidden] { display: none !important; }` so we also need the `!important` here to be able to override the default hidden behavior on the sphinx rendered scikit-learn.org. See: https://github.com/scikit-learn/scikit-learn/issues/21755 */display: inline-block !important;position: relative;}#sk-container-id-1 div.sk-text-repr-fallback {display: none;}</style><div id=\"sk-container-id-1\" class=\"sk-top-container\"><div class=\"sk-text-repr-fallback\"><pre>LogisticRegression(C=0.01, intercept_scaling=3, max_iter=1000,\n",
              "                   multi_class=&#x27;ovr&#x27;, penalty=None, random_state=100,\n",
              "                   solver=&#x27;sag&#x27;, verbose=1)</pre><b>In a Jupyter environment, please rerun this cell to show the HTML representation or trust the notebook. <br />On GitHub, the HTML representation is unable to render, please try loading this page with nbviewer.org.</b></div><div class=\"sk-container\" hidden><div class=\"sk-item\"><div class=\"sk-estimator sk-toggleable\"><input class=\"sk-toggleable__control sk-hidden--visually\" id=\"sk-estimator-id-1\" type=\"checkbox\" checked><label for=\"sk-estimator-id-1\" class=\"sk-toggleable__label sk-toggleable__label-arrow\">LogisticRegression</label><div class=\"sk-toggleable__content\"><pre>LogisticRegression(C=0.01, intercept_scaling=3, max_iter=1000,\n",
              "                   multi_class=&#x27;ovr&#x27;, penalty=None, random_state=100,\n",
              "                   solver=&#x27;sag&#x27;, verbose=1)</pre></div></div></div></div></div>"
            ],
            "text/plain": [
              "LogisticRegression(C=0.01, intercept_scaling=3, max_iter=1000,\n",
              "                   multi_class='ovr', penalty=None, random_state=100,\n",
              "                   solver='sag', verbose=1)"
            ]
          },
          "execution_count": 32,
          "metadata": {},
          "output_type": "execute_result"
        }
      ],
      "source": [
        "reglog_best = modelRS.best_estimator_\n",
        "reglog_best"
      ]
    },
    {
      "cell_type": "code",
      "execution_count": null,
      "metadata": {
        "colab": {
          "base_uri": "https://localhost:8080/"
        },
        "id": "ZpImlU8KH6AC",
        "outputId": "406c4857-5136-4fca-b909-d7ad16624a74"
      },
      "outputs": [
        {
          "name": "stdout",
          "output_type": "stream",
          "text": [
            "Acc treino:  0.7642857142857142\n",
            "Acc teste:  0.7933491686460807\n",
            "F1_score:  0.7769977777101282\n"
          ]
        }
      ],
      "source": [
        "y_pred = reglog_best.predict(X_test)\n",
        "print('Acc treino: ', reglog_best.score(X_train, y_train ))\n",
        "print('Acc teste: ', reglog_best.score(X_test, y_test ))\n",
        "print( 'F1_score: ', f1_score(y_test, y_pred, average='macro' ))"
      ]
    },
    {
      "cell_type": "markdown",
      "metadata": {
        "id": "xkRzZxR8HQOT"
      },
      "source": [
        "## Adaboost"
      ]
    },
    {
      "cell_type": "code",
      "execution_count": null,
      "metadata": {
        "colab": {
          "background_save": true,
          "base_uri": "https://localhost:8080/"
        },
        "id": "uAUaURlLHdyT",
        "outputId": "1f80dd95-39e3-4b2c-a953-ebb982d84ba4"
      },
      "outputs": [
        {
          "data": {
            "text/plain": [
              "{'algorithm': 'SAMME',\n",
              " 'learning_rate': 1.0,\n",
              " 'n_estimators': 100,\n",
              " 'random_state': 500}"
            ]
          },
          "execution_count": 34,
          "metadata": {},
          "output_type": "execute_result"
        }
      ],
      "source": [
        "modelo = AdaBoostClassifier()\n",
        "\n",
        "# Cria o GridSearchCV\n",
        "\n",
        "parameters = {'algorithm': ['SAMME.R', 'SAMME'], \n",
        "              'learning_rate': [1.0, 2.0, 3.0], \n",
        "              'n_estimators': [50, 100, 200],\n",
        "              'random_state': [500, 501, 502, 503]}\n",
        "\n",
        "modelGS = GridSearchCV(modelo, parameters,cv=5, scoring='accuracy')\n",
        "\n",
        "# Treina os modelos e guarda na variável modelGS o melhor modelo\n",
        "modelGS.fit(X_train, y_train)\n",
        "modelGS.best_params_"
      ]
    },
    {
      "cell_type": "code",
      "execution_count": null,
      "metadata": {
        "colab": {
          "background_save": true,
          "base_uri": "https://localhost:8080/"
        },
        "id": "tENHlPyzHea3",
        "outputId": "e883de82-2946-42a0-b708-996d45ddd12c"
      },
      "outputs": [
        {
          "name": "stdout",
          "output_type": "stream",
          "text": [
            "0.7579365079365079\n",
            "{'algorithm': 'SAMME', 'learning_rate': 1.0, 'n_estimators': 100, 'random_state': 500}\n"
          ]
        }
      ],
      "source": [
        "print(modelGS.best_score_)\n",
        "print(modelGS.best_params_)"
      ]
    },
    {
      "cell_type": "code",
      "execution_count": null,
      "metadata": {
        "colab": {
          "background_save": true,
          "base_uri": "https://localhost:8080/",
          "height": 75
        },
        "id": "HBtxCPuFHfkH",
        "outputId": "7b5f87ec-6ef4-43d6-9db4-b5219dc817e0"
      },
      "outputs": [
        {
          "data": {
            "text/html": [
              "<style>#sk-container-id-2 {color: black;background-color: white;}#sk-container-id-2 pre{padding: 0;}#sk-container-id-2 div.sk-toggleable {background-color: white;}#sk-container-id-2 label.sk-toggleable__label {cursor: pointer;display: block;width: 100%;margin-bottom: 0;padding: 0.3em;box-sizing: border-box;text-align: center;}#sk-container-id-2 label.sk-toggleable__label-arrow:before {content: \"▸\";float: left;margin-right: 0.25em;color: #696969;}#sk-container-id-2 label.sk-toggleable__label-arrow:hover:before {color: black;}#sk-container-id-2 div.sk-estimator:hover label.sk-toggleable__label-arrow:before {color: black;}#sk-container-id-2 div.sk-toggleable__content {max-height: 0;max-width: 0;overflow: hidden;text-align: left;background-color: #f0f8ff;}#sk-container-id-2 div.sk-toggleable__content pre {margin: 0.2em;color: black;border-radius: 0.25em;background-color: #f0f8ff;}#sk-container-id-2 input.sk-toggleable__control:checked~div.sk-toggleable__content {max-height: 200px;max-width: 100%;overflow: auto;}#sk-container-id-2 input.sk-toggleable__control:checked~label.sk-toggleable__label-arrow:before {content: \"▾\";}#sk-container-id-2 div.sk-estimator input.sk-toggleable__control:checked~label.sk-toggleable__label {background-color: #d4ebff;}#sk-container-id-2 div.sk-label input.sk-toggleable__control:checked~label.sk-toggleable__label {background-color: #d4ebff;}#sk-container-id-2 input.sk-hidden--visually {border: 0;clip: rect(1px 1px 1px 1px);clip: rect(1px, 1px, 1px, 1px);height: 1px;margin: -1px;overflow: hidden;padding: 0;position: absolute;width: 1px;}#sk-container-id-2 div.sk-estimator {font-family: monospace;background-color: #f0f8ff;border: 1px dotted black;border-radius: 0.25em;box-sizing: border-box;margin-bottom: 0.5em;}#sk-container-id-2 div.sk-estimator:hover {background-color: #d4ebff;}#sk-container-id-2 div.sk-parallel-item::after {content: \"\";width: 100%;border-bottom: 1px solid gray;flex-grow: 1;}#sk-container-id-2 div.sk-label:hover label.sk-toggleable__label {background-color: #d4ebff;}#sk-container-id-2 div.sk-serial::before {content: \"\";position: absolute;border-left: 1px solid gray;box-sizing: border-box;top: 0;bottom: 0;left: 50%;z-index: 0;}#sk-container-id-2 div.sk-serial {display: flex;flex-direction: column;align-items: center;background-color: white;padding-right: 0.2em;padding-left: 0.2em;position: relative;}#sk-container-id-2 div.sk-item {position: relative;z-index: 1;}#sk-container-id-2 div.sk-parallel {display: flex;align-items: stretch;justify-content: center;background-color: white;position: relative;}#sk-container-id-2 div.sk-item::before, #sk-container-id-2 div.sk-parallel-item::before {content: \"\";position: absolute;border-left: 1px solid gray;box-sizing: border-box;top: 0;bottom: 0;left: 50%;z-index: -1;}#sk-container-id-2 div.sk-parallel-item {display: flex;flex-direction: column;z-index: 1;position: relative;background-color: white;}#sk-container-id-2 div.sk-parallel-item:first-child::after {align-self: flex-end;width: 50%;}#sk-container-id-2 div.sk-parallel-item:last-child::after {align-self: flex-start;width: 50%;}#sk-container-id-2 div.sk-parallel-item:only-child::after {width: 0;}#sk-container-id-2 div.sk-dashed-wrapped {border: 1px dashed gray;margin: 0 0.4em 0.5em 0.4em;box-sizing: border-box;padding-bottom: 0.4em;background-color: white;}#sk-container-id-2 div.sk-label label {font-family: monospace;font-weight: bold;display: inline-block;line-height: 1.2em;}#sk-container-id-2 div.sk-label-container {text-align: center;}#sk-container-id-2 div.sk-container {/* jupyter's `normalize.less` sets `[hidden] { display: none; }` but bootstrap.min.css set `[hidden] { display: none !important; }` so we also need the `!important` here to be able to override the default hidden behavior on the sphinx rendered scikit-learn.org. See: https://github.com/scikit-learn/scikit-learn/issues/21755 */display: inline-block !important;position: relative;}#sk-container-id-2 div.sk-text-repr-fallback {display: none;}</style><div id=\"sk-container-id-2\" class=\"sk-top-container\"><div class=\"sk-text-repr-fallback\"><pre>AdaBoostClassifier(algorithm=&#x27;SAMME&#x27;, n_estimators=100, random_state=500)</pre><b>In a Jupyter environment, please rerun this cell to show the HTML representation or trust the notebook. <br />On GitHub, the HTML representation is unable to render, please try loading this page with nbviewer.org.</b></div><div class=\"sk-container\" hidden><div class=\"sk-item\"><div class=\"sk-estimator sk-toggleable\"><input class=\"sk-toggleable__control sk-hidden--visually\" id=\"sk-estimator-id-2\" type=\"checkbox\" checked><label for=\"sk-estimator-id-2\" class=\"sk-toggleable__label sk-toggleable__label-arrow\">AdaBoostClassifier</label><div class=\"sk-toggleable__content\"><pre>AdaBoostClassifier(algorithm=&#x27;SAMME&#x27;, n_estimators=100, random_state=500)</pre></div></div></div></div></div>"
            ],
            "text/plain": [
              "AdaBoostClassifier(algorithm='SAMME', n_estimators=100, random_state=500)"
            ]
          },
          "execution_count": 36,
          "metadata": {},
          "output_type": "execute_result"
        }
      ],
      "source": [
        "reglog_best = modelGS.best_estimator_\n",
        "reglog_best"
      ]
    },
    {
      "cell_type": "code",
      "execution_count": null,
      "metadata": {
        "colab": {
          "background_save": true,
          "base_uri": "https://localhost:8080/"
        },
        "id": "NtOKA5gcHhmY",
        "outputId": "468004bc-a202-4855-a7a9-052eaa8038a5"
      },
      "outputs": [
        {
          "name": "stdout",
          "output_type": "stream",
          "text": [
            "Acc treino:  0.7793650793650794\n",
            "Acc teste:  0.7909738717339667\n",
            "F1_score:  0.7741195980879914\n"
          ]
        }
      ],
      "source": [
        "y_pred = reglog_best.predict(X_test)\n",
        "print('Acc treino: ', reglog_best.score(X_train, y_train ))\n",
        "print('Acc teste: ', reglog_best.score(X_test, y_test ))\n",
        "print( 'F1_score: ', f1_score(y_test, y_pred, average='macro' ))"
      ]
    },
    {
      "cell_type": "markdown",
      "metadata": {
        "id": "3U-Zk4H6HWrF"
      },
      "source": [
        "## SVC"
      ]
    },
    {
      "cell_type": "code",
      "execution_count": null,
      "metadata": {
        "colab": {
          "base_uri": "https://localhost:8080/"
        },
        "id": "qUJOxg1Pr6Uz",
        "outputId": "611118f7-cabe-4bd3-ed88-5a0576ce59cb"
      },
      "outputs": [
        {
          "name": "stderr",
          "output_type": "stream",
          "text": [
            "/usr/local/lib/python3.9/dist-packages/sklearn/svm/_base.py:299: ConvergenceWarning: Solver terminated early (max_iter=100).  Consider pre-processing your data with StandardScaler or MinMaxScaler.\n",
            "  warnings.warn(\n",
            "/usr/local/lib/python3.9/dist-packages/sklearn/svm/_base.py:299: ConvergenceWarning: Solver terminated early (max_iter=100).  Consider pre-processing your data with StandardScaler or MinMaxScaler.\n",
            "  warnings.warn(\n",
            "/usr/local/lib/python3.9/dist-packages/sklearn/svm/_base.py:299: ConvergenceWarning: Solver terminated early (max_iter=100).  Consider pre-processing your data with StandardScaler or MinMaxScaler.\n",
            "  warnings.warn(\n",
            "/usr/local/lib/python3.9/dist-packages/sklearn/svm/_base.py:299: ConvergenceWarning: Solver terminated early (max_iter=100).  Consider pre-processing your data with StandardScaler or MinMaxScaler.\n",
            "  warnings.warn(\n",
            "/usr/local/lib/python3.9/dist-packages/sklearn/svm/_base.py:299: ConvergenceWarning: Solver terminated early (max_iter=100).  Consider pre-processing your data with StandardScaler or MinMaxScaler.\n",
            "  warnings.warn(\n",
            "/usr/local/lib/python3.9/dist-packages/sklearn/svm/_base.py:299: ConvergenceWarning: Solver terminated early (max_iter=100).  Consider pre-processing your data with StandardScaler or MinMaxScaler.\n",
            "  warnings.warn(\n",
            "/usr/local/lib/python3.9/dist-packages/sklearn/svm/_base.py:299: ConvergenceWarning: Solver terminated early (max_iter=100).  Consider pre-processing your data with StandardScaler or MinMaxScaler.\n",
            "  warnings.warn(\n",
            "/usr/local/lib/python3.9/dist-packages/sklearn/svm/_base.py:299: ConvergenceWarning: Solver terminated early (max_iter=100).  Consider pre-processing your data with StandardScaler or MinMaxScaler.\n",
            "  warnings.warn(\n",
            "/usr/local/lib/python3.9/dist-packages/sklearn/svm/_base.py:299: ConvergenceWarning: Solver terminated early (max_iter=100).  Consider pre-processing your data with StandardScaler or MinMaxScaler.\n",
            "  warnings.warn(\n",
            "/usr/local/lib/python3.9/dist-packages/sklearn/svm/_base.py:299: ConvergenceWarning: Solver terminated early (max_iter=100).  Consider pre-processing your data with StandardScaler or MinMaxScaler.\n",
            "  warnings.warn(\n",
            "/usr/local/lib/python3.9/dist-packages/sklearn/svm/_base.py:299: ConvergenceWarning: Solver terminated early (max_iter=100).  Consider pre-processing your data with StandardScaler or MinMaxScaler.\n",
            "  warnings.warn(\n",
            "/usr/local/lib/python3.9/dist-packages/sklearn/svm/_base.py:299: ConvergenceWarning: Solver terminated early (max_iter=100).  Consider pre-processing your data with StandardScaler or MinMaxScaler.\n",
            "  warnings.warn(\n",
            "/usr/local/lib/python3.9/dist-packages/sklearn/svm/_base.py:299: ConvergenceWarning: Solver terminated early (max_iter=100).  Consider pre-processing your data with StandardScaler or MinMaxScaler.\n",
            "  warnings.warn(\n",
            "/usr/local/lib/python3.9/dist-packages/sklearn/svm/_base.py:299: ConvergenceWarning: Solver terminated early (max_iter=100).  Consider pre-processing your data with StandardScaler or MinMaxScaler.\n",
            "  warnings.warn(\n",
            "/usr/local/lib/python3.9/dist-packages/sklearn/svm/_base.py:299: ConvergenceWarning: Solver terminated early (max_iter=100).  Consider pre-processing your data with StandardScaler or MinMaxScaler.\n",
            "  warnings.warn(\n",
            "/usr/local/lib/python3.9/dist-packages/sklearn/svm/_base.py:299: ConvergenceWarning: Solver terminated early (max_iter=100).  Consider pre-processing your data with StandardScaler or MinMaxScaler.\n",
            "  warnings.warn(\n",
            "/usr/local/lib/python3.9/dist-packages/sklearn/svm/_base.py:299: ConvergenceWarning: Solver terminated early (max_iter=100).  Consider pre-processing your data with StandardScaler or MinMaxScaler.\n",
            "  warnings.warn(\n",
            "/usr/local/lib/python3.9/dist-packages/sklearn/svm/_base.py:299: ConvergenceWarning: Solver terminated early (max_iter=100).  Consider pre-processing your data with StandardScaler or MinMaxScaler.\n",
            "  warnings.warn(\n",
            "/usr/local/lib/python3.9/dist-packages/sklearn/svm/_base.py:299: ConvergenceWarning: Solver terminated early (max_iter=100).  Consider pre-processing your data with StandardScaler or MinMaxScaler.\n",
            "  warnings.warn(\n",
            "/usr/local/lib/python3.9/dist-packages/sklearn/svm/_base.py:299: ConvergenceWarning: Solver terminated early (max_iter=100).  Consider pre-processing your data with StandardScaler or MinMaxScaler.\n",
            "  warnings.warn(\n"
          ]
        },
        {
          "data": {
            "text/plain": [
              "{'tol': 0.001,\n",
              " 'max_iter': -1,\n",
              " 'kernel': 'linear',\n",
              " 'gamma': 'auto',\n",
              " 'degree': 7,\n",
              " 'decision_function_shape': 'ovr',\n",
              " 'C': 5}"
            ]
          },
          "execution_count": 38,
          "metadata": {},
          "output_type": "execute_result"
        }
      ],
      "source": [
        "modelo = SVC()\n",
        "\n",
        "# Cria o RandomSearchCV\n",
        "\n",
        "parameters = {'C': [1, 3, 5,], \n",
        "              'kernel': ['linear', 'poly', 'rbf', 'sigmoid'], \n",
        "              'degree': [3, 5, 7],\n",
        "              'gamma': ['scale', 'auto'],\n",
        "              'tol': [1, 0.01, 0.001],\n",
        "              'max_iter': [-1, 100, 1000],\n",
        "              'decision_function_shape': ['ovo', 'ovr']}\n",
        "\n",
        "modelRS = RandomizedSearchCV(modelo, parameters,cv=5, scoring='accuracy')\n",
        "\n",
        "# Treina os modelos e guarda na variável modelRS o melhor modelo\n",
        "modelRS.fit(X_train, y_train)\n",
        "modelRS.best_params_"
      ]
    },
    {
      "cell_type": "code",
      "execution_count": null,
      "metadata": {
        "colab": {
          "base_uri": "https://localhost:8080/"
        },
        "id": "acoBC3VXr8sH",
        "outputId": "caed7b57-9c6b-49b8-c9b3-235a3849db63"
      },
      "outputs": [
        {
          "name": "stdout",
          "output_type": "stream",
          "text": [
            "0.7587301587301587\n",
            "{'tol': 0.001, 'max_iter': -1, 'kernel': 'linear', 'gamma': 'auto', 'degree': 7, 'decision_function_shape': 'ovr', 'C': 5}\n"
          ]
        }
      ],
      "source": [
        "print(modelRS.best_score_)\n",
        "print(modelRS.best_params_)"
      ]
    },
    {
      "cell_type": "code",
      "execution_count": null,
      "metadata": {
        "colab": {
          "base_uri": "https://localhost:8080/",
          "height": 75
        },
        "id": "xO2Ozjjxr9sM",
        "outputId": "69ba1dff-b206-4384-864d-0e96bdd27be5"
      },
      "outputs": [
        {
          "data": {
            "text/html": [
              "<style>#sk-container-id-3 {color: black;background-color: white;}#sk-container-id-3 pre{padding: 0;}#sk-container-id-3 div.sk-toggleable {background-color: white;}#sk-container-id-3 label.sk-toggleable__label {cursor: pointer;display: block;width: 100%;margin-bottom: 0;padding: 0.3em;box-sizing: border-box;text-align: center;}#sk-container-id-3 label.sk-toggleable__label-arrow:before {content: \"▸\";float: left;margin-right: 0.25em;color: #696969;}#sk-container-id-3 label.sk-toggleable__label-arrow:hover:before {color: black;}#sk-container-id-3 div.sk-estimator:hover label.sk-toggleable__label-arrow:before {color: black;}#sk-container-id-3 div.sk-toggleable__content {max-height: 0;max-width: 0;overflow: hidden;text-align: left;background-color: #f0f8ff;}#sk-container-id-3 div.sk-toggleable__content pre {margin: 0.2em;color: black;border-radius: 0.25em;background-color: #f0f8ff;}#sk-container-id-3 input.sk-toggleable__control:checked~div.sk-toggleable__content {max-height: 200px;max-width: 100%;overflow: auto;}#sk-container-id-3 input.sk-toggleable__control:checked~label.sk-toggleable__label-arrow:before {content: \"▾\";}#sk-container-id-3 div.sk-estimator input.sk-toggleable__control:checked~label.sk-toggleable__label {background-color: #d4ebff;}#sk-container-id-3 div.sk-label input.sk-toggleable__control:checked~label.sk-toggleable__label {background-color: #d4ebff;}#sk-container-id-3 input.sk-hidden--visually {border: 0;clip: rect(1px 1px 1px 1px);clip: rect(1px, 1px, 1px, 1px);height: 1px;margin: -1px;overflow: hidden;padding: 0;position: absolute;width: 1px;}#sk-container-id-3 div.sk-estimator {font-family: monospace;background-color: #f0f8ff;border: 1px dotted black;border-radius: 0.25em;box-sizing: border-box;margin-bottom: 0.5em;}#sk-container-id-3 div.sk-estimator:hover {background-color: #d4ebff;}#sk-container-id-3 div.sk-parallel-item::after {content: \"\";width: 100%;border-bottom: 1px solid gray;flex-grow: 1;}#sk-container-id-3 div.sk-label:hover label.sk-toggleable__label {background-color: #d4ebff;}#sk-container-id-3 div.sk-serial::before {content: \"\";position: absolute;border-left: 1px solid gray;box-sizing: border-box;top: 0;bottom: 0;left: 50%;z-index: 0;}#sk-container-id-3 div.sk-serial {display: flex;flex-direction: column;align-items: center;background-color: white;padding-right: 0.2em;padding-left: 0.2em;position: relative;}#sk-container-id-3 div.sk-item {position: relative;z-index: 1;}#sk-container-id-3 div.sk-parallel {display: flex;align-items: stretch;justify-content: center;background-color: white;position: relative;}#sk-container-id-3 div.sk-item::before, #sk-container-id-3 div.sk-parallel-item::before {content: \"\";position: absolute;border-left: 1px solid gray;box-sizing: border-box;top: 0;bottom: 0;left: 50%;z-index: -1;}#sk-container-id-3 div.sk-parallel-item {display: flex;flex-direction: column;z-index: 1;position: relative;background-color: white;}#sk-container-id-3 div.sk-parallel-item:first-child::after {align-self: flex-end;width: 50%;}#sk-container-id-3 div.sk-parallel-item:last-child::after {align-self: flex-start;width: 50%;}#sk-container-id-3 div.sk-parallel-item:only-child::after {width: 0;}#sk-container-id-3 div.sk-dashed-wrapped {border: 1px dashed gray;margin: 0 0.4em 0.5em 0.4em;box-sizing: border-box;padding-bottom: 0.4em;background-color: white;}#sk-container-id-3 div.sk-label label {font-family: monospace;font-weight: bold;display: inline-block;line-height: 1.2em;}#sk-container-id-3 div.sk-label-container {text-align: center;}#sk-container-id-3 div.sk-container {/* jupyter's `normalize.less` sets `[hidden] { display: none; }` but bootstrap.min.css set `[hidden] { display: none !important; }` so we also need the `!important` here to be able to override the default hidden behavior on the sphinx rendered scikit-learn.org. See: https://github.com/scikit-learn/scikit-learn/issues/21755 */display: inline-block !important;position: relative;}#sk-container-id-3 div.sk-text-repr-fallback {display: none;}</style><div id=\"sk-container-id-3\" class=\"sk-top-container\"><div class=\"sk-text-repr-fallback\"><pre>SVC(C=5, degree=7, gamma=&#x27;auto&#x27;, kernel=&#x27;linear&#x27;)</pre><b>In a Jupyter environment, please rerun this cell to show the HTML representation or trust the notebook. <br />On GitHub, the HTML representation is unable to render, please try loading this page with nbviewer.org.</b></div><div class=\"sk-container\" hidden><div class=\"sk-item\"><div class=\"sk-estimator sk-toggleable\"><input class=\"sk-toggleable__control sk-hidden--visually\" id=\"sk-estimator-id-3\" type=\"checkbox\" checked><label for=\"sk-estimator-id-3\" class=\"sk-toggleable__label sk-toggleable__label-arrow\">SVC</label><div class=\"sk-toggleable__content\"><pre>SVC(C=5, degree=7, gamma=&#x27;auto&#x27;, kernel=&#x27;linear&#x27;)</pre></div></div></div></div></div>"
            ],
            "text/plain": [
              "SVC(C=5, degree=7, gamma='auto', kernel='linear')"
            ]
          },
          "execution_count": 40,
          "metadata": {},
          "output_type": "execute_result"
        }
      ],
      "source": [
        "reglog_best = modelRS.best_estimator_\n",
        "reglog_best"
      ]
    },
    {
      "cell_type": "code",
      "execution_count": null,
      "metadata": {
        "colab": {
          "base_uri": "https://localhost:8080/"
        },
        "id": "nR8JVLLur-w8",
        "outputId": "96fd5a5f-52e8-493c-8ca5-56b0851dd10f"
      },
      "outputs": [
        {
          "name": "stdout",
          "output_type": "stream",
          "text": [
            "Acc treino:  0.7531746031746032\n",
            "Acc teste:  0.7980997624703088\n",
            "F1_score:  0.7802457612026454\n"
          ]
        }
      ],
      "source": [
        "y_pred = reglog_best.predict(X_test)\n",
        "print('Acc treino: ', reglog_best.score(X_train, y_train ))\n",
        "print('Acc teste: ', reglog_best.score(X_test, y_test ))\n",
        "print( 'F1_score: ', f1_score(y_test, y_pred, average='macro' ))"
      ]
    },
    {
      "cell_type": "markdown",
      "metadata": {
        "id": "bnfr3GDLIWVT"
      },
      "source": [
        "# Colocando os modelos hipertunados no stacking"
      ]
    },
    {
      "cell_type": "code",
      "execution_count": null,
      "metadata": {
        "colab": {
          "base_uri": "https://localhost:8080/"
        },
        "id": "z2Xd3UzMIbUO",
        "outputId": "1dc07e2e-d33f-4377-deb5-a5257274451f"
      },
      "outputs": [
        {
          "name": "stderr",
          "output_type": "stream",
          "text": [
            "/usr/local/lib/python3.9/dist-packages/sklearn/linear_model/_logistic.py:1181: UserWarning: Setting penalty=None will ignore the C and l1_ratio parameters\n",
            "  warnings.warn(\n",
            "[Parallel(n_jobs=1)]: Using backend SequentialBackend with 1 concurrent workers.\n"
          ]
        },
        {
          "name": "stdout",
          "output_type": "stream",
          "text": [
            "max_iter reached after 0 seconds\n"
          ]
        },
        {
          "name": "stderr",
          "output_type": "stream",
          "text": [
            "/usr/local/lib/python3.9/dist-packages/sklearn/linear_model/_sag.py:350: ConvergenceWarning: The max_iter was reached which means the coef_ did not converge\n",
            "  warnings.warn(\n",
            "[Parallel(n_jobs=1)]: Done   1 out of   1 | elapsed:    0.3s finished\n",
            "/usr/local/lib/python3.9/dist-packages/sklearn/svm/_base.py:299: ConvergenceWarning: Solver terminated early (max_iter=2000).  Consider pre-processing your data with StandardScaler or MinMaxScaler.\n",
            "  warnings.warn(\n",
            "/usr/local/lib/python3.9/dist-packages/sklearn/linear_model/_logistic.py:1181: UserWarning: Setting penalty=None will ignore the C and l1_ratio parameters\n",
            "  warnings.warn(\n",
            "[Parallel(n_jobs=1)]: Using backend SequentialBackend with 1 concurrent workers.\n"
          ]
        },
        {
          "name": "stdout",
          "output_type": "stream",
          "text": [
            "max_iter reached after 0 seconds\n"
          ]
        },
        {
          "name": "stderr",
          "output_type": "stream",
          "text": [
            "/usr/local/lib/python3.9/dist-packages/sklearn/linear_model/_sag.py:350: ConvergenceWarning: The max_iter was reached which means the coef_ did not converge\n",
            "  warnings.warn(\n",
            "[Parallel(n_jobs=1)]: Done   1 out of   1 | elapsed:    0.3s finished\n",
            "/usr/local/lib/python3.9/dist-packages/sklearn/linear_model/_logistic.py:1181: UserWarning: Setting penalty=None will ignore the C and l1_ratio parameters\n",
            "  warnings.warn(\n",
            "[Parallel(n_jobs=1)]: Using backend SequentialBackend with 1 concurrent workers.\n"
          ]
        },
        {
          "name": "stdout",
          "output_type": "stream",
          "text": [
            "convergence after 841 epochs took 0 seconds\n"
          ]
        },
        {
          "name": "stderr",
          "output_type": "stream",
          "text": [
            "[Parallel(n_jobs=1)]: Done   1 out of   1 | elapsed:    0.2s finished\n",
            "/usr/local/lib/python3.9/dist-packages/sklearn/linear_model/_logistic.py:1181: UserWarning: Setting penalty=None will ignore the C and l1_ratio parameters\n",
            "  warnings.warn(\n",
            "[Parallel(n_jobs=1)]: Using backend SequentialBackend with 1 concurrent workers.\n"
          ]
        },
        {
          "name": "stdout",
          "output_type": "stream",
          "text": [
            "max_iter reached after 0 seconds\n"
          ]
        },
        {
          "name": "stderr",
          "output_type": "stream",
          "text": [
            "/usr/local/lib/python3.9/dist-packages/sklearn/linear_model/_sag.py:350: ConvergenceWarning: The max_iter was reached which means the coef_ did not converge\n",
            "  warnings.warn(\n",
            "[Parallel(n_jobs=1)]: Done   1 out of   1 | elapsed:    0.3s finished\n",
            "/usr/local/lib/python3.9/dist-packages/sklearn/linear_model/_logistic.py:1181: UserWarning: Setting penalty=None will ignore the C and l1_ratio parameters\n",
            "  warnings.warn(\n",
            "[Parallel(n_jobs=1)]: Using backend SequentialBackend with 1 concurrent workers.\n"
          ]
        },
        {
          "name": "stdout",
          "output_type": "stream",
          "text": [
            "max_iter reached after 1 seconds\n"
          ]
        },
        {
          "name": "stderr",
          "output_type": "stream",
          "text": [
            "/usr/local/lib/python3.9/dist-packages/sklearn/linear_model/_sag.py:350: ConvergenceWarning: The max_iter was reached which means the coef_ did not converge\n",
            "  warnings.warn(\n",
            "[Parallel(n_jobs=1)]: Done   1 out of   1 | elapsed:    0.3s finished\n",
            "/usr/local/lib/python3.9/dist-packages/sklearn/linear_model/_logistic.py:1181: UserWarning: Setting penalty=None will ignore the C and l1_ratio parameters\n",
            "  warnings.warn(\n",
            "[Parallel(n_jobs=1)]: Using backend SequentialBackend with 1 concurrent workers.\n"
          ]
        },
        {
          "name": "stdout",
          "output_type": "stream",
          "text": [
            "max_iter reached after 0 seconds\n"
          ]
        },
        {
          "name": "stderr",
          "output_type": "stream",
          "text": [
            "/usr/local/lib/python3.9/dist-packages/sklearn/linear_model/_sag.py:350: ConvergenceWarning: The max_iter was reached which means the coef_ did not converge\n",
            "  warnings.warn(\n",
            "[Parallel(n_jobs=1)]: Done   1 out of   1 | elapsed:    0.3s finished\n",
            "/usr/local/lib/python3.9/dist-packages/sklearn/svm/_base.py:299: ConvergenceWarning: Solver terminated early (max_iter=2000).  Consider pre-processing your data with StandardScaler or MinMaxScaler.\n",
            "  warnings.warn(\n",
            "/usr/local/lib/python3.9/dist-packages/sklearn/svm/_base.py:299: ConvergenceWarning: Solver terminated early (max_iter=2000).  Consider pre-processing your data with StandardScaler or MinMaxScaler.\n",
            "  warnings.warn(\n",
            "/usr/local/lib/python3.9/dist-packages/sklearn/svm/_base.py:299: ConvergenceWarning: Solver terminated early (max_iter=2000).  Consider pre-processing your data with StandardScaler or MinMaxScaler.\n",
            "  warnings.warn(\n",
            "/usr/local/lib/python3.9/dist-packages/sklearn/svm/_base.py:299: ConvergenceWarning: Solver terminated early (max_iter=2000).  Consider pre-processing your data with StandardScaler or MinMaxScaler.\n",
            "  warnings.warn(\n",
            "/usr/local/lib/python3.9/dist-packages/sklearn/svm/_base.py:299: ConvergenceWarning: Solver terminated early (max_iter=2000).  Consider pre-processing your data with StandardScaler or MinMaxScaler.\n",
            "  warnings.warn(\n",
            "/usr/local/lib/python3.9/dist-packages/sklearn/linear_model/_logistic.py:1181: UserWarning: Setting penalty=None will ignore the C and l1_ratio parameters\n",
            "  warnings.warn(\n",
            "[Parallel(n_jobs=1)]: Using backend SequentialBackend with 1 concurrent workers.\n",
            "/usr/local/lib/python3.9/dist-packages/sklearn/linear_model/_sag.py:350: ConvergenceWarning: The max_iter was reached which means the coef_ did not converge\n",
            "  warnings.warn(\n",
            "[Parallel(n_jobs=1)]: Done   1 out of   1 | elapsed:    0.2s finished\n"
          ]
        },
        {
          "name": "stdout",
          "output_type": "stream",
          "text": [
            "max_iter reached after 0 seconds\n"
          ]
        }
      ],
      "source": [
        "estimators = [('lr',LogisticRegression(C=0.01, intercept_scaling=3, max_iter=1000,\n",
        "                   multi_class='ovr', penalty=None, random_state=100,\n",
        "                   solver='sag', verbose=1)),('svr',SVC(max_iter= 2000, C=5, degree=7, gamma='auto', kernel='linear')),('ada',AdaBoostClassifier(algorithm='SAMME', n_estimators=100, random_state=500))]\n",
        "\n",
        "n_train = []\n",
        "n_test = []\n",
        "\n",
        "alg = StackingClassifier(estimators=estimators,final_estimator=LogisticRegression(C=0.01, intercept_scaling=3, max_iter=1000,\n",
        "                   multi_class='ovr', penalty=None, random_state=100,\n",
        "                   solver='sag', verbose=1))\n",
        "\n",
        "alg.fit(X_train, y_train)\n",
        "n_train.append(alg.score(X_train,y_train))\n",
        "n_test.append(alg.score(X_test,y_test))\n",
        "\n",
        "y_pred1 = alg.predict(X_test)\n",
        "matrix = confusion_matrix(y_test,y_pred1)"
      ]
    },
    {
      "cell_type": "code",
      "execution_count": null,
      "metadata": {
        "colab": {
          "base_uri": "https://localhost:8080/"
        },
        "id": "Z4_7s7CALjVe",
        "outputId": "951bc0ba-89e2-4f5e-bda2-c85f8a58a43f"
      },
      "outputs": [
        {
          "name": "stdout",
          "output_type": "stream",
          "text": [
            "[0.7904761904761904]\n",
            "[0.8052256532066508]\n",
            "0.7302631578947368\n"
          ]
        }
      ],
      "source": [
        "print(n_train) # Acuracia de treino\n",
        "print(n_test) # Acuracia de teste\n",
        "print(f1_score(y_test,y_pred1)) # F1_score"
      ]
    },
    {
      "cell_type": "code",
      "execution_count": null,
      "metadata": {
        "colab": {
          "base_uri": "https://localhost:8080/",
          "height": 315
        },
        "id": "vS0CR38UN6NA",
        "outputId": "1141c8b9-b5bd-4d07-d2b2-61d5ea560aa8"
      },
      "outputs": [
        {
          "name": "stdout",
          "output_type": "stream",
          "text": [
            "Matriz de Confusão: \n",
            "    0 = adjuvante \t 1 = neoadjuvante\n"
          ]
        },
        {
          "data": {
            "image/png": "[encoded data removed]",
            "text/plain": [
              "<Figure size 432x288 with 2 Axes>"
            ]
          },
          "metadata": {},
          "output_type": "display_data"
        }
      ],
      "source": [
        "# Fazer previsões com o modelo treinado usando os dados de teste\n",
        "print('Matriz de Confusão: \\n    0 = adjuvante \\t 1 = neoadjuvante')\n",
        "disp = ConfusionMatrixDisplay(confusion_matrix=matrix,\n",
        "                              display_labels=alg.classes_)\n",
        "disp.plot()\n",
        "plt.show()"
      ]
    },
    {
      "cell_type": "markdown",
      "source": [
        "Depois dos testes de varios modelos utilizando grid search e random search, foi possível identificar, através das métricas, que o StackingClassifier (otimizado utilizando o gridsearch) se saiu melhor que os outros modelos, pois apresentou uma melhor generalização, possuiu uma acuracia no conjunto de teste melhor e uma matriz de confusão com a diagonal principal com valores maiores."
      ],
      "metadata": {
        "id": "GXvjM0ShcasK"
      }
    }
  ],
  "metadata": {
    "colab": {
      "collapsed_sections": [
        "RGB9JBGYxWUs",
        "Hs-3B2deT8Iq",
        "tEuNHLgtUJ4y",
        "IRJAC03SL-ky",
        "1pU_tnKGLmPF",
        "9SB6tkdALyBR",
        "EosAXgGxL2lI",
        "Pnc8N9OUMJ04",
        "y7P773I6MNRf",
        "bV0AqI9pYfty",
        "eoiPgYM7njYs"
      ],
      "provenance": []
    },
    "gpuClass": "standard",
    "kernelspec": {
      "display_name": "Python 3",
      "name": "python3"
    },
    "language_info": {
      "name": "python"
    }
  },
  "nbformat": 4,
  "nbformat_minor": 0
}