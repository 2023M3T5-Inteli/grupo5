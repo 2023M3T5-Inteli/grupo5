{
  "cells": [
    {
      "cell_type": "code",
      "execution_count": 1,
      "metadata": {
        "colab": {
          "base_uri": "https://localhost:8080/"
        },
        "id": "qxmTwWzKvbjD",
        "outputId": "d07ec890-e4fc-4f2e-f606-e737128a379c"
      },
      "outputs": [
        {
          "output_type": "stream",
          "name": "stdout",
          "text": [
            "Mounted at /content/drive\n"
          ]
        }
      ],
      "source": [
        "from google.colab import drive\n",
        "drive.mount('/content/drive') "
      ]
    },
    {
      "cell_type": "code",
      "execution_count": 2,
      "metadata": {
        "id": "_Y_fXauvvI4S"
      },
      "outputs": [],
      "source": [
        "import pandas as pd #para ler, visualizar e printar infos do df\n",
        "import matplotlib.pyplot as plt #para construir e customizar gráficos\n",
        "import seaborn as sns #para visualizar uns gráficos\n",
        "import numpy as np #numpy porque é sempre bom importar numpy né \n",
        "import math\n",
        "import datetime\n",
        "import plotly.express as px\n",
        "from pandas_profiling import ProfileReport"
      ]
    },
    {
      "cell_type": "markdown",
      "metadata": {
        "id": "RGB9JBGYxWUs"
      },
      "source": [
        "# Carregando conjunto de dados e tratamentos iniciais"
      ]
    },
    {
      "cell_type": "code",
      "execution_count": 3,
      "metadata": {
        "colab": {
          "base_uri": "https://localhost:8080/",
          "height": 0
        },
        "id": "gNOm23QMLMeo",
        "outputId": "c59838b2-ace6-4b3f-cf7e-5d19befd8514"
      },
      "outputs": [
        {
          "output_type": "execute_result",
          "data": {
            "text/plain": [
              "   record_id                 escolaridade  idade_no_primeiro_diagnostico  \\\n",
              "0        302  ENS. FUNDAMENTAL INCOMPLETO                           51.0   \n",
              "1        710                 ENSINO MÉDIO                           58.0   \n",
              "2        752  ENS. FUNDAMENTAL INCOMPLETO                           56.0   \n",
              "3       1367  ENS. FUNDAMENTAL INCOMPLETO                           63.0   \n",
              "4       1589    ENS. FUNDAMENTAL COMPLETO                           42.0   \n",
              "\n",
              "   sexo raca uf_nascimento uf_residencia data_ultima_informacao  \\\n",
              "0     1  NaN           NaN           NaN             2014-04-26   \n",
              "1     1  NaN           NaN           NaN             2016-11-17   \n",
              "2     1  NaN           NaN           NaN             2019-05-02   \n",
              "3     1  NaN           NaN           NaN             2011-09-29   \n",
              "4     1  NaN           NaN           NaN             2017-05-24   \n",
              "\n",
              "   ultima_informacao  \\\n",
              "0                0.0   \n",
              "1                1.0   \n",
              "2                1.0   \n",
              "3                0.0   \n",
              "4                1.0   \n",
              "\n",
              "   tempo_em_dias_desde_o_ultimo_tumor_no_caso_de_tumores_multiplos  ...  \\\n",
              "0                                             2225.0                ...   \n",
              "1                                             3294.0                ...   \n",
              "2                                             4153.0                ...   \n",
              "3                                             1331.0                ...   \n",
              "4                                             3290.0                ...   \n",
              "\n",
              "   classificacao_tnm_patologico_t  com_recidiva_a_distancia  \\\n",
              "0                   Nao informado                         0   \n",
              "1                   Nao informado                         0   \n",
              "2                               2                         0   \n",
              "3                              1A                         0   \n",
              "4                   Nao informado                         0   \n",
              "\n",
              "   com_recidiva_regional  com_recidiva_local recidiva quimio  radio cirurgia  \\\n",
              "0                      0                   0        0      1      1        1   \n",
              "1                      1                   1        0      1      0        1   \n",
              "2                      0                   0        0      0      0        0   \n",
              "3                      1                   0        1      0      0        0   \n",
              "4                      0                   0        0      1      1        1   \n",
              "\n",
              "  hormonio tipo_de_tratamento  \n",
              "0        1                NaN  \n",
              "1        0                0.0  \n",
              "2        0                NaN  \n",
              "3        0                NaN  \n",
              "4        0                NaN  \n",
              "\n",
              "[5 rows x 100 columns]"
            ],
            "text/html": [
              "\n",
              "  <div id=\"df-f488192e-0d3a-4bd7-9139-0fee230bc9ca\">\n",
              "    <div class=\"colab-df-container\">\n",
              "      <div>\n",
              "<style scoped>\n",
              "    .dataframe tbody tr th:only-of-type {\n",
              "        vertical-align: middle;\n",
              "    }\n",
              "\n",
              "    .dataframe tbody tr th {\n",
              "        vertical-align: top;\n",
              "    }\n",
              "\n",
              "    .dataframe thead th {\n",
              "        text-align: right;\n",
              "    }\n",
              "</style>\n",
              "<table border=\"1\" class=\"dataframe\">\n",
              "  <thead>\n",
              "    <tr style=\"text-align: right;\">\n",
              "      <th></th>\n",
              "      <th>record_id</th>\n",
              "      <th>escolaridade</th>\n",
              "      <th>idade_no_primeiro_diagnostico</th>\n",
              "      <th>sexo</th>\n",
              "      <th>raca</th>\n",
              "      <th>uf_nascimento</th>\n",
              "      <th>uf_residencia</th>\n",
              "      <th>data_ultima_informacao</th>\n",
              "      <th>ultima_informacao</th>\n",
              "      <th>tempo_em_dias_desde_o_ultimo_tumor_no_caso_de_tumores_multiplos</th>\n",
              "      <th>...</th>\n",
              "      <th>classificacao_tnm_patologico_t</th>\n",
              "      <th>com_recidiva_a_distancia</th>\n",
              "      <th>com_recidiva_regional</th>\n",
              "      <th>com_recidiva_local</th>\n",
              "      <th>recidiva</th>\n",
              "      <th>quimio</th>\n",
              "      <th>radio</th>\n",
              "      <th>cirurgia</th>\n",
              "      <th>hormonio</th>\n",
              "      <th>tipo_de_tratamento</th>\n",
              "    </tr>\n",
              "  </thead>\n",
              "  <tbody>\n",
              "    <tr>\n",
              "      <th>0</th>\n",
              "      <td>302</td>\n",
              "      <td>ENS. FUNDAMENTAL INCOMPLETO</td>\n",
              "      <td>51.0</td>\n",
              "      <td>1</td>\n",
              "      <td>NaN</td>\n",
              "      <td>NaN</td>\n",
              "      <td>NaN</td>\n",
              "      <td>2014-04-26</td>\n",
              "      <td>0.0</td>\n",
              "      <td>2225.0</td>\n",
              "      <td>...</td>\n",
              "      <td>Nao informado</td>\n",
              "      <td>0</td>\n",
              "      <td>0</td>\n",
              "      <td>0</td>\n",
              "      <td>0</td>\n",
              "      <td>1</td>\n",
              "      <td>1</td>\n",
              "      <td>1</td>\n",
              "      <td>1</td>\n",
              "      <td>NaN</td>\n",
              "    </tr>\n",
              "    <tr>\n",
              "      <th>1</th>\n",
              "      <td>710</td>\n",
              "      <td>ENSINO MÉDIO</td>\n",
              "      <td>58.0</td>\n",
              "      <td>1</td>\n",
              "      <td>NaN</td>\n",
              "      <td>NaN</td>\n",
              "      <td>NaN</td>\n",
              "      <td>2016-11-17</td>\n",
              "      <td>1.0</td>\n",
              "      <td>3294.0</td>\n",
              "      <td>...</td>\n",
              "      <td>Nao informado</td>\n",
              "      <td>0</td>\n",
              "      <td>1</td>\n",
              "      <td>1</td>\n",
              "      <td>0</td>\n",
              "      <td>1</td>\n",
              "      <td>0</td>\n",
              "      <td>1</td>\n",
              "      <td>0</td>\n",
              "      <td>0.0</td>\n",
              "    </tr>\n",
              "    <tr>\n",
              "      <th>2</th>\n",
              "      <td>752</td>\n",
              "      <td>ENS. FUNDAMENTAL INCOMPLETO</td>\n",
              "      <td>56.0</td>\n",
              "      <td>1</td>\n",
              "      <td>NaN</td>\n",
              "      <td>NaN</td>\n",
              "      <td>NaN</td>\n",
              "      <td>2019-05-02</td>\n",
              "      <td>1.0</td>\n",
              "      <td>4153.0</td>\n",
              "      <td>...</td>\n",
              "      <td>2</td>\n",
              "      <td>0</td>\n",
              "      <td>0</td>\n",
              "      <td>0</td>\n",
              "      <td>0</td>\n",
              "      <td>0</td>\n",
              "      <td>0</td>\n",
              "      <td>0</td>\n",
              "      <td>0</td>\n",
              "      <td>NaN</td>\n",
              "    </tr>\n",
              "    <tr>\n",
              "      <th>3</th>\n",
              "      <td>1367</td>\n",
              "      <td>ENS. FUNDAMENTAL INCOMPLETO</td>\n",
              "      <td>63.0</td>\n",
              "      <td>1</td>\n",
              "      <td>NaN</td>\n",
              "      <td>NaN</td>\n",
              "      <td>NaN</td>\n",
              "      <td>2011-09-29</td>\n",
              "      <td>0.0</td>\n",
              "      <td>1331.0</td>\n",
              "      <td>...</td>\n",
              "      <td>1A</td>\n",
              "      <td>0</td>\n",
              "      <td>1</td>\n",
              "      <td>0</td>\n",
              "      <td>1</td>\n",
              "      <td>0</td>\n",
              "      <td>0</td>\n",
              "      <td>0</td>\n",
              "      <td>0</td>\n",
              "      <td>NaN</td>\n",
              "    </tr>\n",
              "    <tr>\n",
              "      <th>4</th>\n",
              "      <td>1589</td>\n",
              "      <td>ENS. FUNDAMENTAL COMPLETO</td>\n",
              "      <td>42.0</td>\n",
              "      <td>1</td>\n",
              "      <td>NaN</td>\n",
              "      <td>NaN</td>\n",
              "      <td>NaN</td>\n",
              "      <td>2017-05-24</td>\n",
              "      <td>1.0</td>\n",
              "      <td>3290.0</td>\n",
              "      <td>...</td>\n",
              "      <td>Nao informado</td>\n",
              "      <td>0</td>\n",
              "      <td>0</td>\n",
              "      <td>0</td>\n",
              "      <td>0</td>\n",
              "      <td>1</td>\n",
              "      <td>1</td>\n",
              "      <td>1</td>\n",
              "      <td>0</td>\n",
              "      <td>NaN</td>\n",
              "    </tr>\n",
              "  </tbody>\n",
              "</table>\n",
              "<p>5 rows × 100 columns</p>\n",
              "</div>\n",
              "      <button class=\"colab-df-convert\" onclick=\"convertToInteractive('df-f488192e-0d3a-4bd7-9139-0fee230bc9ca')\"\n",
              "              title=\"Convert this dataframe to an interactive table.\"\n",
              "              style=\"display:none;\">\n",
              "        \n",
              "  <svg xmlns=\"http://www.w3.org/2000/svg\" height=\"24px\"viewBox=\"0 0 24 24\"\n",
              "       width=\"24px\">\n",
              "    <path d=\"M0 0h24v24H0V0z\" fill=\"none\"/>\n",
              "    <path d=\"M18.56 5.44l.94 2.06.94-2.06 2.06-.94-2.06-.94-.94-2.06-.94 2.06-2.06.94zm-11 1L8.5 8.5l.94-2.06 2.06-.94-2.06-.94L8.5 2.5l-.94 2.06-2.06.94zm10 10l.94 2.06.94-2.06 2.06-.94-2.06-.94-.94-2.06-.94 2.06-2.06.94z\"/><path d=\"M17.41 7.96l-1.37-1.37c-.4-.4-.92-.59-1.43-.59-.52 0-1.04.2-1.43.59L10.3 9.45l-7.72 7.72c-.78.78-.78 2.05 0 2.83L4 21.41c.39.39.9.59 1.41.59.51 0 1.02-.2 1.41-.59l7.78-7.78 2.81-2.81c.8-.78.8-2.07 0-2.86zM5.41 20L4 18.59l7.72-7.72 1.47 1.35L5.41 20z\"/>\n",
              "  </svg>\n",
              "      </button>\n",
              "      \n",
              "  <style>\n",
              "    .colab-df-container {\n",
              "      display:flex;\n",
              "      flex-wrap:wrap;\n",
              "      gap: 12px;\n",
              "    }\n",
              "\n",
              "    .colab-df-convert {\n",
              "      background-color: #E8F0FE;\n",
              "      border: none;\n",
              "      border-radius: 50%;\n",
              "      cursor: pointer;\n",
              "      display: none;\n",
              "      fill: #1967D2;\n",
              "      height: 32px;\n",
              "      padding: 0 0 0 0;\n",
              "      width: 32px;\n",
              "    }\n",
              "\n",
              "    .colab-df-convert:hover {\n",
              "      background-color: #E2EBFA;\n",
              "      box-shadow: 0px 1px 2px rgba(60, 64, 67, 0.3), 0px 1px 3px 1px rgba(60, 64, 67, 0.15);\n",
              "      fill: #174EA6;\n",
              "    }\n",
              "\n",
              "    [theme=dark] .colab-df-convert {\n",
              "      background-color: #3B4455;\n",
              "      fill: #D2E3FC;\n",
              "    }\n",
              "\n",
              "    [theme=dark] .colab-df-convert:hover {\n",
              "      background-color: #434B5C;\n",
              "      box-shadow: 0px 1px 3px 1px rgba(0, 0, 0, 0.15);\n",
              "      filter: drop-shadow(0px 1px 2px rgba(0, 0, 0, 0.3));\n",
              "      fill: #FFFFFF;\n",
              "    }\n",
              "  </style>\n",
              "\n",
              "      <script>\n",
              "        const buttonEl =\n",
              "          document.querySelector('#df-f488192e-0d3a-4bd7-9139-0fee230bc9ca button.colab-df-convert');\n",
              "        buttonEl.style.display =\n",
              "          google.colab.kernel.accessAllowed ? 'block' : 'none';\n",
              "\n",
              "        async function convertToInteractive(key) {\n",
              "          const element = document.querySelector('#df-f488192e-0d3a-4bd7-9139-0fee230bc9ca');\n",
              "          const dataTable =\n",
              "            await google.colab.kernel.invokeFunction('convertToInteractive',\n",
              "                                                     [key], {});\n",
              "          if (!dataTable) return;\n",
              "\n",
              "          const docLinkHtml = 'Like what you see? Visit the ' +\n",
              "            '<a target=\"_blank\" href=https://colab.research.google.com/notebooks/data_table.ipynb>data table notebook</a>'\n",
              "            + ' to learn more about interactive tables.';\n",
              "          element.innerHTML = '';\n",
              "          dataTable['output_type'] = 'display_data';\n",
              "          await google.colab.output.renderOutput(dataTable, element);\n",
              "          const docLink = document.createElement('div');\n",
              "          docLink.innerHTML = docLinkHtml;\n",
              "          element.appendChild(docLink);\n",
              "        }\n",
              "      </script>\n",
              "    </div>\n",
              "  </div>\n",
              "  "
            ]
          },
          "metadata": {},
          "execution_count": 3
        }
      ],
      "source": [
        "df = pd.read_csv('/content/drive/Shareddrives/OncoAI/Grupo 5 - OncoAI/Projeto/Base_de_dados/Merge_Trat.csv')\n",
        "df.head()"
      ]
    },
    {
      "cell_type": "code",
      "execution_count": 4,
      "metadata": {
        "colab": {
          "base_uri": "https://localhost:8080/"
        },
        "id": "yLkLmj_gIzfW",
        "outputId": "ce702398-8712-4a61-c39e-940720ca318d"
      },
      "outputs": [
        {
          "output_type": "execute_result",
          "data": {
            "text/plain": [
              "(3791, 100)"
            ]
          },
          "metadata": {},
          "execution_count": 4
        }
      ],
      "source": [
        "df.shape"
      ]
    },
    {
      "cell_type": "code",
      "execution_count": 5,
      "metadata": {
        "colab": {
          "base_uri": "https://localhost:8080/"
        },
        "id": "BUsTK4AuRS2G",
        "outputId": "184dd587-4c00-4a45-f4e0-9ea1174afdcc"
      },
      "outputs": [
        {
          "output_type": "execute_result",
          "data": {
            "text/plain": [
              "Index(['record_id', 'escolaridade', 'idade_no_primeiro_diagnostico', 'sexo',\n",
              "       'raca', 'uf_nascimento', 'uf_residencia', 'data_ultima_informacao',\n",
              "       'ultima_informacao',\n",
              "       'tempo_em_dias_desde_o_ultimo_tumor_no_caso_de_tumores_multiplos',\n",
              "       'ja_ficou_gravida', 'quantas_vezes_ficou_gravida', 'numero_de_partos',\n",
              "       'idade_na_primeira_gestacao', 'abortou',\n",
              "       'amamentou_na_primeira_gestacao', 'tempo_de_amamentacao',\n",
              "       'historia_familiar_de_cancer_relacionado_a_síndrome_de_cancer_de_mama_e_ovario_hereditaria(choice=Nao)',\n",
              "       'historia_familiar_de_cancer_relacionado_a_síndrome_de_cancer_de_mama_e_ovario_hereditaria(choice=Sim_1_grau,apenas_um_caso)',\n",
              "       'historia_familiar_de_cancer_relacionado_a_síndrome_de_cancer_de_mama_e_ovario_hereditaria(choice=Sim_1_grau,mais_de_um_caso)',\n",
              "       'historia_familiar_de_cancer_relacionado_a_síndrome_de_cancer_de_mama_e_ovario_hereditaria(choice=Sim_2_grau,apenas_um_caso)',\n",
              "       'historia_familiar_de_cancer_relacionado_a_síndrome_de_cancer_de_mama_e_ovario_hereditaria(choice=Sim_2_grau,mais_de_um_caso)',\n",
              "       'idade_na_primeira_menstruacao', 'usa_metodo_contraceptivo',\n",
              "       'pilula_anticoncepcional', 'diu', 'camisinha', 'outros',\n",
              "       'nao_informado', 'ja_usou_drogas', 'realiza_atividades_fisicas',\n",
              "       'consumo_de_tabaco', 'consumo_de_alcool',\n",
              "       'possui_historico_familiar_de_cancer',\n",
              "       'grau_de_parentesco(choice=primeiro(pais,_irmaos,_filhos))',\n",
              "       'grau_de_parentesco(choice=segundo(avós,_tios_e_netos))',\n",
              "       'grau_de_parentesco(choice=terceiro(bisavós,tio_avós,primos,sobrinhos))',\n",
              "       'regime_tratamento', 'hormonioterapia', 'data_cirurgia',\n",
              "       'tipo_de_terapia_anti-her2_neoadjuvante', 'radioterapia',\n",
              "       'data_inicio_quimio', 'esquema_de_hormonioterapia',\n",
              "       'data_inicio_hormonioterapia_adjuvante', 'data_inicio_radio',\n",
              "       'data_entrada', 'peso_inicial', 'altura_cm', 'IMC', 'peso_max',\n",
              "       'peso_min', 'diagnostico_primario_tipo_histologico', 'grau_histologico',\n",
              "       'subtipo_tumoral', 'receptor_de_estrogenio', 'receptor_de_progesterona',\n",
              "       'ki67_maior_14_percentage',\n",
              "       'receptor_de_progesterona_quantificacao_percentage',\n",
              "       'receptor_de_estrogenio_quantificacao_percentage',\n",
              "       'indice_h_receptor_de_progesterona', 'her2_por_ihc', 'her2_por_fish',\n",
              "       'ki67_percentage', 'data_primeira_consulta_institucional',\n",
              "       'data_diagnostico', 'codigo_topografia_cid_0',\n",
              "       'codigo_morfologia_de_acordo_com_o_cid_o', 'estadio_clinico',\n",
              "       'grupo_estadio_clinico', 'classificacao_tnm_clinico_t',\n",
              "       'classificacao_tnm_clinico_n', 'classificacao_tnm_clinico_m',\n",
              "       'metastase_ao_diagnostico_cid_O_1', 'metastase_ao_diagnostico_cid_O_2',\n",
              "       'metastase_ao_diagnostico_cid_O_3', 'metastase_ao_diagnostico_cid_O_4',\n",
              "       'data_do_tratamento',\n",
              "       'combinacao_dos_tratamentos_realizados_no_hospital', 'ano_diagnostico',\n",
              "       'lateralidade_do_tumor', 'data_recidiva',\n",
              "       'tempo_desde_o_diagnostico_ate_a_primeira_recidiva',\n",
              "       'local_recidiva_a_xa0_distancia_metastase_1_cid_O_topografia',\n",
              "       'local_recidiva_a_xa0_distancia_metastase_2_cid_O_topografia',\n",
              "       'local_recidiva_a_xa0_distancia_metastase_3_cid_O_topografia',\n",
              "       'local_recidiva_a_xa0_distancia_metastase_4_cid_O_topografia',\n",
              "       'descricao_da_morfologia_de_acordo_com_o_cid_O_cid_O_3_edição',\n",
              "       'descricao_topografia', 'classificacao_tnm_patologico_n',\n",
              "       'classificacao_tnm_patologico_t', 'com_recidiva_a_distancia',\n",
              "       'com_recidiva_regional', 'com_recidiva_local', 'recidiva', 'quimio',\n",
              "       'radio', 'cirurgia', 'hormonio', 'tipo_de_tratamento'],\n",
              "      dtype='object')"
            ]
          },
          "metadata": {},
          "execution_count": 5
        }
      ],
      "source": [
        "df.columns"
      ]
    },
    {
      "cell_type": "code",
      "execution_count": 6,
      "metadata": {
        "id": "oRCPmdaz3SP3"
      },
      "outputs": [],
      "source": [
        "dfr = df"
      ]
    },
    {
      "cell_type": "markdown",
      "metadata": {
        "id": "Hs-3B2deT8Iq"
      },
      "source": [
        "# Filtrando e organizando"
      ]
    },
    {
      "cell_type": "code",
      "execution_count": 7,
      "metadata": {
        "colab": {
          "base_uri": "https://localhost:8080/"
        },
        "id": "-R_G5UcU3aia",
        "outputId": "510d19cd-e3b9-41f5-cb94-296ea1820ad9"
      },
      "outputs": [
        {
          "output_type": "stream",
          "name": "stderr",
          "text": [
            "<ipython-input-7-6b187c878a1b>:1: UserWarning: Boolean Series key will be reindexed to match DataFrame index.\n",
            "  dfr = dfr[dfr[\"regime_tratamento\"].isnull()==False][dfr[\"regime_tratamento\"]!=2][dfr[\"regime_tratamento\"]!=3]\n"
          ]
        }
      ],
      "source": [
        "dfr = dfr[dfr[\"regime_tratamento\"].isnull()==False][dfr[\"regime_tratamento\"]!=2][dfr[\"regime_tratamento\"]!=3]"
      ]
    },
    {
      "cell_type": "code",
      "execution_count": 8,
      "metadata": {
        "colab": {
          "base_uri": "https://localhost:8080/"
        },
        "id": "EZKleXVw4uYL",
        "outputId": "4bf07b31-ba1b-49ab-8a0e-4f1801ade2f1"
      },
      "outputs": [
        {
          "output_type": "stream",
          "name": "stderr",
          "text": [
            "<ipython-input-8-212e2b847256>:1: UserWarning: Boolean Series key will be reindexed to match DataFrame index.\n",
            "  dfr = dfr[dfr[\"ultima_informacao\"]!= 0][dfr[\"ultima_informacao\"]!= 2]\n"
          ]
        }
      ],
      "source": [
        "dfr = dfr[dfr[\"ultima_informacao\"]!= 0][dfr[\"ultima_informacao\"]!= 2]"
      ]
    },
    {
      "cell_type": "code",
      "execution_count": 9,
      "metadata": {
        "id": "QkOkcxVY5gRR"
      },
      "outputs": [],
      "source": [
        "dfr = dfr[dfr['recidiva']!=1]"
      ]
    },
    {
      "cell_type": "code",
      "execution_count": 10,
      "metadata": {
        "colab": {
          "base_uri": "https://localhost:8080/",
          "height": 626
        },
        "id": "8Bdf-Kpg6qI0",
        "outputId": "f68971f9-1aa0-4910-9bea-7892bdf813c4"
      },
      "outputs": [
        {
          "output_type": "execute_result",
          "data": {
            "text/plain": [
              "      record_id                 escolaridade  idade_no_primeiro_diagnostico  \\\n",
              "1           710                 ENSINO MÉDIO                           58.0   \n",
              "9          1960  ENS. FUNDAMENTAL INCOMPLETO                           29.0   \n",
              "15         2157    ENS. FUNDAMENTAL COMPLETO                           51.0   \n",
              "26         2864  ENS. FUNDAMENTAL INCOMPLETO                           39.0   \n",
              "28         3357    ENS. FUNDAMENTAL COMPLETO                           48.0   \n",
              "...         ...                          ...                            ...   \n",
              "3781      82100                          NaN                           53.0   \n",
              "3783      82112                          NaN                           53.0   \n",
              "3784      82118                          NaN                           53.0   \n",
              "3785      82122                          NaN                           53.0   \n",
              "3786      82123                          NaN                           53.0   \n",
              "\n",
              "      sexo raca uf_nascimento uf_residencia data_ultima_informacao  \\\n",
              "1        1  NaN           NaN           NaN             2016-11-17   \n",
              "9        1  NaN           NaN           NaN             2010-06-27   \n",
              "15       1  NaN           NaN           NaN             2009-04-10   \n",
              "26       1  NaN           NaN           NaN             2021-05-17   \n",
              "28       1  NaN           NaN           NaN             2012-02-20   \n",
              "...    ...  ...           ...           ...                    ...   \n",
              "3781     1  NaN           NaN           NaN             2021-07-25   \n",
              "3783     1  NaN           NaN           NaN             2021-10-04   \n",
              "3784     1  NaN           NaN           NaN             2021-03-24   \n",
              "3785     1  NaN           NaN           NaN             2022-02-15   \n",
              "3786     1  NaN           NaN           NaN             2021-10-25   \n",
              "\n",
              "      ultima_informacao  \\\n",
              "1                   1.0   \n",
              "9                   1.0   \n",
              "15                  1.0   \n",
              "26                  1.0   \n",
              "28                  1.0   \n",
              "...                 ...   \n",
              "3781                1.0   \n",
              "3783                1.0   \n",
              "3784                1.0   \n",
              "3785                1.0   \n",
              "3786                1.0   \n",
              "\n",
              "      tempo_em_dias_desde_o_ultimo_tumor_no_caso_de_tumores_multiplos  ...  \\\n",
              "1                                                3294.0                ...   \n",
              "9                                                 699.0                ...   \n",
              "15                                                385.0                ...   \n",
              "26                                               1839.0                ...   \n",
              "28                                               1428.0                ...   \n",
              "...                                                 ...                ...   \n",
              "3781                                              366.0                ...   \n",
              "3783                                              370.0                ...   \n",
              "3784                                              391.0                ...   \n",
              "3785                                              589.0                ...   \n",
              "3786                                              380.0                ...   \n",
              "\n",
              "      classificacao_tnm_patologico_t  com_recidiva_a_distancia  \\\n",
              "1                      Nao informado                         0   \n",
              "9                      Nao informado                         0   \n",
              "15                                 1                         0   \n",
              "26                     Nao informado                         0   \n",
              "28                     Nao informado                         0   \n",
              "...                              ...                       ...   \n",
              "3781                   Nao informado                         0   \n",
              "3783                   Nao informado                         0   \n",
              "3784                   Nao informado                         0   \n",
              "3785                   Nao informado                         0   \n",
              "3786                   Nao informado                         0   \n",
              "\n",
              "      com_recidiva_regional  com_recidiva_local recidiva quimio  radio  \\\n",
              "1                         1                   1        0      1      0   \n",
              "9                         0                   0        0      0      0   \n",
              "15                        0                   0        0      0      0   \n",
              "26                        0                   0        0      0      1   \n",
              "28                        0                   0        0      1      1   \n",
              "...                     ...                 ...      ...    ...    ...   \n",
              "3781                      0                   0        0      1      1   \n",
              "3783                      0                   0        0      0      0   \n",
              "3784                      0                   0        0      0      0   \n",
              "3785                      0                   0        0      0      0   \n",
              "3786                      0                   0        0      0      0   \n",
              "\n",
              "     cirurgia hormonio tipo_de_tratamento  \n",
              "1           1        0                0.0  \n",
              "9           0        0                NaN  \n",
              "15          0        0                0.0  \n",
              "26          0        0                1.0  \n",
              "28          1        1                0.0  \n",
              "...       ...      ...                ...  \n",
              "3781        1        0                1.0  \n",
              "3783        0        0                1.0  \n",
              "3784        0        0                0.0  \n",
              "3785        0        0                NaN  \n",
              "3786        0        0                1.0  \n",
              "\n",
              "[1683 rows x 100 columns]"
            ],
            "text/html": [
              "\n",
              "  <div id=\"df-9b050be6-400e-419a-9b04-dd7ef3f320e9\">\n",
              "    <div class=\"colab-df-container\">\n",
              "      <div>\n",
              "<style scoped>\n",
              "    .dataframe tbody tr th:only-of-type {\n",
              "        vertical-align: middle;\n",
              "    }\n",
              "\n",
              "    .dataframe tbody tr th {\n",
              "        vertical-align: top;\n",
              "    }\n",
              "\n",
              "    .dataframe thead th {\n",
              "        text-align: right;\n",
              "    }\n",
              "</style>\n",
              "<table border=\"1\" class=\"dataframe\">\n",
              "  <thead>\n",
              "    <tr style=\"text-align: right;\">\n",
              "      <th></th>\n",
              "      <th>record_id</th>\n",
              "      <th>escolaridade</th>\n",
              "      <th>idade_no_primeiro_diagnostico</th>\n",
              "      <th>sexo</th>\n",
              "      <th>raca</th>\n",
              "      <th>uf_nascimento</th>\n",
              "      <th>uf_residencia</th>\n",
              "      <th>data_ultima_informacao</th>\n",
              "      <th>ultima_informacao</th>\n",
              "      <th>tempo_em_dias_desde_o_ultimo_tumor_no_caso_de_tumores_multiplos</th>\n",
              "      <th>...</th>\n",
              "      <th>classificacao_tnm_patologico_t</th>\n",
              "      <th>com_recidiva_a_distancia</th>\n",
              "      <th>com_recidiva_regional</th>\n",
              "      <th>com_recidiva_local</th>\n",
              "      <th>recidiva</th>\n",
              "      <th>quimio</th>\n",
              "      <th>radio</th>\n",
              "      <th>cirurgia</th>\n",
              "      <th>hormonio</th>\n",
              "      <th>tipo_de_tratamento</th>\n",
              "    </tr>\n",
              "  </thead>\n",
              "  <tbody>\n",
              "    <tr>\n",
              "      <th>1</th>\n",
              "      <td>710</td>\n",
              "      <td>ENSINO MÉDIO</td>\n",
              "      <td>58.0</td>\n",
              "      <td>1</td>\n",
              "      <td>NaN</td>\n",
              "      <td>NaN</td>\n",
              "      <td>NaN</td>\n",
              "      <td>2016-11-17</td>\n",
              "      <td>1.0</td>\n",
              "      <td>3294.0</td>\n",
              "      <td>...</td>\n",
              "      <td>Nao informado</td>\n",
              "      <td>0</td>\n",
              "      <td>1</td>\n",
              "      <td>1</td>\n",
              "      <td>0</td>\n",
              "      <td>1</td>\n",
              "      <td>0</td>\n",
              "      <td>1</td>\n",
              "      <td>0</td>\n",
              "      <td>0.0</td>\n",
              "    </tr>\n",
              "    <tr>\n",
              "      <th>9</th>\n",
              "      <td>1960</td>\n",
              "      <td>ENS. FUNDAMENTAL INCOMPLETO</td>\n",
              "      <td>29.0</td>\n",
              "      <td>1</td>\n",
              "      <td>NaN</td>\n",
              "      <td>NaN</td>\n",
              "      <td>NaN</td>\n",
              "      <td>2010-06-27</td>\n",
              "      <td>1.0</td>\n",
              "      <td>699.0</td>\n",
              "      <td>...</td>\n",
              "      <td>Nao informado</td>\n",
              "      <td>0</td>\n",
              "      <td>0</td>\n",
              "      <td>0</td>\n",
              "      <td>0</td>\n",
              "      <td>0</td>\n",
              "      <td>0</td>\n",
              "      <td>0</td>\n",
              "      <td>0</td>\n",
              "      <td>NaN</td>\n",
              "    </tr>\n",
              "    <tr>\n",
              "      <th>15</th>\n",
              "      <td>2157</td>\n",
              "      <td>ENS. FUNDAMENTAL COMPLETO</td>\n",
              "      <td>51.0</td>\n",
              "      <td>1</td>\n",
              "      <td>NaN</td>\n",
              "      <td>NaN</td>\n",
              "      <td>NaN</td>\n",
              "      <td>2009-04-10</td>\n",
              "      <td>1.0</td>\n",
              "      <td>385.0</td>\n",
              "      <td>...</td>\n",
              "      <td>1</td>\n",
              "      <td>0</td>\n",
              "      <td>0</td>\n",
              "      <td>0</td>\n",
              "      <td>0</td>\n",
              "      <td>0</td>\n",
              "      <td>0</td>\n",
              "      <td>0</td>\n",
              "      <td>0</td>\n",
              "      <td>0.0</td>\n",
              "    </tr>\n",
              "    <tr>\n",
              "      <th>26</th>\n",
              "      <td>2864</td>\n",
              "      <td>ENS. FUNDAMENTAL INCOMPLETO</td>\n",
              "      <td>39.0</td>\n",
              "      <td>1</td>\n",
              "      <td>NaN</td>\n",
              "      <td>NaN</td>\n",
              "      <td>NaN</td>\n",
              "      <td>2021-05-17</td>\n",
              "      <td>1.0</td>\n",
              "      <td>1839.0</td>\n",
              "      <td>...</td>\n",
              "      <td>Nao informado</td>\n",
              "      <td>0</td>\n",
              "      <td>0</td>\n",
              "      <td>0</td>\n",
              "      <td>0</td>\n",
              "      <td>0</td>\n",
              "      <td>1</td>\n",
              "      <td>0</td>\n",
              "      <td>0</td>\n",
              "      <td>1.0</td>\n",
              "    </tr>\n",
              "    <tr>\n",
              "      <th>28</th>\n",
              "      <td>3357</td>\n",
              "      <td>ENS. FUNDAMENTAL COMPLETO</td>\n",
              "      <td>48.0</td>\n",
              "      <td>1</td>\n",
              "      <td>NaN</td>\n",
              "      <td>NaN</td>\n",
              "      <td>NaN</td>\n",
              "      <td>2012-02-20</td>\n",
              "      <td>1.0</td>\n",
              "      <td>1428.0</td>\n",
              "      <td>...</td>\n",
              "      <td>Nao informado</td>\n",
              "      <td>0</td>\n",
              "      <td>0</td>\n",
              "      <td>0</td>\n",
              "      <td>0</td>\n",
              "      <td>1</td>\n",
              "      <td>1</td>\n",
              "      <td>1</td>\n",
              "      <td>1</td>\n",
              "      <td>0.0</td>\n",
              "    </tr>\n",
              "    <tr>\n",
              "      <th>...</th>\n",
              "      <td>...</td>\n",
              "      <td>...</td>\n",
              "      <td>...</td>\n",
              "      <td>...</td>\n",
              "      <td>...</td>\n",
              "      <td>...</td>\n",
              "      <td>...</td>\n",
              "      <td>...</td>\n",
              "      <td>...</td>\n",
              "      <td>...</td>\n",
              "      <td>...</td>\n",
              "      <td>...</td>\n",
              "      <td>...</td>\n",
              "      <td>...</td>\n",
              "      <td>...</td>\n",
              "      <td>...</td>\n",
              "      <td>...</td>\n",
              "      <td>...</td>\n",
              "      <td>...</td>\n",
              "      <td>...</td>\n",
              "      <td>...</td>\n",
              "    </tr>\n",
              "    <tr>\n",
              "      <th>3781</th>\n",
              "      <td>82100</td>\n",
              "      <td>NaN</td>\n",
              "      <td>53.0</td>\n",
              "      <td>1</td>\n",
              "      <td>NaN</td>\n",
              "      <td>NaN</td>\n",
              "      <td>NaN</td>\n",
              "      <td>2021-07-25</td>\n",
              "      <td>1.0</td>\n",
              "      <td>366.0</td>\n",
              "      <td>...</td>\n",
              "      <td>Nao informado</td>\n",
              "      <td>0</td>\n",
              "      <td>0</td>\n",
              "      <td>0</td>\n",
              "      <td>0</td>\n",
              "      <td>1</td>\n",
              "      <td>1</td>\n",
              "      <td>1</td>\n",
              "      <td>0</td>\n",
              "      <td>1.0</td>\n",
              "    </tr>\n",
              "    <tr>\n",
              "      <th>3783</th>\n",
              "      <td>82112</td>\n",
              "      <td>NaN</td>\n",
              "      <td>53.0</td>\n",
              "      <td>1</td>\n",
              "      <td>NaN</td>\n",
              "      <td>NaN</td>\n",
              "      <td>NaN</td>\n",
              "      <td>2021-10-04</td>\n",
              "      <td>1.0</td>\n",
              "      <td>370.0</td>\n",
              "      <td>...</td>\n",
              "      <td>Nao informado</td>\n",
              "      <td>0</td>\n",
              "      <td>0</td>\n",
              "      <td>0</td>\n",
              "      <td>0</td>\n",
              "      <td>0</td>\n",
              "      <td>0</td>\n",
              "      <td>0</td>\n",
              "      <td>0</td>\n",
              "      <td>1.0</td>\n",
              "    </tr>\n",
              "    <tr>\n",
              "      <th>3784</th>\n",
              "      <td>82118</td>\n",
              "      <td>NaN</td>\n",
              "      <td>53.0</td>\n",
              "      <td>1</td>\n",
              "      <td>NaN</td>\n",
              "      <td>NaN</td>\n",
              "      <td>NaN</td>\n",
              "      <td>2021-03-24</td>\n",
              "      <td>1.0</td>\n",
              "      <td>391.0</td>\n",
              "      <td>...</td>\n",
              "      <td>Nao informado</td>\n",
              "      <td>0</td>\n",
              "      <td>0</td>\n",
              "      <td>0</td>\n",
              "      <td>0</td>\n",
              "      <td>0</td>\n",
              "      <td>0</td>\n",
              "      <td>0</td>\n",
              "      <td>0</td>\n",
              "      <td>0.0</td>\n",
              "    </tr>\n",
              "    <tr>\n",
              "      <th>3785</th>\n",
              "      <td>82122</td>\n",
              "      <td>NaN</td>\n",
              "      <td>53.0</td>\n",
              "      <td>1</td>\n",
              "      <td>NaN</td>\n",
              "      <td>NaN</td>\n",
              "      <td>NaN</td>\n",
              "      <td>2022-02-15</td>\n",
              "      <td>1.0</td>\n",
              "      <td>589.0</td>\n",
              "      <td>...</td>\n",
              "      <td>Nao informado</td>\n",
              "      <td>0</td>\n",
              "      <td>0</td>\n",
              "      <td>0</td>\n",
              "      <td>0</td>\n",
              "      <td>0</td>\n",
              "      <td>0</td>\n",
              "      <td>0</td>\n",
              "      <td>0</td>\n",
              "      <td>NaN</td>\n",
              "    </tr>\n",
              "    <tr>\n",
              "      <th>3786</th>\n",
              "      <td>82123</td>\n",
              "      <td>NaN</td>\n",
              "      <td>53.0</td>\n",
              "      <td>1</td>\n",
              "      <td>NaN</td>\n",
              "      <td>NaN</td>\n",
              "      <td>NaN</td>\n",
              "      <td>2021-10-25</td>\n",
              "      <td>1.0</td>\n",
              "      <td>380.0</td>\n",
              "      <td>...</td>\n",
              "      <td>Nao informado</td>\n",
              "      <td>0</td>\n",
              "      <td>0</td>\n",
              "      <td>0</td>\n",
              "      <td>0</td>\n",
              "      <td>0</td>\n",
              "      <td>0</td>\n",
              "      <td>0</td>\n",
              "      <td>0</td>\n",
              "      <td>1.0</td>\n",
              "    </tr>\n",
              "  </tbody>\n",
              "</table>\n",
              "<p>1683 rows × 100 columns</p>\n",
              "</div>\n",
              "      <button class=\"colab-df-convert\" onclick=\"convertToInteractive('df-9b050be6-400e-419a-9b04-dd7ef3f320e9')\"\n",
              "              title=\"Convert this dataframe to an interactive table.\"\n",
              "              style=\"display:none;\">\n",
              "        \n",
              "  <svg xmlns=\"http://www.w3.org/2000/svg\" height=\"24px\"viewBox=\"0 0 24 24\"\n",
              "       width=\"24px\">\n",
              "    <path d=\"M0 0h24v24H0V0z\" fill=\"none\"/>\n",
              "    <path d=\"M18.56 5.44l.94 2.06.94-2.06 2.06-.94-2.06-.94-.94-2.06-.94 2.06-2.06.94zm-11 1L8.5 8.5l.94-2.06 2.06-.94-2.06-.94L8.5 2.5l-.94 2.06-2.06.94zm10 10l.94 2.06.94-2.06 2.06-.94-2.06-.94-.94-2.06-.94 2.06-2.06.94z\"/><path d=\"M17.41 7.96l-1.37-1.37c-.4-.4-.92-.59-1.43-.59-.52 0-1.04.2-1.43.59L10.3 9.45l-7.72 7.72c-.78.78-.78 2.05 0 2.83L4 21.41c.39.39.9.59 1.41.59.51 0 1.02-.2 1.41-.59l7.78-7.78 2.81-2.81c.8-.78.8-2.07 0-2.86zM5.41 20L4 18.59l7.72-7.72 1.47 1.35L5.41 20z\"/>\n",
              "  </svg>\n",
              "      </button>\n",
              "      \n",
              "  <style>\n",
              "    .colab-df-container {\n",
              "      display:flex;\n",
              "      flex-wrap:wrap;\n",
              "      gap: 12px;\n",
              "    }\n",
              "\n",
              "    .colab-df-convert {\n",
              "      background-color: #E8F0FE;\n",
              "      border: none;\n",
              "      border-radius: 50%;\n",
              "      cursor: pointer;\n",
              "      display: none;\n",
              "      fill: #1967D2;\n",
              "      height: 32px;\n",
              "      padding: 0 0 0 0;\n",
              "      width: 32px;\n",
              "    }\n",
              "\n",
              "    .colab-df-convert:hover {\n",
              "      background-color: #E2EBFA;\n",
              "      box-shadow: 0px 1px 2px rgba(60, 64, 67, 0.3), 0px 1px 3px 1px rgba(60, 64, 67, 0.15);\n",
              "      fill: #174EA6;\n",
              "    }\n",
              "\n",
              "    [theme=dark] .colab-df-convert {\n",
              "      background-color: #3B4455;\n",
              "      fill: #D2E3FC;\n",
              "    }\n",
              "\n",
              "    [theme=dark] .colab-df-convert:hover {\n",
              "      background-color: #434B5C;\n",
              "      box-shadow: 0px 1px 3px 1px rgba(0, 0, 0, 0.15);\n",
              "      filter: drop-shadow(0px 1px 2px rgba(0, 0, 0, 0.3));\n",
              "      fill: #FFFFFF;\n",
              "    }\n",
              "  </style>\n",
              "\n",
              "      <script>\n",
              "        const buttonEl =\n",
              "          document.querySelector('#df-9b050be6-400e-419a-9b04-dd7ef3f320e9 button.colab-df-convert');\n",
              "        buttonEl.style.display =\n",
              "          google.colab.kernel.accessAllowed ? 'block' : 'none';\n",
              "\n",
              "        async function convertToInteractive(key) {\n",
              "          const element = document.querySelector('#df-9b050be6-400e-419a-9b04-dd7ef3f320e9');\n",
              "          const dataTable =\n",
              "            await google.colab.kernel.invokeFunction('convertToInteractive',\n",
              "                                                     [key], {});\n",
              "          if (!dataTable) return;\n",
              "\n",
              "          const docLinkHtml = 'Like what you see? Visit the ' +\n",
              "            '<a target=\"_blank\" href=https://colab.research.google.com/notebooks/data_table.ipynb>data table notebook</a>'\n",
              "            + ' to learn more about interactive tables.';\n",
              "          element.innerHTML = '';\n",
              "          dataTable['output_type'] = 'display_data';\n",
              "          await google.colab.output.renderOutput(dataTable, element);\n",
              "          const docLink = document.createElement('div');\n",
              "          docLink.innerHTML = docLinkHtml;\n",
              "          element.appendChild(docLink);\n",
              "        }\n",
              "      </script>\n",
              "    </div>\n",
              "  </div>\n",
              "  "
            ]
          },
          "metadata": {},
          "execution_count": 10
        }
      ],
      "source": [
        "dfr"
      ]
    },
    {
      "cell_type": "markdown",
      "metadata": {
        "id": "tEuNHLgtUJ4y"
      },
      "source": [
        "# Gerando dataframe de teste, filtrado e organizado"
      ]
    },
    {
      "cell_type": "code",
      "execution_count": 11,
      "metadata": {
        "id": "H4s__3FbG-0I"
      },
      "outputs": [],
      "source": [
        "test = dfr[[\"idade_no_primeiro_diagnostico\", \"subtipo_tumoral\",\"receptor_de_estrogenio\",\"receptor_de_progesterona\",\"ki67_percentage\",\"estadio_clinico\",\"classificacao_tnm_clinico_t\",\"classificacao_tnm_clinico_n\",\"regime_tratamento\"]]"
      ]
    },
    {
      "cell_type": "markdown",
      "metadata": {
        "id": "IRJAC03SL-ky"
      },
      "source": [
        "## Organizando a quantificação de estrogenio"
      ]
    },
    {
      "cell_type": "code",
      "execution_count": 12,
      "metadata": {
        "colab": {
          "base_uri": "https://localhost:8080/"
        },
        "id": "vzhKw8uBn4Pg",
        "outputId": "9490747c-fbc3-4222-89e8-c4ee1be6988f"
      },
      "outputs": [
        {
          "output_type": "stream",
          "name": "stderr",
          "text": [
            "<ipython-input-12-dd2dd840bba8>:1: SettingWithCopyWarning: \n",
            "A value is trying to be set on a copy of a slice from a DataFrame.\n",
            "Try using .loc[row_indexer,col_indexer] = value instead\n",
            "\n",
            "See the caveats in the documentation: https://pandas.pydata.org/pandas-docs/stable/user_guide/indexing.html#returning-a-view-versus-a-copy\n",
            "  test[\"receptor_de_estrogenio\"] = test[\"receptor_de_estrogenio\"].astype(\"int\")\n"
          ]
        }
      ],
      "source": [
        "test[\"receptor_de_estrogenio\"] = test[\"receptor_de_estrogenio\"].astype(\"int\")"
      ]
    },
    {
      "cell_type": "markdown",
      "metadata": {
        "id": "1pU_tnKGLmPF"
      },
      "source": [
        "##Organizando a quantificação de progesterona"
      ]
    },
    {
      "cell_type": "code",
      "execution_count": 13,
      "metadata": {
        "colab": {
          "base_uri": "https://localhost:8080/"
        },
        "id": "LcVKi9NLvVZp",
        "outputId": "85f8346d-b2c7-458b-c190-0dc7127c15d3"
      },
      "outputs": [
        {
          "output_type": "stream",
          "name": "stderr",
          "text": [
            "<ipython-input-13-4ff6d1f757ee>:1: SettingWithCopyWarning: \n",
            "A value is trying to be set on a copy of a slice from a DataFrame.\n",
            "Try using .loc[row_indexer,col_indexer] = value instead\n",
            "\n",
            "See the caveats in the documentation: https://pandas.pydata.org/pandas-docs/stable/user_guide/indexing.html#returning-a-view-versus-a-copy\n",
            "  test[\"receptor_de_progesterona\"] = test[\"receptor_de_progesterona\"].astype(\"int\")\n"
          ]
        }
      ],
      "source": [
        "test[\"receptor_de_progesterona\"] = test[\"receptor_de_progesterona\"].astype(\"int\")"
      ]
    },
    {
      "cell_type": "markdown",
      "metadata": {
        "id": "9SB6tkdALyBR"
      },
      "source": [
        "##Organizando o tempo desde ultimo tumor"
      ]
    },
    {
      "cell_type": "code",
      "execution_count": 14,
      "metadata": {
        "id": "3GVR7zZU1E_y"
      },
      "outputs": [],
      "source": [
        "# test = test[test[\"tempo_em_dias_desde_o_ultimo_tumor_no_caso_de_tumores_multiplos\"].isnull()==False]\n",
        "# from sklearn.preprocessing import MinMaxScaler\n",
        "# scaler = MinMaxScaler()\n",
        "# test[[\"tempo_em_dias_desde_o_ultimo_tumor_no_caso_de_tumores_multiplos\",\"regime_tratamento\"]] = scaler.fit_transform(test[[\"tempo_em_dias_desde_o_ultimo_tumor_no_caso_de_tumores_multiplos\",\"regime_tratamento\"]])\n"
      ]
    },
    {
      "cell_type": "markdown",
      "metadata": {
        "id": "EosAXgGxL2lI"
      },
      "source": [
        "##Organizando a classificação TNM-T"
      ]
    },
    {
      "cell_type": "code",
      "execution_count": 15,
      "metadata": {
        "colab": {
          "base_uri": "https://localhost:8080/"
        },
        "id": "uWdF45tdjjzb",
        "outputId": "f15d9b6b-bc6f-4578-9c60-0093935df5ee"
      },
      "outputs": [
        {
          "output_type": "execute_result",
          "data": {
            "text/plain": [
              "array(['3', '1', '2', '1B', 'IS', '1C', 'X - nao foi possivel determinar',\n",
              "       '4D', '4B', '4C', '4', '1A', '4A', 'CDIS', '3A'], dtype=object)"
            ]
          },
          "metadata": {},
          "execution_count": 15
        }
      ],
      "source": [
        "test[\"classificacao_tnm_clinico_t\"].unique()"
      ]
    },
    {
      "cell_type": "code",
      "execution_count": 16,
      "metadata": {
        "colab": {
          "base_uri": "https://localhost:8080/"
        },
        "id": "Mf6i6RZbPWem",
        "outputId": "fde3352e-7a4a-43bf-8f25-6aba251ac515"
      },
      "outputs": [
        {
          "output_type": "stream",
          "name": "stderr",
          "text": [
            "<ipython-input-16-2042a719347e>:1: UserWarning: Boolean Series key will be reindexed to match DataFrame index.\n",
            "  test = test[test[\"classificacao_tnm_clinico_t\"]!=\"X - nao foi possivel determinar\"][test[\"classificacao_tnm_clinico_t\"]!=\"Y: Na\"]\n"
          ]
        }
      ],
      "source": [
        "test = test[test[\"classificacao_tnm_clinico_t\"]!=\"X - nao foi possivel determinar\"][test[\"classificacao_tnm_clinico_t\"]!=\"Y: Na\"]"
      ]
    },
    {
      "cell_type": "code",
      "execution_count": 17,
      "metadata": {
        "id": "v-ej-FlEQJdZ"
      },
      "outputs": [],
      "source": [
        "test[\"classificacao_tnm_clinico_t\"] = test[\"classificacao_tnm_clinico_t\"].replace({\"2\":2,\n",
        "                                                                                   \"3\":3,\n",
        "                                                                                   \"1C\":1,\n",
        "                                                                                   \"4B\":4,\n",
        "                                                                                   \"4D\":4,\n",
        "                                                                                   \"1\":1,\n",
        "                                                                                   \"4\":4,\n",
        "                                                                                   \"1B\":1,\n",
        "                                                                                   \"1A\":1,\n",
        "                                                                                   \"4C\":4,\n",
        "                                                                                   \"4A\":4,\n",
        "                                                                                   \"IS\":0,\n",
        "                                                                                   \"CDIS\":0,\n",
        "                                                                                   \"3A\":3})"
      ]
    },
    {
      "cell_type": "code",
      "execution_count": 18,
      "metadata": {
        "id": "5NrbebOojrPp"
      },
      "outputs": [],
      "source": [
        "test[\"classificacao_tnm_clinico_t\"] = test[\"classificacao_tnm_clinico_t\"].astype(\"int\")"
      ]
    },
    {
      "cell_type": "markdown",
      "metadata": {
        "id": "Pnc8N9OUMJ04"
      },
      "source": [
        "##Organizando a classificação TNM-N"
      ]
    },
    {
      "cell_type": "code",
      "execution_count": 19,
      "metadata": {
        "colab": {
          "base_uri": "https://localhost:8080/"
        },
        "id": "dJhdbBDY6uGk",
        "outputId": "7e8fc9bf-eddb-444b-a532-afb83c032013"
      },
      "outputs": [
        {
          "output_type": "execute_result",
          "data": {
            "text/plain": [
              "array(['1', '2', '0', '3A', '2A', '3', '3B', '2B', '3C'], dtype=object)"
            ]
          },
          "metadata": {},
          "execution_count": 19
        }
      ],
      "source": [
        "test[\"classificacao_tnm_clinico_n\"].unique()\n"
      ]
    },
    {
      "cell_type": "code",
      "execution_count": 20,
      "metadata": {
        "colab": {
          "base_uri": "https://localhost:8080/"
        },
        "id": "5e8verb8kGfO",
        "outputId": "1a23fb7a-9fb6-40b5-ecc3-0302c99099f4"
      },
      "outputs": [
        {
          "output_type": "execute_result",
          "data": {
            "text/plain": [
              "1       1\n",
              "9       2\n",
              "15      0\n",
              "26      1\n",
              "28      1\n",
              "       ..\n",
              "3781    1\n",
              "3783    1\n",
              "3784    0\n",
              "3785    0\n",
              "3786    0\n",
              "Name: classificacao_tnm_clinico_n, Length: 1682, dtype: int8"
            ]
          },
          "metadata": {},
          "execution_count": 20
        }
      ],
      "source": [
        "test[\"classificacao_tnm_clinico_n\"] = test[\"classificacao_tnm_clinico_n\"].replace({\"1\":1,\n",
        "                                                                                   \"2\":2,\n",
        "                                                                                   \"0\":0,\n",
        "                                                                                   \"3A\":3,\n",
        "                                                                                   \"2A\":2,\n",
        "                                                                                   \"3\":3,\n",
        "                                                                                   \"2B\":2,\n",
        "                                                                                   \"3B\":3,\n",
        "                                                                                   \"3C\":3})\n",
        "\n",
        "test[\"classificacao_tnm_clinico_n\"].astype(\"int8\")"
      ]
    },
    {
      "cell_type": "code",
      "execution_count": 21,
      "metadata": {
        "id": "id_bykACoZBT"
      },
      "outputs": [],
      "source": [
        "test[\"classificacao_tnm_clinico_n\"] = test[\"classificacao_tnm_clinico_n\"].astype(\"int\")"
      ]
    },
    {
      "cell_type": "markdown",
      "metadata": {
        "id": "y7P773I6MNRf"
      },
      "source": [
        "##Organizando o grupo de estadio clínico"
      ]
    },
    {
      "cell_type": "code",
      "execution_count": 22,
      "metadata": {
        "id": "6BIn0dM_W_EK"
      },
      "outputs": [],
      "source": [
        "test[\"estadio_clinico\"] = test[\"estadio_clinico\"].astype(\"int\")"
      ]
    },
    {
      "cell_type": "markdown",
      "metadata": {
        "id": "bV0AqI9pYfty"
      },
      "source": [
        "##Organizando o grupo de subtipo tumoral"
      ]
    },
    {
      "cell_type": "code",
      "execution_count": 23,
      "metadata": {
        "id": "JjxPTP8vY2UL"
      },
      "outputs": [],
      "source": [
        "test[\"subtipo_tumoral\"] = test[\"subtipo_tumoral\"].astype(\"int\")"
      ]
    },
    {
      "cell_type": "markdown",
      "metadata": {
        "id": "eoiPgYM7njYs"
      },
      "source": [
        "#Ajustes e rebalanceamento de dados para o testar os modelos"
      ]
    },
    {
      "cell_type": "code",
      "execution_count": 24,
      "metadata": {
        "id": "_c_IWaH_9InL"
      },
      "outputs": [],
      "source": [
        "from sklearn.model_selection import train_test_split\n",
        "from imblearn.over_sampling import RandomOverSampler\n",
        "\n",
        "# Dividindo os dados\n",
        "X = test.drop(columns=[\"regime_tratamento\"])\n",
        "y = test[\"regime_tratamento\"]\n",
        "\n",
        "# Dividindo entre treino e teste para treinar o modelo\n",
        "X_train, X_test, y_train, y_test = train_test_split(X, y, \n",
        "                                                    test_size = 0.25,\n",
        "                                                    random_state = 50)\n",
        "\n",
        "# Rebalanceando os dados de com oversampling\n",
        "ros = RandomOverSampler(random_state=0)\n",
        "X_train, y_train = ros.fit_resample(X_train, y_train)\n",
        "\n"
      ]
    },
    {
      "cell_type": "code",
      "source": [
        "# importando as ferramentas necessárias para os testes e para tunar os hiperparamentros\n",
        "from sklearn.ensemble import StackingClassifier\n",
        "from sklearn.svm import SVC\n",
        "from sklearn.ensemble import AdaBoostClassifier\n",
        "from sklearn.linear_model import LogisticRegression\n",
        "\n",
        "from sklearn.metrics import confusion_matrix\n",
        "from sklearn.metrics import ConfusionMatrixDisplay\n",
        "import matplotlib.pyplot as plt\n",
        "from sklearn.metrics import f1_score\n",
        "\n",
        "from sklearn.metrics import roc_auc_score, roc_curve, auc\n",
        "from sklearn.metrics import recall_score, precision_score, f1_score\n",
        "from sklearn.preprocessing import label_binarize\n",
        "from sklearn.pipeline import Pipeline\n",
        "from sklearn.model_selection import GridSearchCV\n",
        "from sklearn.model_selection import RandomizedSearchCV"
      ],
      "metadata": {
        "id": "wy0bgtZJSfsO"
      },
      "execution_count": 28,
      "outputs": []
    },
    {
      "cell_type": "markdown",
      "metadata": {
        "id": "bnfr3GDLIWVT"
      },
      "source": [
        "# Versão final do modelo Stacking Classifier"
      ]
    },
    {
      "cell_type": "code",
      "execution_count": 29,
      "metadata": {
        "id": "z2Xd3UzMIbUO",
        "colab": {
          "base_uri": "https://localhost:8080/"
        },
        "outputId": "1fab824d-f6d4-467a-9072-9b7a65ed9983"
      },
      "outputs": [
        {
          "output_type": "stream",
          "name": "stderr",
          "text": [
            "/usr/local/lib/python3.9/dist-packages/sklearn/linear_model/_logistic.py:1181: UserWarning: Setting penalty=None will ignore the C and l1_ratio parameters\n",
            "  warnings.warn(\n",
            "[Parallel(n_jobs=1)]: Using backend SequentialBackend with 1 concurrent workers.\n",
            "[Parallel(n_jobs=1)]: Done   1 out of   1 | elapsed:    0.1s finished\n",
            "/usr/local/lib/python3.9/dist-packages/sklearn/svm/_base.py:299: ConvergenceWarning: Solver terminated early (max_iter=2000).  Consider pre-processing your data with StandardScaler or MinMaxScaler.\n",
            "  warnings.warn(\n"
          ]
        },
        {
          "output_type": "stream",
          "name": "stdout",
          "text": [
            "convergence after 483 epochs took 1 seconds\n"
          ]
        },
        {
          "output_type": "stream",
          "name": "stderr",
          "text": [
            "/usr/local/lib/python3.9/dist-packages/sklearn/linear_model/_logistic.py:1181: UserWarning: Setting penalty=None will ignore the C and l1_ratio parameters\n",
            "  warnings.warn(\n",
            "[Parallel(n_jobs=1)]: Using backend SequentialBackend with 1 concurrent workers.\n",
            "[Parallel(n_jobs=1)]: Done   1 out of   1 | elapsed:    0.1s finished\n",
            "/usr/local/lib/python3.9/dist-packages/sklearn/linear_model/_logistic.py:1181: UserWarning: Setting penalty=None will ignore the C and l1_ratio parameters\n",
            "  warnings.warn(\n",
            "[Parallel(n_jobs=1)]: Using backend SequentialBackend with 1 concurrent workers.\n"
          ]
        },
        {
          "output_type": "stream",
          "name": "stdout",
          "text": [
            "convergence after 556 epochs took 0 seconds\n",
            "convergence after 600 epochs took 0 seconds\n"
          ]
        },
        {
          "output_type": "stream",
          "name": "stderr",
          "text": [
            "[Parallel(n_jobs=1)]: Done   1 out of   1 | elapsed:    0.1s finished\n",
            "/usr/local/lib/python3.9/dist-packages/sklearn/linear_model/_logistic.py:1181: UserWarning: Setting penalty=None will ignore the C and l1_ratio parameters\n",
            "  warnings.warn(\n",
            "[Parallel(n_jobs=1)]: Using backend SequentialBackend with 1 concurrent workers.\n",
            "[Parallel(n_jobs=1)]: Done   1 out of   1 | elapsed:    0.1s finished\n",
            "/usr/local/lib/python3.9/dist-packages/sklearn/linear_model/_logistic.py:1181: UserWarning: Setting penalty=None will ignore the C and l1_ratio parameters\n",
            "  warnings.warn(\n",
            "[Parallel(n_jobs=1)]: Using backend SequentialBackend with 1 concurrent workers.\n"
          ]
        },
        {
          "output_type": "stream",
          "name": "stdout",
          "text": [
            "convergence after 540 epochs took 0 seconds\n",
            "convergence after 552 epochs took 0 seconds\n"
          ]
        },
        {
          "output_type": "stream",
          "name": "stderr",
          "text": [
            "[Parallel(n_jobs=1)]: Done   1 out of   1 | elapsed:    0.1s finished\n",
            "/usr/local/lib/python3.9/dist-packages/sklearn/linear_model/_logistic.py:1181: UserWarning: Setting penalty=None will ignore the C and l1_ratio parameters\n",
            "  warnings.warn(\n",
            "[Parallel(n_jobs=1)]: Using backend SequentialBackend with 1 concurrent workers.\n",
            "[Parallel(n_jobs=1)]: Done   1 out of   1 | elapsed:    0.1s finished\n",
            "/usr/local/lib/python3.9/dist-packages/sklearn/svm/_base.py:299: ConvergenceWarning: Solver terminated early (max_iter=2000).  Consider pre-processing your data with StandardScaler or MinMaxScaler.\n",
            "  warnings.warn(\n",
            "/usr/local/lib/python3.9/dist-packages/sklearn/svm/_base.py:299: ConvergenceWarning: Solver terminated early (max_iter=2000).  Consider pre-processing your data with StandardScaler or MinMaxScaler.\n",
            "  warnings.warn(\n",
            "/usr/local/lib/python3.9/dist-packages/sklearn/svm/_base.py:299: ConvergenceWarning: Solver terminated early (max_iter=2000).  Consider pre-processing your data with StandardScaler or MinMaxScaler.\n",
            "  warnings.warn(\n",
            "/usr/local/lib/python3.9/dist-packages/sklearn/svm/_base.py:299: ConvergenceWarning: Solver terminated early (max_iter=2000).  Consider pre-processing your data with StandardScaler or MinMaxScaler.\n",
            "  warnings.warn(\n"
          ]
        },
        {
          "output_type": "stream",
          "name": "stdout",
          "text": [
            "convergence after 542 epochs took 0 seconds\n"
          ]
        },
        {
          "output_type": "stream",
          "name": "stderr",
          "text": [
            "/usr/local/lib/python3.9/dist-packages/sklearn/svm/_base.py:299: ConvergenceWarning: Solver terminated early (max_iter=2000).  Consider pre-processing your data with StandardScaler or MinMaxScaler.\n",
            "  warnings.warn(\n",
            "/usr/local/lib/python3.9/dist-packages/sklearn/linear_model/_logistic.py:1181: UserWarning: Setting penalty=None will ignore the C and l1_ratio parameters\n",
            "  warnings.warn(\n",
            "[Parallel(n_jobs=1)]: Using backend SequentialBackend with 1 concurrent workers.\n"
          ]
        },
        {
          "output_type": "stream",
          "name": "stdout",
          "text": [
            "max_iter reached after 1 seconds\n"
          ]
        },
        {
          "output_type": "stream",
          "name": "stderr",
          "text": [
            "/usr/local/lib/python3.9/dist-packages/sklearn/linear_model/_sag.py:350: ConvergenceWarning: The max_iter was reached which means the coef_ did not converge\n",
            "  warnings.warn(\n",
            "[Parallel(n_jobs=1)]: Done   1 out of   1 | elapsed:    0.3s finished\n"
          ]
        }
      ],
      "source": [
        "estimators = [('lr',LogisticRegression(C=0.01, intercept_scaling=3, max_iter=1000,\n",
        "                   multi_class='ovr', penalty=None, random_state=100,\n",
        "                   solver='sag', verbose=1)),('svr',SVC(max_iter= 2000, C=5, degree=7, gamma='auto', kernel='linear')),\n",
        "              ('ada',AdaBoostClassifier(algorithm='SAMME', n_estimators=100, random_state=500))]\n",
        "\n",
        "n_train = []\n",
        "n_test = []\n",
        "\n",
        "alg = StackingClassifier(estimators=estimators,final_estimator=LogisticRegression(C=0.01, intercept_scaling=3, max_iter=1000,\n",
        "                   multi_class='ovr', penalty=None, random_state=100,\n",
        "                   solver='sag', verbose=1))\n",
        "\n",
        "alg.fit(X_train, y_train)\n",
        "\n",
        "n_train.append(alg.score(X_train,y_train))\n",
        "n_test.append(alg.score(X_test,y_test))\n",
        "\n",
        "y_pred1 = alg.predict(X_test)\n",
        "matrix = confusion_matrix(y_test,y_pred1)"
      ]
    },
    {
      "cell_type": "code",
      "execution_count": 33,
      "metadata": {
        "id": "Z4_7s7CALjVe",
        "colab": {
          "base_uri": "https://localhost:8080/"
        },
        "outputId": "082df524-36f7-4fea-9cb7-7880c7b487da"
      },
      "outputs": [
        {
          "output_type": "stream",
          "name": "stdout",
          "text": [
            "Acuracia de treino [0.7545582047685835]\n",
            "Acuracia de teste [0.7862232779097387]\n",
            "F1-score 0.7289156626506024\n"
          ]
        }
      ],
      "source": [
        "print('Acuracia de treino', n_train) # Acuracia de treino\n",
        "print('Acuracia de teste', n_test) # Acuracia de teste\n",
        "print('F1-score',f1_score(y_test,y_pred1)) # F1_score"
      ]
    },
    {
      "cell_type": "code",
      "execution_count": 35,
      "metadata": {
        "id": "vS0CR38UN6NA",
        "colab": {
          "base_uri": "https://localhost:8080/",
          "height": 484
        },
        "outputId": "d185e9ac-f0c8-4049-e34b-38e25a644802"
      },
      "outputs": [
        {
          "output_type": "stream",
          "name": "stdout",
          "text": [
            "Matriz de Confusão: \n",
            "    0 = adjuvante \t 1 = neoadjuvante\n"
          ]
        },
        {
          "output_type": "display_data",
          "data": {
            "text/plain": [
              "<Figure size 640x480 with 2 Axes>"
            ],
            "image/png": "[encoded data removed]"
          },
          "metadata": {}
        }
      ],
      "source": [
        "# Fazer previsões com o modelo treinado usando os dados de teste\n",
        "print('Matriz de Confusão: \\n    0 = adjuvante \\t 1 = neoadjuvante')\n",
        "disp = ConfusionMatrixDisplay(confusion_matrix=matrix,\n",
        "                              display_labels=alg.classes_)\n",
        "disp.plot()\n",
        "plt.show()"
      ]
    },
    {
      "cell_type": "markdown",
      "source": [
        "Depois dos testes de varios modelos utilizando grid search e random search, foi possível identificar, através das métricas, que o StackingClassifier (otimizado utilizando o gridsearch) se saiu melhor que os outros modelos, pois apresentou uma melhor generalização, possuiu uma acuracia no conjunto de teste melhor e uma matriz de confusão com a diagonal principal com valores maiores."
      ],
      "metadata": {
        "id": "GXvjM0ShcasK"
      }
    }
  ],
  "metadata": {
    "colab": {
      "collapsed_sections": [
        "RGB9JBGYxWUs",
        "1pU_tnKGLmPF",
        "9SB6tkdALyBR",
        "EosAXgGxL2lI",
        "Pnc8N9OUMJ04",
        "y7P773I6MNRf",
        "Kqua87sxHq42",
        "xkRzZxR8HQOT"
      ],
      "provenance": []
    },
    "gpuClass": "standard",
    "kernelspec": {
      "display_name": "Python 3",
      "name": "python3"
    },
    "language_info": {
      "name": "python"
    }
  },
  "nbformat": 4,
  "nbformat_minor": 0
}