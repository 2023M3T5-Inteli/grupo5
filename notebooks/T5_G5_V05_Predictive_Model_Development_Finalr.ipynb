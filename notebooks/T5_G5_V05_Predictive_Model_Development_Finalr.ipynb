{
  "nbformat": 4,
  "nbformat_minor": 0,
  "metadata": {
    "colab": {
      "provenance": [],
      "collapsed_sections": [
        "Z44mDI4mqry4",
        "RKda2jTnrV5A"
      ]
    },
    "kernelspec": {
      "name": "python3",
      "display_name": "Python 3"
    },
    "language_info": {
      "name": "python"
    }
  },
  "cells": [
    {
      "cell_type": "markdown",
      "source": [
        "# **CureMate**"
      ],
      "metadata": {
        "id": "Burk1ZV5sA6z"
      }
    },
    {
      "cell_type": "markdown",
      "source": [
        "###Importar bibliotecas importantes"
      ],
      "metadata": {
        "id": "Z44mDI4mqry4"
      }
    },
    {
      "cell_type": "code",
      "execution_count": null,
      "metadata": {
        "colab": {
          "base_uri": "https://localhost:8080/"
        },
        "id": "GbWfAnQUJ5hw",
        "outputId": "a35df4dd-b95f-4b28-dd61-cd7d81a4eb7f"
      },
      "outputs": [
        {
          "output_type": "stream",
          "name": "stdout",
          "text": [
            "Mounted at /content/drive\n"
          ]
        }
      ],
      "source": [
        "from google.colab import drive\n",
        "drive.mount('/content/drive') \n",
        "import joblib\n",
        "from sklearn.ensemble import StackingClassifier\n",
        "from sklearn.ensemble import RandomForestClassifier\n",
        "from sklearn.svm import SVC\n",
        "from sklearn.ensemble import AdaBoostClassifier\n",
        "from sklearn.linear_model import LogisticRegression\n",
        "from sklearn.discriminant_analysis import LinearDiscriminantAnalysis\n",
        "from sklearn.svm import LinearSVC\n",
        "import pandas as pd"
      ]
    },
    {
      "cell_type": "code",
      "source": [
        "model = joblib.load(\"/content/drive/Shareddrives/OncoAI/Grupo 5 - OncoAI/Projeto/Base_de_dados/StackingClassifier.proj\")\n",
        "data = pd.read_csv(\"/content/drive/Shareddrives/OncoAI/Grupo 5 - OncoAI/Projeto/Base_de_dados/DataModel.csv\")"
      ],
      "metadata": {
        "id": "p6lH1mUhNK9v"
      },
      "execution_count": null,
      "outputs": []
    },
    {
      "cell_type": "markdown",
      "source": [
        "###Selecione os valores de entrada para o modelo (confirme se o valor adicionado está na lista de valores possíveis)"
      ],
      "metadata": {
        "id": "66EmUqESqsKY"
      }
    },
    {
      "cell_type": "markdown",
      "source": [
        "Este é o modelo criado pelo grupo OncoAI. O modelo possui 8 valores de entrada:\n",
        "*   A idade durante o diagnóstico primário\n",
        "*   O subtipo tumoral\n",
        "*   A leitura do receptor de estrogenio\n",
        "*   A leitura do receptor de progesterona\n",
        "*   A porcentagem encontrada de Ki67\n",
        "*   O estadio clínico\n",
        "*   A classificação TNM-T do paciente\n",
        "*   A classificação TNM-N do paciente\n",
        "\n",
        "\n",
        "Para fazer uma predição, basta:\n",
        "1.   Insira os dados correspondentes nas variáveis abaixo\n",
        "2.   Pressione Crtl + F9 para executar as células de código\n",
        "3.   Espere o programa rodar e a resposta será dada após a última célula de código for executada\n",
        "\n",
        "Caso o programa retone \"Valor inserido inválido ou faltando\", revise os dados inseridos e certifique-se de que os valores inseridos estão nos valores possíveis de cada variável\n",
        "\n",
        "\n"
      ],
      "metadata": {
        "id": "ivRYcm4osoxu"
      }
    },
    {
      "cell_type": "code",
      "source": [
        "idade_no_primeiro_diagnostico = 58 \n",
        "#Valores possíveis: números naturais\n",
        "\n",
        "subtipo_tumoral = 2 \n",
        "#Valores possíveis: números naturais de 1 a 5\n",
        "\n",
        "receptor_de_estrogenio = \"positivo\"  \n",
        "#Valores possíveis: 'positivo','negativo', 'Nao realizado', 'inconclusivo'\n",
        "\n",
        "receptor_de_progesterona = \"negativo\"  \n",
        "#Valores possíveis: 'positivo','negativo', 'Nao realizado', 'inconclusivo'\n",
        "\n",
        "ki67_percentage = 20  \n",
        "#Valores possíveis: números reais entre 0 e 100\n",
        "\n",
        "estadio_clinico = \"IIIA\"\n",
        "#Valores possíveis: 'IIA', 'IIIA', 'IIB', 'IV', 'IIIB', 'IIIC', 'I','IA','0', 'X: não foi possível determinar', 'III', 'Y: NA': 5, \n",
        "#'II', 'IB', 'IVB', 'IVA', 'IVC'\n",
        "\n",
        "classificacao_tnm_clinico_t = \"3\" \n",
        "#Valores possíveis: \"2\", \"3\", \"1C\", \"4B\", \"4D\", \"1\", \"4\", \"1B\", \"1A\", \"4C\", \"4A\", \"IS\", \"CDIS\", \"3A\"\n",
        "\n",
        "classificacao_tnm_clinico_n = \"1\"\n",
        "#Valores possíveis: \"1\", \"2\", \"0\", \"3A\", \"2A\", \"3\", \"2B\", \"3B\", \"3C\""
      ],
      "metadata": {
        "id": "awSmm0BPkVlb"
      },
      "execution_count": null,
      "outputs": []
    },
    {
      "cell_type": "code",
      "source": [
        "input = pd.DataFrame(data={\"idade_no_primeiro_diagnostico\":[idade_no_primeiro_diagnostico],\n",
        "                           \"subtipo_tumoral\":[subtipo_tumoral],\n",
        "                           \"receptor_de_estrogenio\":[receptor_de_estrogenio],\n",
        "                           \"receptor_de_progesterona\":[receptor_de_progesterona],\n",
        "                           \"ki67_percentage\":[ki67_percentage],\n",
        "                           \"estadio_clinico\":[estadio_clinico],\n",
        "                           \"classificacao_tnm_clinico_t\":[classificacao_tnm_clinico_t],\n",
        "                           \"classificacao_tnm_clinico_n\":[classificacao_tnm_clinico_n]})"
      ],
      "metadata": {
        "id": "DJ-LUguTUkiC"
      },
      "execution_count": null,
      "outputs": []
    },
    {
      "cell_type": "markdown",
      "source": [
        "###Tratamento dos dados inseridos"
      ],
      "metadata": {
        "id": "RKda2jTnrV5A"
      }
    },
    {
      "cell_type": "code",
      "source": [
        "input['receptor_de_estrogenio'] = input['receptor_de_estrogenio'].replace( { \n",
        "    'positivo': 1, \n",
        "    'Nao realizado': 2, \n",
        "    'negativo': 0 \n",
        "  } )\n",
        "input['receptor_de_progesterona'] = input['receptor_de_progesterona'].replace( { \n",
        "    'positivo': 1, \n",
        "    'negativo': 0, \n",
        "    'Nao realizado': 3, \n",
        "    'inconclusivo': 2 \n",
        "  } )\n",
        "input['estadio_clinico'] = input['estadio_clinico'].replace( { \n",
        "    'IIA': 2, \n",
        "    'IIIA': 3, \n",
        "    'IIB': 2, \n",
        "    'IV': 4, \n",
        "    'IIIB': 3, \n",
        "    'IIIC': 3, \n",
        "    'I': 1, \n",
        "    'IA': 1, \n",
        "    '0': 0,\n",
        "    'X: não foi possível determinar': 6, \n",
        "    'III': 3, \n",
        "    'Y: NA': 5, \n",
        "    'II': 2, \n",
        "    'IB': 1, \n",
        "    'IVB': 4, \n",
        "    'IVA': 4,\n",
        "    'IVC': 4\n",
        "  } )\n",
        "input[\"classificacao_tnm_clinico_t\"] = input[\"classificacao_tnm_clinico_t\"].replace({\"2\":2,\n",
        "                                                                                   \"3\":3,\n",
        "                                                                                   \"1C\":1,\n",
        "                                                                                   \"4B\":4,\n",
        "                                                                                   \"4D\":4,\n",
        "                                                                                   \"1\":1,\n",
        "                                                                                   \"4\":4,\n",
        "                                                                                   \"1B\":1,\n",
        "                                                                                   \"1A\":1,\n",
        "                                                                                   \"4C\":4,\n",
        "                                                                                   \"4A\":4,\n",
        "                                                                                   \"IS\":0,\n",
        "                                                                                   \"CDIS\":0,\n",
        "                                                                                   \"3A\":3})\n",
        "input[\"classificacao_tnm_clinico_n\"] = input[\"classificacao_tnm_clinico_n\"].replace({\"1\":1,\n",
        "                                                                                   \"2\":2,\n",
        "                                                                                   \"0\":0,\n",
        "                                                                                   \"3A\":3,\n",
        "                                                                                   \"2A\":2,\n",
        "                                                                                   \"3\":3,\n",
        "                                                                                   \"2B\":2,\n",
        "                                                                                   \"3B\":3,\n",
        "                                                                                   \"3C\":3})"
      ],
      "metadata": {
        "id": "aNdi73t-leaC"
      },
      "execution_count": null,
      "outputs": []
    },
    {
      "cell_type": "code",
      "source": [
        "from sklearn.model_selection import train_test_split\n",
        "from imblearn.over_sampling import RandomOverSampler\n",
        "\n",
        "X = data.drop(columns=[\"regime_tratamento\",\"Unnamed: 0\"])\n",
        "y = data[\"regime_tratamento\"]\n",
        "\n",
        "X_train, X_test, y_train, y_test = train_test_split(X, y, \n",
        "                                                    test_size = 0.2,\n",
        "                                                    random_state = 50)\n",
        "\n",
        "# Rebalanceando os dados com oversampling\n",
        "ros = RandomOverSampler(random_state=0)\n",
        "X, y = ros.fit_resample(X, y)\n",
        "\n",
        "model.fit(X,y)"
      ],
      "metadata": {
        "colab": {
          "base_uri": "https://localhost:8080/",
          "height": 161
        },
        "id": "17fz77dlTEkW",
        "outputId": "4660af65-13af-4a72-8a21-6b679c0e4055"
      },
      "execution_count": null,
      "outputs": [
        {
          "output_type": "execute_result",
          "data": {
            "text/plain": [
              "StackingClassifier(estimators=[('ada', AdaBoostClassifier(random_state=2186)),\n",
              "                               ('lr',\n",
              "                                LogisticRegression(max_iter=1000,\n",
              "                                                   random_state=6664)),\n",
              "                               ('lda', LinearDiscriminantAnalysis())],\n",
              "                   final_estimator=LogisticRegression(max_iter=1000,\n",
              "                                                      random_state=6664))"
            ],
            "text/html": [
              "<style>#sk-container-id-1 {color: black;background-color: white;}#sk-container-id-1 pre{padding: 0;}#sk-container-id-1 div.sk-toggleable {background-color: white;}#sk-container-id-1 label.sk-toggleable__label {cursor: pointer;display: block;width: 100%;margin-bottom: 0;padding: 0.3em;box-sizing: border-box;text-align: center;}#sk-container-id-1 label.sk-toggleable__label-arrow:before {content: \"▸\";float: left;margin-right: 0.25em;color: #696969;}#sk-container-id-1 label.sk-toggleable__label-arrow:hover:before {color: black;}#sk-container-id-1 div.sk-estimator:hover label.sk-toggleable__label-arrow:before {color: black;}#sk-container-id-1 div.sk-toggleable__content {max-height: 0;max-width: 0;overflow: hidden;text-align: left;background-color: #f0f8ff;}#sk-container-id-1 div.sk-toggleable__content pre {margin: 0.2em;color: black;border-radius: 0.25em;background-color: #f0f8ff;}#sk-container-id-1 input.sk-toggleable__control:checked~div.sk-toggleable__content {max-height: 200px;max-width: 100%;overflow: auto;}#sk-container-id-1 input.sk-toggleable__control:checked~label.sk-toggleable__label-arrow:before {content: \"▾\";}#sk-container-id-1 div.sk-estimator input.sk-toggleable__control:checked~label.sk-toggleable__label {background-color: #d4ebff;}#sk-container-id-1 div.sk-label input.sk-toggleable__control:checked~label.sk-toggleable__label {background-color: #d4ebff;}#sk-container-id-1 input.sk-hidden--visually {border: 0;clip: rect(1px 1px 1px 1px);clip: rect(1px, 1px, 1px, 1px);height: 1px;margin: -1px;overflow: hidden;padding: 0;position: absolute;width: 1px;}#sk-container-id-1 div.sk-estimator {font-family: monospace;background-color: #f0f8ff;border: 1px dotted black;border-radius: 0.25em;box-sizing: border-box;margin-bottom: 0.5em;}#sk-container-id-1 div.sk-estimator:hover {background-color: #d4ebff;}#sk-container-id-1 div.sk-parallel-item::after {content: \"\";width: 100%;border-bottom: 1px solid gray;flex-grow: 1;}#sk-container-id-1 div.sk-label:hover label.sk-toggleable__label {background-color: #d4ebff;}#sk-container-id-1 div.sk-serial::before {content: \"\";position: absolute;border-left: 1px solid gray;box-sizing: border-box;top: 0;bottom: 0;left: 50%;z-index: 0;}#sk-container-id-1 div.sk-serial {display: flex;flex-direction: column;align-items: center;background-color: white;padding-right: 0.2em;padding-left: 0.2em;position: relative;}#sk-container-id-1 div.sk-item {position: relative;z-index: 1;}#sk-container-id-1 div.sk-parallel {display: flex;align-items: stretch;justify-content: center;background-color: white;position: relative;}#sk-container-id-1 div.sk-item::before, #sk-container-id-1 div.sk-parallel-item::before {content: \"\";position: absolute;border-left: 1px solid gray;box-sizing: border-box;top: 0;bottom: 0;left: 50%;z-index: -1;}#sk-container-id-1 div.sk-parallel-item {display: flex;flex-direction: column;z-index: 1;position: relative;background-color: white;}#sk-container-id-1 div.sk-parallel-item:first-child::after {align-self: flex-end;width: 50%;}#sk-container-id-1 div.sk-parallel-item:last-child::after {align-self: flex-start;width: 50%;}#sk-container-id-1 div.sk-parallel-item:only-child::after {width: 0;}#sk-container-id-1 div.sk-dashed-wrapped {border: 1px dashed gray;margin: 0 0.4em 0.5em 0.4em;box-sizing: border-box;padding-bottom: 0.4em;background-color: white;}#sk-container-id-1 div.sk-label label {font-family: monospace;font-weight: bold;display: inline-block;line-height: 1.2em;}#sk-container-id-1 div.sk-label-container {text-align: center;}#sk-container-id-1 div.sk-container {/* jupyter's `normalize.less` sets `[hidden] { display: none; }` but bootstrap.min.css set `[hidden] { display: none !important; }` so we also need the `!important` here to be able to override the default hidden behavior on the sphinx rendered scikit-learn.org. See: https://github.com/scikit-learn/scikit-learn/issues/21755 */display: inline-block !important;position: relative;}#sk-container-id-1 div.sk-text-repr-fallback {display: none;}</style><div id=\"sk-container-id-1\" class=\"sk-top-container\"><div class=\"sk-text-repr-fallback\"><pre>StackingClassifier(estimators=[(&#x27;ada&#x27;, AdaBoostClassifier(random_state=2186)),\n",
              "                               (&#x27;lr&#x27;,\n",
              "                                LogisticRegression(max_iter=1000,\n",
              "                                                   random_state=6664)),\n",
              "                               (&#x27;lda&#x27;, LinearDiscriminantAnalysis())],\n",
              "                   final_estimator=LogisticRegression(max_iter=1000,\n",
              "                                                      random_state=6664))</pre><b>In a Jupyter environment, please rerun this cell to show the HTML representation or trust the notebook. <br />On GitHub, the HTML representation is unable to render, please try loading this page with nbviewer.org.</b></div><div class=\"sk-container\" hidden><div class=\"sk-item sk-dashed-wrapped\"><div class=\"sk-label-container\"><div class=\"sk-label sk-toggleable\"><input class=\"sk-toggleable__control sk-hidden--visually\" id=\"sk-estimator-id-1\" type=\"checkbox\" ><label for=\"sk-estimator-id-1\" class=\"sk-toggleable__label sk-toggleable__label-arrow\">StackingClassifier</label><div class=\"sk-toggleable__content\"><pre>StackingClassifier(estimators=[(&#x27;ada&#x27;, AdaBoostClassifier(random_state=2186)),\n",
              "                               (&#x27;lr&#x27;,\n",
              "                                LogisticRegression(max_iter=1000,\n",
              "                                                   random_state=6664)),\n",
              "                               (&#x27;lda&#x27;, LinearDiscriminantAnalysis())],\n",
              "                   final_estimator=LogisticRegression(max_iter=1000,\n",
              "                                                      random_state=6664))</pre></div></div></div><div class=\"sk-serial\"><div class=\"sk-item\"><div class=\"sk-parallel\"><div class=\"sk-parallel-item\"><div class=\"sk-item\"><div class=\"sk-label-container\"><div class=\"sk-label sk-toggleable\"><label>ada</label></div></div><div class=\"sk-serial\"><div class=\"sk-item\"><div class=\"sk-estimator sk-toggleable\"><input class=\"sk-toggleable__control sk-hidden--visually\" id=\"sk-estimator-id-2\" type=\"checkbox\" ><label for=\"sk-estimator-id-2\" class=\"sk-toggleable__label sk-toggleable__label-arrow\">AdaBoostClassifier</label><div class=\"sk-toggleable__content\"><pre>AdaBoostClassifier(random_state=2186)</pre></div></div></div></div></div></div><div class=\"sk-parallel-item\"><div class=\"sk-item\"><div class=\"sk-label-container\"><div class=\"sk-label sk-toggleable\"><label>lr</label></div></div><div class=\"sk-serial\"><div class=\"sk-item\"><div class=\"sk-estimator sk-toggleable\"><input class=\"sk-toggleable__control sk-hidden--visually\" id=\"sk-estimator-id-3\" type=\"checkbox\" ><label for=\"sk-estimator-id-3\" class=\"sk-toggleable__label sk-toggleable__label-arrow\">LogisticRegression</label><div class=\"sk-toggleable__content\"><pre>LogisticRegression(max_iter=1000, random_state=6664)</pre></div></div></div></div></div></div><div class=\"sk-parallel-item\"><div class=\"sk-item\"><div class=\"sk-label-container\"><div class=\"sk-label sk-toggleable\"><label>lda</label></div></div><div class=\"sk-serial\"><div class=\"sk-item\"><div class=\"sk-estimator sk-toggleable\"><input class=\"sk-toggleable__control sk-hidden--visually\" id=\"sk-estimator-id-4\" type=\"checkbox\" ><label for=\"sk-estimator-id-4\" class=\"sk-toggleable__label sk-toggleable__label-arrow\">LinearDiscriminantAnalysis</label><div class=\"sk-toggleable__content\"><pre>LinearDiscriminantAnalysis()</pre></div></div></div></div></div></div></div></div><div class=\"sk-item\"><div class=\"sk-parallel\"><div class=\"sk-parallel-item\"><div class=\"sk-item\"><div class=\"sk-label-container\"><div class=\"sk-label sk-toggleable\"><label>final_estimator</label></div></div><div class=\"sk-serial\"><div class=\"sk-item\"><div class=\"sk-estimator sk-toggleable\"><input class=\"sk-toggleable__control sk-hidden--visually\" id=\"sk-estimator-id-5\" type=\"checkbox\" ><label for=\"sk-estimator-id-5\" class=\"sk-toggleable__label sk-toggleable__label-arrow\">LogisticRegression</label><div class=\"sk-toggleable__content\"><pre>LogisticRegression(max_iter=1000, random_state=6664)</pre></div></div></div></div></div></div></div></div></div></div></div></div>"
            ]
          },
          "metadata": {},
          "execution_count": 6
        }
      ]
    },
    {
      "cell_type": "markdown",
      "source": [
        "##**Resultado do modelo**"
      ],
      "metadata": {
        "id": "cE3ecWc9q0R9"
      }
    },
    {
      "cell_type": "code",
      "source": [
        "try:\n",
        "  y_pred = int(model.predict(input))\n",
        "\n",
        "  dic = {0:\"Adjuvante\",1:\"Neoadjuvante\"}\n",
        "\n",
        "  y_pred = dic[y_pred]\n",
        "\n",
        "  perc = str(model.predict_proba(input)[0][0]) + \" para o tratamento Adjuvante e \" + str(model.predict_proba(input)[0][1]) + \" para o tratamento Neoajduvante\"\n",
        "\n",
        "\n",
        "  print(\"O modelo sugere o tratamento\", y_pred ,\"\\nAcurácia:\",model.score(X,y), \"\\nProbabilidade dos tratamentos para este caso:\", perc)\n",
        "except:\n",
        "  print(\"Valor inserido inválido ou faltando\")"
      ],
      "metadata": {
        "colab": {
          "base_uri": "https://localhost:8080/"
        },
        "id": "jMP5XzasUXPM",
        "outputId": "7fad1a03-f5c9-49ee-c456-feda6e1b6413"
      },
      "execution_count": null,
      "outputs": [
        {
          "output_type": "stream",
          "name": "stdout",
          "text": [
            "O modelo sugere o tratamento Adjuvante \n",
            "Acurácia: 0.77420998980632 \n",
            "Probabilidade dos tratamentos para este caso: 0.5208323421297084 para o tratamento Adjuvante e 0.4791676578702916 para o tratamento Neoajduvante\n"
          ]
        }
      ]
    }
  ]
}